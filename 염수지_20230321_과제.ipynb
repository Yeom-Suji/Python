{
  "cells": [
    {
      "cell_type": "code",
      "execution_count": null,
      "id": "1097203b-c1af-42fe-a7a3-2e30470acbfd",
      "metadata": {
        "id": "1097203b-c1af-42fe-a7a3-2e30470acbfd"
      },
      "outputs": [],
      "source": [
        "! conda install -y seaborn"
      ]
    },
    {
      "cell_type": "code",
      "execution_count": null,
      "id": "6d4d198f-1515-41fe-8151-d45c5a51423d",
      "metadata": {
        "id": "6d4d198f-1515-41fe-8151-d45c5a51423d"
      },
      "outputs": [],
      "source": [
        "from IPython.display import Image\n",
        "import numpy as np\n",
        "import pandas as pd\n",
        "import seaborn as sns"
      ]
    },
    {
      "cell_type": "code",
      "execution_count": null,
      "id": "e4a76966-73f7-4c04-85b5-773e4a6ad817",
      "metadata": {
        "id": "e4a76966-73f7-4c04-85b5-773e4a6ad817"
      },
      "outputs": [],
      "source": [
        "from IPython.display import Image"
      ]
    },
    {
      "cell_type": "code",
      "execution_count": null,
      "id": "0bfdd29b-c402-4fd1-b0c3-da4af143ecb0",
      "metadata": {
        "id": "0bfdd29b-c402-4fd1-b0c3-da4af143ecb0"
      },
      "outputs": [],
      "source": [
        "df = sns.load_dataset(\"titanic\")\n",
        "df.head()"
      ]
    },
    {
      "cell_type": "code",
      "execution_count": null,
      "id": "11d796e3-3704-4c47-b29c-46849be641fa",
      "metadata": {
        "id": "11d796e3-3704-4c47-b29c-46849be641fa"
      },
      "outputs": [],
      "source": [
        "df.shape"
      ]
    },
    {
      "cell_type": "code",
      "execution_count": null,
      "id": "7c4184d7-6e61-4b87-b7e6-6457a3097277",
      "metadata": {
        "id": "7c4184d7-6e61-4b87-b7e6-6457a3097277"
      },
      "outputs": [],
      "source": [
        "df.columns"
      ]
    },
    {
      "cell_type": "code",
      "execution_count": null,
      "id": "3d2f6a85-a14f-4c6a-92ca-22399490bc58",
      "metadata": {
        "id": "3d2f6a85-a14f-4c6a-92ca-22399490bc58"
      },
      "outputs": [],
      "source": [
        "df.info()"
      ]
    },
    {
      "cell_type": "code",
      "execution_count": null,
      "id": "7ca0695f-fd9c-45c3-a823-a912b840a575",
      "metadata": {
        "id": "7ca0695f-fd9c-45c3-a823-a912b840a575"
      },
      "outputs": [],
      "source": [
        "df['embark_town'].value_counts()"
      ]
    },
    {
      "cell_type": "code",
      "execution_count": null,
      "id": "d51aaea8-0f87-4111-8184-87f4badbdff5",
      "metadata": {
        "id": "d51aaea8-0f87-4111-8184-87f4badbdff5"
      },
      "outputs": [],
      "source": [
        "tips.sort_values(['total_bill', 'tip'], ascending = False).head(10)"
      ]
    },
    {
      "cell_type": "code",
      "execution_count": null,
      "id": "06a00bd8-5520-4ca3-b36e-59a26b238dd0",
      "metadata": {
        "id": "06a00bd8-5520-4ca3-b36e-59a26b238dd0"
      },
      "outputs": [],
      "source": [
        "tst = tips.sort_values(['size', 'tip'], ascending = [False, True]).copy()"
      ]
    },
    {
      "cell_type": "code",
      "execution_count": null,
      "id": "6832e0ae-8854-40e0-8807-5898703ed524",
      "metadata": {
        "id": "6832e0ae-8854-40e0-8807-5898703ed524"
      },
      "outputs": [],
      "source": [
        "df['fare'] = round(df['fare'],1)"
      ]
    },
    {
      "cell_type": "code",
      "execution_count": null,
      "id": "45cc0c14-68f7-4dc8-84a8-18377459283f",
      "metadata": {
        "id": "45cc0c14-68f7-4dc8-84a8-18377459283f"
      },
      "outputs": [],
      "source": [
        "condition1 = df['age'] >= 30\n",
        "condition2 = df['who'] == 'man'\n",
        "\n",
        "\n",
        "df.loc[condition1 & condition2].sort_values(by = 'fare', ascending = False).head(10)"
      ]
    },
    {
      "cell_type": "code",
      "execution_count": null,
      "id": "1ea625e6-7421-4edb-8297-d8b55a43bcc4",
      "metadata": {
        "id": "1ea625e6-7421-4edb-8297-d8b55a43bcc4"
      },
      "outputs": [],
      "source": [
        "df['pclass'].astype('int32').head()"
      ]
    },
    {
      "cell_type": "code",
      "execution_count": null,
      "id": "dd5d9e13-2b8a-4614-83d9-dc5a75dd0d67",
      "metadata": {
        "id": "dd5d9e13-2b8a-4614-83d9-dc5a75dd0d67"
      },
      "outputs": [],
      "source": [
        "df['pclass'].astype('float').head() "
      ]
    },
    {
      "cell_type": "code",
      "execution_count": null,
      "id": "97732a8d-2c60-4ade-98fe-61785c325edd",
      "metadata": {
        "id": "97732a8d-2c60-4ade-98fe-61785c325edd"
      },
      "outputs": [],
      "source": [
        "df['pclass'].astype('str').head()"
      ]
    },
    {
      "cell_type": "code",
      "execution_count": null,
      "id": "e72be6a8-fa9a-4ce3-8365-0fa30390f34b",
      "metadata": {
        "id": "e72be6a8-fa9a-4ce3-8365-0fa30390f34b"
      },
      "outputs": [],
      "source": [
        "df.loc[:6, 'class':'deck']"
      ]
    },
    {
      "cell_type": "code",
      "execution_count": null,
      "id": "84d633fe-204b-4857-8e86-551a582436d9",
      "metadata": {
        "id": "84d633fe-204b-4857-8e86-551a582436d9"
      },
      "outputs": [],
      "source": [
        "# 조건1 정의\n",
        "cond1 = (df['fare'] > 30)\n",
        "\n",
        "# 조건2 정의\n",
        "cond2 = (df['who'] == 'woman')"
      ]
    },
    {
      "cell_type": "code",
      "execution_count": null,
      "id": "f3b39175-8c98-4c67-b28a-397481b41a9c",
      "metadata": {
        "id": "f3b39175-8c98-4c67-b28a-397481b41a9c"
      },
      "outputs": [],
      "source": [
        "df.loc[cond1 & cond2]"
      ]
    },
    {
      "cell_type": "code",
      "execution_count": null,
      "id": "4ad453bf-1309-42c0-bce8-1f6a3089ff57",
      "metadata": {
        "id": "4ad453bf-1309-42c0-bce8-1f6a3089ff57"
      },
      "outputs": [],
      "source": [
        "df.loc[cond1 | cond2]"
      ]
    },
    {
      "cell_type": "code",
      "execution_count": null,
      "id": "f710d140-733d-4a70-b356-36052130b5ed",
      "metadata": {
        "id": "f710d140-733d-4a70-b356-36052130b5ed"
      },
      "outputs": [],
      "source": [
        "sample = pd.DataFrame({'name': ['kim', 'lee', 'park', 'choi'], \n",
        "                        'age': [24, 27, 34, 19]\n",
        "                      })\n",
        "sample"
      ]
    },
    {
      "cell_type": "code",
      "execution_count": null,
      "id": "4b9aa52d-24fd-4e38-ab99-12ec48ea4559",
      "metadata": {
        "id": "4b9aa52d-24fd-4e38-ab99-12ec48ea4559"
      },
      "outputs": [],
      "source": [
        "sample['name'].isin(['kim', 'lee'])"
      ]
    },
    {
      "cell_type": "code",
      "execution_count": null,
      "id": "92759b76-78fb-455b-ab58-45f4c10219d5",
      "metadata": {
        "id": "92759b76-78fb-455b-ab58-45f4c10219d5"
      },
      "outputs": [],
      "source": [
        "sample.isin(['kim', 'lee'])"
      ]
    },
    {
      "cell_type": "code",
      "execution_count": null,
      "id": "d4a2a6cf-6350-4158-84fe-29bcc19f531e",
      "metadata": {
        "id": "d4a2a6cf-6350-4158-84fe-29bcc19f531e"
      },
      "outputs": [],
      "source": [
        "condition = sample['name'].isin(['kim', 'lee'])"
      ]
    },
    {
      "cell_type": "code",
      "execution_count": null,
      "id": "dd76b6e1-69d2-41b0-b104-faf21d365c92",
      "metadata": {
        "id": "dd76b6e1-69d2-41b0-b104-faf21d365c92"
      },
      "outputs": [],
      "source": [
        "sample.loc[condition]"
      ]
    },
    {
      "cell_type": "code",
      "execution_count": null,
      "id": "72c879cc-9212-4c67-a22a-0604cd43352d",
      "metadata": {
        "id": "72c879cc-9212-4c67-a22a-0604cd43352d"
      },
      "outputs": [],
      "source": [
        "df['embark_town'].value_counts()"
      ]
    },
    {
      "cell_type": "code",
      "execution_count": null,
      "id": "fc2e39b4-5025-4fcb-888b-01c842007737",
      "metadata": {
        "id": "fc2e39b4-5025-4fcb-888b-01c842007737"
      },
      "outputs": [],
      "source": [
        "df['who'].value_counts()"
      ]
    },
    {
      "cell_type": "code",
      "execution_count": null,
      "id": "e9f81f7d-7801-4b98-b26b-5015317f0899",
      "metadata": {
        "id": "e9f81f7d-7801-4b98-b26b-5015317f0899"
      },
      "outputs": [],
      "source": [
        "tips = sns.load_dataset('tips')\n",
        "tips.head()"
      ]
    },
    {
      "cell_type": "code",
      "execution_count": null,
      "id": "48c8e1b8-6167-422a-b69a-b858c1aa3d3c",
      "metadata": {
        "id": "48c8e1b8-6167-422a-b69a-b858c1aa3d3c"
      },
      "outputs": [],
      "source": [
        "tips.sort_values(['size', 'tip'], ascending=[False, True]).head(10)"
      ]
    },
    {
      "cell_type": "code",
      "execution_count": null,
      "id": "8de4f342-e01f-47f2-a978-720d56fbb06c",
      "metadata": {
        "id": "8de4f342-e01f-47f2-a978-720d56fbb06c"
      },
      "outputs": [],
      "source": [
        "df = sns.load_dataset(\"titanic\")\n",
        "df.head()"
      ]
    },
    {
      "cell_type": "code",
      "execution_count": null,
      "id": "60facb81-4558-40bd-8721-fb7d75c85e3b",
      "metadata": {
        "id": "60facb81-4558-40bd-8721-fb7d75c85e3b"
      },
      "outputs": [],
      "source": [
        "condition1 = (df['age'] >= 30)\n",
        "condition2 = (df['who'] == 'man')\n",
        "df.loc[condition1 & condition2].sort_values(by='fare', ascending=False).head(10)"
      ]
    }
  ],
  "metadata": {
    "kernelspec": {
      "display_name": "Python 3 (ipykernel)",
      "language": "python",
      "name": "python3"
    },
    "language_info": {
      "codemirror_mode": {
        "name": "ipython",
        "version": 3
      },
      "file_extension": ".py",
      "mimetype": "text/x-python",
      "name": "python",
      "nbconvert_exporter": "python",
      "pygments_lexer": "ipython3",
      "version": "3.10.9"
    },
    "colab": {
      "provenance": []
    }
  },
  "nbformat": 4,
  "nbformat_minor": 5
}