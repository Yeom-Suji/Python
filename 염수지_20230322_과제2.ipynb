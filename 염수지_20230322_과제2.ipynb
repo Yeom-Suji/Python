{
  "cells": [
    {
      "cell_type": "markdown",
      "id": "382e2e31-dce5-4a42-a35a-1b3bf1cbd897",
      "metadata": {
        "id": "382e2e31-dce5-4a42-a35a-1b3bf1cbd897"
      },
      "source": [
        "# 판다스 연습 튜토리얼 20-43 / 100"
      ]
    },
    {
      "cell_type": "markdown",
      "id": "3cd7b7a4-4a1e-4805-9b0c-b41a30c0a6fd",
      "metadata": {
        "id": "3cd7b7a4-4a1e-4805-9b0c-b41a30c0a6fd"
      },
      "source": [
        "목차 및 구성 출처 : https://github.com/guipsamora/pandas_exercises\n"
      ]
    },
    {
      "cell_type": "code",
      "execution_count": null,
      "id": "8e7fb41d-bbfa-4a10-bf6c-807b2b015dcf",
      "metadata": {
        "ExecuteTime": {
          "end_time": "2022-02-19T18:22:27.096949Z",
          "start_time": "2022-02-19T18:22:26.651425Z"
        },
        "id": "8e7fb41d-bbfa-4a10-bf6c-807b2b015dcf"
      },
      "outputs": [],
      "source": [
        "import pandas as pd"
      ]
    },
    {
      "cell_type": "markdown",
      "id": "2b1cb2a6-713f-4255-9092-6e214a7bd0c6",
      "metadata": {
        "id": "2b1cb2a6-713f-4255-9092-6e214a7bd0c6"
      },
      "source": [
        "# 02 Filtering & Sorting"
      ]
    },
    {
      "cell_type": "markdown",
      "id": "efd30375-6bb6-4a83-89a2-6d75e71ca248",
      "metadata": {
        "id": "efd30375-6bb6-4a83-89a2-6d75e71ca248"
      },
      "source": [
        "## 식당데이터\n",
        " - https://github.com/justmarkham/DAT8/blob/master/data/chipotle.tsv  \n",
        " - data url: 'https://raw.githubusercontent.com/Datamanim/pandas/main/chipo.csv'\n"
      ]
    },
    {
      "cell_type": "markdown",
      "id": "a1206c02-5da7-48a5-a6a1-8466ff0606a6",
      "metadata": {
        "id": "a1206c02-5da7-48a5-a6a1-8466ff0606a6"
      },
      "source": [
        "### Question 20\n",
        "\n",
        "**식당 데이터를 로드하자.**\n"
      ]
    },
    {
      "cell_type": "code",
      "execution_count": null,
      "id": "3a004867-3991-429e-a8f1-85a7423fddab",
      "metadata": {
        "ExecuteTime": {
          "end_time": "2022-02-19T18:22:28.169580Z",
          "start_time": "2022-02-19T18:22:28.118547Z"
        },
        "id": "3a004867-3991-429e-a8f1-85a7423fddab",
        "outputId": "bec992a0-82f2-4d60-816e-c45b3eeba4a8"
      },
      "outputs": [
        {
          "data": {
            "text/html": [
              "<div>\n",
              "<style scoped>\n",
              "    .dataframe tbody tr th:only-of-type {\n",
              "        vertical-align: middle;\n",
              "    }\n",
              "\n",
              "    .dataframe tbody tr th {\n",
              "        vertical-align: top;\n",
              "    }\n",
              "\n",
              "    .dataframe thead th {\n",
              "        text-align: right;\n",
              "    }\n",
              "</style>\n",
              "<table border=\"1\" class=\"dataframe\">\n",
              "  <thead>\n",
              "    <tr style=\"text-align: right;\">\n",
              "      <th></th>\n",
              "      <th>order_id</th>\n",
              "      <th>quantity</th>\n",
              "      <th>item_name</th>\n",
              "      <th>choice_description</th>\n",
              "      <th>item_price</th>\n",
              "    </tr>\n",
              "  </thead>\n",
              "  <tbody>\n",
              "    <tr>\n",
              "      <th>0</th>\n",
              "      <td>1</td>\n",
              "      <td>1</td>\n",
              "      <td>Chips and Fresh Tomato Salsa</td>\n",
              "      <td>NaN</td>\n",
              "      <td>$2.39</td>\n",
              "    </tr>\n",
              "    <tr>\n",
              "      <th>1</th>\n",
              "      <td>1</td>\n",
              "      <td>1</td>\n",
              "      <td>Izze</td>\n",
              "      <td>[Clementine]</td>\n",
              "      <td>$3.39</td>\n",
              "    </tr>\n",
              "    <tr>\n",
              "      <th>2</th>\n",
              "      <td>1</td>\n",
              "      <td>1</td>\n",
              "      <td>Nantucket Nectar</td>\n",
              "      <td>[Apple]</td>\n",
              "      <td>$3.39</td>\n",
              "    </tr>\n",
              "    <tr>\n",
              "      <th>3</th>\n",
              "      <td>1</td>\n",
              "      <td>1</td>\n",
              "      <td>Chips and Tomatillo-Green Chili Salsa</td>\n",
              "      <td>NaN</td>\n",
              "      <td>$2.39</td>\n",
              "    </tr>\n",
              "    <tr>\n",
              "      <th>4</th>\n",
              "      <td>2</td>\n",
              "      <td>2</td>\n",
              "      <td>Chicken Bowl</td>\n",
              "      <td>[Tomatillo-Red Chili Salsa (Hot), [Black Beans...</td>\n",
              "      <td>$16.98</td>\n",
              "    </tr>\n",
              "  </tbody>\n",
              "</table>\n",
              "</div>"
            ],
            "text/plain": [
              "   order_id  quantity                              item_name  \\\n",
              "0         1         1           Chips and Fresh Tomato Salsa   \n",
              "1         1         1                                   Izze   \n",
              "2         1         1                       Nantucket Nectar   \n",
              "3         1         1  Chips and Tomatillo-Green Chili Salsa   \n",
              "4         2         2                           Chicken Bowl   \n",
              "\n",
              "                                  choice_description item_price  \n",
              "0                                                NaN     $2.39   \n",
              "1                                       [Clementine]     $3.39   \n",
              "2                                            [Apple]     $3.39   \n",
              "3                                                NaN     $2.39   \n",
              "4  [Tomatillo-Red Chili Salsa (Hot), [Black Beans...    $16.98   "
            ]
          },
          "execution_count": 3,
          "metadata": {},
          "output_type": "execute_result"
        }
      ],
      "source": [
        "df = pd.read_csv('https://raw.githubusercontent.com/Datamanim/pandas/main/chipo.csv')\n",
        "df.head()\n",
        "\n"
      ]
    },
    {
      "cell_type": "code",
      "execution_count": null,
      "id": "cf22ca96-bc2f-4bd9-a873-3b722e1c3c18",
      "metadata": {
        "id": "cf22ca96-bc2f-4bd9-a873-3b722e1c3c18"
      },
      "outputs": [],
      "source": []
    },
    {
      "cell_type": "markdown",
      "id": "ac7e1f1a-9c1b-48c0-800a-8f65a49fda64",
      "metadata": {
        "id": "ac7e1f1a-9c1b-48c0-800a-8f65a49fda64"
      },
      "source": [
        "식당 데이터에서 quantity 칼럽의 중복하지 않는 값을 출력해 보자"
      ]
    },
    {
      "cell_type": "code",
      "execution_count": null,
      "id": "8a8d95bd-f155-467d-a80e-6f0ad4ae4f6e",
      "metadata": {
        "id": "8a8d95bd-f155-467d-a80e-6f0ad4ae4f6e",
        "outputId": "7d59c8f4-a4a6-4c2e-e1a8-6f321632f0f2"
      },
      "outputs": [
        {
          "data": {
            "text/plain": [
              "array([ 1,  2,  3,  4,  5, 15,  7,  8, 10])"
            ]
          },
          "execution_count": 49,
          "metadata": {},
          "output_type": "execute_result"
        }
      ],
      "source": [
        "df['quantity'].unique()\n",
        "\n"
      ]
    },
    {
      "cell_type": "markdown",
      "id": "70c22a35-d823-4160-bdec-c378b57a58dc",
      "metadata": {
        "id": "70c22a35-d823-4160-bdec-c378b57a58dc"
      },
      "source": [
        "식당 데이터에서 quantity 칼럼의 중복하지 않는 각 값의 개수를 출력해 보자"
      ]
    },
    {
      "cell_type": "code",
      "execution_count": null,
      "id": "b01ac52b-2f11-4e05-b17d-9613bdf83854",
      "metadata": {
        "id": "b01ac52b-2f11-4e05-b17d-9613bdf83854",
        "outputId": "bfaa50e2-6ef1-42aa-b93d-ad4a5bda9a37"
      },
      "outputs": [
        {
          "data": {
            "text/plain": [
              "1     4355\n",
              "2      224\n",
              "3       28\n",
              "4       10\n",
              "5        1\n",
              "15       1\n",
              "7        1\n",
              "8        1\n",
              "10       1\n",
              "Name: quantity, dtype: int64"
            ]
          },
          "execution_count": 52,
          "metadata": {},
          "output_type": "execute_result"
        }
      ],
      "source": [
        "df['quantity'].value_counts()\n",
        "\n"
      ]
    },
    {
      "cell_type": "markdown",
      "id": "d2b3613d-b58f-4e53-9348-32f7c4b3b192",
      "metadata": {
        "id": "d2b3613d-b58f-4e53-9348-32f7c4b3b192"
      },
      "source": [
        "### Question 21\n",
        "\n",
        "**quantity 컬럼 값이 5 보다 큰 값을 찾아서 결과를 5행만 출력하라**\n"
      ]
    },
    {
      "cell_type": "code",
      "execution_count": null,
      "id": "18f60f89-a2e3-4292-a474-59abfe405add",
      "metadata": {
        "ExecuteTime": {
          "end_time": "2022-02-19T18:22:28.179428Z",
          "start_time": "2022-02-19T18:22:28.176010Z"
        },
        "tags": [
          "hide-input"
        ],
        "id": "18f60f89-a2e3-4292-a474-59abfe405add"
      },
      "outputs": [],
      "source": [
        "df[df['quantity'] >= 5].head(5)\n",
        "\n"
      ]
    },
    {
      "cell_type": "code",
      "execution_count": null,
      "id": "bc088944-1ce7-45fe-b6c9-e73373823cf0",
      "metadata": {
        "ExecuteTime": {
          "end_time": "2022-02-19T18:22:28.189147Z",
          "start_time": "2022-02-19T18:22:28.181147Z"
        },
        "id": "bc088944-1ce7-45fe-b6c9-e73373823cf0",
        "outputId": "0ea80e05-20f8-4f3a-8c0e-a3dc1c8ef662"
      },
      "outputs": [
        {
          "data": {
            "text/html": [
              "<div>\n",
              "<style scoped>\n",
              "    .dataframe tbody tr th:only-of-type {\n",
              "        vertical-align: middle;\n",
              "    }\n",
              "\n",
              "    .dataframe tbody tr th {\n",
              "        vertical-align: top;\n",
              "    }\n",
              "\n",
              "    .dataframe thead th {\n",
              "        text-align: right;\n",
              "    }\n",
              "</style>\n",
              "<table border=\"1\" class=\"dataframe\">\n",
              "  <thead>\n",
              "    <tr style=\"text-align: right;\">\n",
              "      <th></th>\n",
              "      <th>order_id</th>\n",
              "      <th>quantity</th>\n",
              "      <th>item_name</th>\n",
              "      <th>choice_description</th>\n",
              "      <th>item_price</th>\n",
              "    </tr>\n",
              "  </thead>\n",
              "  <tbody>\n",
              "    <tr>\n",
              "      <th>2441</th>\n",
              "      <td>970</td>\n",
              "      <td>5</td>\n",
              "      <td>Bottled Water</td>\n",
              "      <td>NaN</td>\n",
              "      <td>$7.50</td>\n",
              "    </tr>\n",
              "    <tr>\n",
              "      <th>3598</th>\n",
              "      <td>1443</td>\n",
              "      <td>15</td>\n",
              "      <td>Chips and Fresh Tomato Salsa</td>\n",
              "      <td>NaN</td>\n",
              "      <td>$44.25</td>\n",
              "    </tr>\n",
              "    <tr>\n",
              "      <th>3599</th>\n",
              "      <td>1443</td>\n",
              "      <td>7</td>\n",
              "      <td>Bottled Water</td>\n",
              "      <td>NaN</td>\n",
              "      <td>$10.50</td>\n",
              "    </tr>\n",
              "    <tr>\n",
              "      <th>3887</th>\n",
              "      <td>1559</td>\n",
              "      <td>8</td>\n",
              "      <td>Side of Chips</td>\n",
              "      <td>NaN</td>\n",
              "      <td>$13.52</td>\n",
              "    </tr>\n",
              "    <tr>\n",
              "      <th>4152</th>\n",
              "      <td>1660</td>\n",
              "      <td>10</td>\n",
              "      <td>Bottled Water</td>\n",
              "      <td>NaN</td>\n",
              "      <td>$15.00</td>\n",
              "    </tr>\n",
              "  </tbody>\n",
              "</table>\n",
              "</div>"
            ],
            "text/plain": [
              "      order_id  quantity                     item_name choice_description  \\\n",
              "2441       970         5                 Bottled Water                NaN   \n",
              "3598      1443        15  Chips and Fresh Tomato Salsa                NaN   \n",
              "3599      1443         7                 Bottled Water                NaN   \n",
              "3887      1559         8                 Side of Chips                NaN   \n",
              "4152      1660        10                 Bottled Water                NaN   \n",
              "\n",
              "     item_price  \n",
              "2441     $7.50   \n",
              "3598    $44.25   \n",
              "3599    $10.50   \n",
              "3887    $13.52   \n",
              "4152    $15.00   "
            ]
          },
          "execution_count": 51,
          "metadata": {},
          "output_type": "execute_result"
        }
      ],
      "source": [
        "Ans"
      ]
    },
    {
      "cell_type": "markdown",
      "id": "d5eb8bfb-5255-476c-b76b-10b31c45739f",
      "metadata": {
        "id": "d5eb8bfb-5255-476c-b76b-10b31c45739f"
      },
      "source": [
        "### Question 22\n",
        "**quantity컬럼 값이 3인 데이터를 추출하여 index를 0부터 정렬하고 첫 5행을 출력하라**\n",
        "\n"
      ]
    },
    {
      "cell_type": "code",
      "execution_count": null,
      "id": "50f6b867-22e5-4d09-bc82-d39d3c772d42",
      "metadata": {
        "ExecuteTime": {
          "end_time": "2022-02-19T18:22:28.193938Z",
          "start_time": "2022-02-19T18:22:28.190836Z"
        },
        "tags": [
          "hide-input"
        ],
        "id": "50f6b867-22e5-4d09-bc82-d39d3c772d42"
      },
      "outputs": [],
      "source": [
        "df[df['quantity'] == 3].sort_index().head(5)\n",
        "\n"
      ]
    },
    {
      "cell_type": "code",
      "execution_count": null,
      "id": "ae47b7d2-99b2-4333-a873-56e49aac9a7b",
      "metadata": {
        "ExecuteTime": {
          "end_time": "2022-02-19T18:22:28.201865Z",
          "start_time": "2022-02-19T18:22:28.195411Z"
        },
        "id": "ae47b7d2-99b2-4333-a873-56e49aac9a7b",
        "outputId": "250a5242-d783-4bf8-81f3-668874b8ce1c"
      },
      "outputs": [
        {
          "data": {
            "text/html": [
              "<div>\n",
              "<style scoped>\n",
              "    .dataframe tbody tr th:only-of-type {\n",
              "        vertical-align: middle;\n",
              "    }\n",
              "\n",
              "    .dataframe tbody tr th {\n",
              "        vertical-align: top;\n",
              "    }\n",
              "\n",
              "    .dataframe thead th {\n",
              "        text-align: right;\n",
              "    }\n",
              "</style>\n",
              "<table border=\"1\" class=\"dataframe\">\n",
              "  <thead>\n",
              "    <tr style=\"text-align: right;\">\n",
              "      <th></th>\n",
              "      <th>order_id</th>\n",
              "      <th>quantity</th>\n",
              "      <th>item_name</th>\n",
              "      <th>choice_description</th>\n",
              "      <th>item_price</th>\n",
              "    </tr>\n",
              "  </thead>\n",
              "  <tbody>\n",
              "    <tr>\n",
              "      <th>409</th>\n",
              "      <td>178</td>\n",
              "      <td>3</td>\n",
              "      <td>Chicken Bowl</td>\n",
              "      <td>[[Fresh Tomato Salsa (Mild), Tomatillo-Green C...</td>\n",
              "      <td>$32.94</td>\n",
              "    </tr>\n",
              "    <tr>\n",
              "      <th>445</th>\n",
              "      <td>193</td>\n",
              "      <td>3</td>\n",
              "      <td>Bowl</td>\n",
              "      <td>[Braised Carnitas, Pinto Beans, [Sour Cream, C...</td>\n",
              "      <td>$22.20</td>\n",
              "    </tr>\n",
              "    <tr>\n",
              "      <th>689</th>\n",
              "      <td>284</td>\n",
              "      <td>3</td>\n",
              "      <td>Canned Soft Drink</td>\n",
              "      <td>[Diet Coke]</td>\n",
              "      <td>$3.75</td>\n",
              "    </tr>\n",
              "    <tr>\n",
              "      <th>818</th>\n",
              "      <td>338</td>\n",
              "      <td>3</td>\n",
              "      <td>Bottled Water</td>\n",
              "      <td>NaN</td>\n",
              "      <td>$3.27</td>\n",
              "    </tr>\n",
              "    <tr>\n",
              "      <th>850</th>\n",
              "      <td>350</td>\n",
              "      <td>3</td>\n",
              "      <td>Canned Soft Drink</td>\n",
              "      <td>[Sprite]</td>\n",
              "      <td>$3.75</td>\n",
              "    </tr>\n",
              "  </tbody>\n",
              "</table>\n",
              "</div>"
            ],
            "text/plain": [
              "     order_id  quantity          item_name  \\\n",
              "409       178         3       Chicken Bowl   \n",
              "445       193         3               Bowl   \n",
              "689       284         3  Canned Soft Drink   \n",
              "818       338         3      Bottled Water   \n",
              "850       350         3  Canned Soft Drink   \n",
              "\n",
              "                                    choice_description item_price  \n",
              "409  [[Fresh Tomato Salsa (Mild), Tomatillo-Green C...    $32.94   \n",
              "445  [Braised Carnitas, Pinto Beans, [Sour Cream, C...    $22.20   \n",
              "689                                        [Diet Coke]     $3.75   \n",
              "818                                                NaN     $3.27   \n",
              "850                                           [Sprite]     $3.75   "
            ]
          },
          "execution_count": 57,
          "metadata": {},
          "output_type": "execute_result"
        }
      ],
      "source": [
        "Ans"
      ]
    },
    {
      "cell_type": "markdown",
      "id": "79362eb2-3bdc-464d-b148-d737d1ed1b99",
      "metadata": {
        "id": "79362eb2-3bdc-464d-b148-d737d1ed1b99"
      },
      "source": [
        "결과에서 index 를 0 부터 사용하도록 하자. 단 기존 인덱스 값은 제거한다."
      ]
    },
    {
      "cell_type": "code",
      "execution_count": null,
      "id": "f19429cb-f82c-4280-a75b-a5d4e55e17c4",
      "metadata": {
        "id": "f19429cb-f82c-4280-a75b-a5d4e55e17c4",
        "outputId": "fd89380a-6be2-450e-c7d0-f2bf46bba2e3"
      },
      "outputs": [
        {
          "data": {
            "text/html": [
              "<div>\n",
              "<style scoped>\n",
              "    .dataframe tbody tr th:only-of-type {\n",
              "        vertical-align: middle;\n",
              "    }\n",
              "\n",
              "    .dataframe tbody tr th {\n",
              "        vertical-align: top;\n",
              "    }\n",
              "\n",
              "    .dataframe thead th {\n",
              "        text-align: right;\n",
              "    }\n",
              "</style>\n",
              "<table border=\"1\" class=\"dataframe\">\n",
              "  <thead>\n",
              "    <tr style=\"text-align: right;\">\n",
              "      <th></th>\n",
              "      <th>order_id</th>\n",
              "      <th>quantity</th>\n",
              "      <th>item_name</th>\n",
              "      <th>choice_description</th>\n",
              "      <th>item_price</th>\n",
              "    </tr>\n",
              "  </thead>\n",
              "  <tbody>\n",
              "    <tr>\n",
              "      <th>0</th>\n",
              "      <td>178</td>\n",
              "      <td>3</td>\n",
              "      <td>Chicken Bowl</td>\n",
              "      <td>[[Fresh Tomato Salsa (Mild), Tomatillo-Green C...</td>\n",
              "      <td>$32.94</td>\n",
              "    </tr>\n",
              "    <tr>\n",
              "      <th>1</th>\n",
              "      <td>193</td>\n",
              "      <td>3</td>\n",
              "      <td>Bowl</td>\n",
              "      <td>[Braised Carnitas, Pinto Beans, [Sour Cream, C...</td>\n",
              "      <td>$22.20</td>\n",
              "    </tr>\n",
              "    <tr>\n",
              "      <th>2</th>\n",
              "      <td>284</td>\n",
              "      <td>3</td>\n",
              "      <td>Canned Soft Drink</td>\n",
              "      <td>[Diet Coke]</td>\n",
              "      <td>$3.75</td>\n",
              "    </tr>\n",
              "    <tr>\n",
              "      <th>3</th>\n",
              "      <td>338</td>\n",
              "      <td>3</td>\n",
              "      <td>Bottled Water</td>\n",
              "      <td>NaN</td>\n",
              "      <td>$3.27</td>\n",
              "    </tr>\n",
              "    <tr>\n",
              "      <th>4</th>\n",
              "      <td>350</td>\n",
              "      <td>3</td>\n",
              "      <td>Canned Soft Drink</td>\n",
              "      <td>[Sprite]</td>\n",
              "      <td>$3.75</td>\n",
              "    </tr>\n",
              "  </tbody>\n",
              "</table>\n",
              "</div>"
            ],
            "text/plain": [
              "   order_id  quantity          item_name  \\\n",
              "0       178         3       Chicken Bowl   \n",
              "1       193         3               Bowl   \n",
              "2       284         3  Canned Soft Drink   \n",
              "3       338         3      Bottled Water   \n",
              "4       350         3  Canned Soft Drink   \n",
              "\n",
              "                                  choice_description item_price  \n",
              "0  [[Fresh Tomato Salsa (Mild), Tomatillo-Green C...    $32.94   \n",
              "1  [Braised Carnitas, Pinto Beans, [Sour Cream, C...    $22.20   \n",
              "2                                        [Diet Coke]     $3.75   \n",
              "3                                                NaN     $3.27   \n",
              "4                                           [Sprite]     $3.75   "
            ]
          },
          "execution_count": 59,
          "metadata": {},
          "output_type": "execute_result"
        }
      ],
      "source": [
        "df[df['quantity'] == 3].sort_index().head(5).reset_index().drop(columns='index')"
      ]
    },
    {
      "cell_type": "markdown",
      "id": "c779e0e6-e5ae-4d39-a2bd-05aeacd17a65",
      "metadata": {
        "id": "c779e0e6-e5ae-4d39-a2bd-05aeacd17a65"
      },
      "source": [
        "### Question 23\n",
        "\n",
        "**quantity , item_price 두개의 컬럼을 새로운 데이터 프레임으로 저장한다**\n"
      ]
    },
    {
      "cell_type": "code",
      "execution_count": null,
      "id": "283acf9e-3a86-49cc-a100-e05c5374e807",
      "metadata": {
        "ExecuteTime": {
          "end_time": "2022-02-19T18:22:28.205882Z",
          "start_time": "2022-02-19T18:22:28.203031Z"
        },
        "tags": [
          "hide-input"
        ],
        "id": "283acf9e-3a86-49cc-a100-e05c5374e807"
      },
      "outputs": [],
      "source": [
        "df_qi = df[['quantity','item_price']].copy()\n",
        "df_qi\n",
        "\n"
      ]
    },
    {
      "cell_type": "code",
      "execution_count": null,
      "id": "bc42e78a-e5d3-461d-b859-7f85da4298ce",
      "metadata": {
        "ExecuteTime": {
          "end_time": "2022-02-19T18:22:28.213596Z",
          "start_time": "2022-02-19T18:22:28.207212Z"
        },
        "id": "bc42e78a-e5d3-461d-b859-7f85da4298ce",
        "outputId": "0be267e2-64db-4a4f-d94d-a4b8c7ff66d6"
      },
      "outputs": [
        {
          "data": {
            "text/html": [
              "<div>\n",
              "<style scoped>\n",
              "    .dataframe tbody tr th:only-of-type {\n",
              "        vertical-align: middle;\n",
              "    }\n",
              "\n",
              "    .dataframe tbody tr th {\n",
              "        vertical-align: top;\n",
              "    }\n",
              "\n",
              "    .dataframe thead th {\n",
              "        text-align: right;\n",
              "    }\n",
              "</style>\n",
              "<table border=\"1\" class=\"dataframe\">\n",
              "  <thead>\n",
              "    <tr style=\"text-align: right;\">\n",
              "      <th></th>\n",
              "      <th>quantity</th>\n",
              "      <th>item_price</th>\n",
              "    </tr>\n",
              "  </thead>\n",
              "  <tbody>\n",
              "    <tr>\n",
              "      <th>0</th>\n",
              "      <td>1</td>\n",
              "      <td>$2.39</td>\n",
              "    </tr>\n",
              "    <tr>\n",
              "      <th>1</th>\n",
              "      <td>1</td>\n",
              "      <td>$3.39</td>\n",
              "    </tr>\n",
              "    <tr>\n",
              "      <th>2</th>\n",
              "      <td>1</td>\n",
              "      <td>$3.39</td>\n",
              "    </tr>\n",
              "    <tr>\n",
              "      <th>3</th>\n",
              "      <td>1</td>\n",
              "      <td>$2.39</td>\n",
              "    </tr>\n",
              "    <tr>\n",
              "      <th>4</th>\n",
              "      <td>2</td>\n",
              "      <td>$16.98</td>\n",
              "    </tr>\n",
              "    <tr>\n",
              "      <th>...</th>\n",
              "      <td>...</td>\n",
              "      <td>...</td>\n",
              "    </tr>\n",
              "    <tr>\n",
              "      <th>4617</th>\n",
              "      <td>1</td>\n",
              "      <td>$11.75</td>\n",
              "    </tr>\n",
              "    <tr>\n",
              "      <th>4618</th>\n",
              "      <td>1</td>\n",
              "      <td>$11.75</td>\n",
              "    </tr>\n",
              "    <tr>\n",
              "      <th>4619</th>\n",
              "      <td>1</td>\n",
              "      <td>$11.25</td>\n",
              "    </tr>\n",
              "    <tr>\n",
              "      <th>4620</th>\n",
              "      <td>1</td>\n",
              "      <td>$8.75</td>\n",
              "    </tr>\n",
              "    <tr>\n",
              "      <th>4621</th>\n",
              "      <td>1</td>\n",
              "      <td>$8.75</td>\n",
              "    </tr>\n",
              "  </tbody>\n",
              "</table>\n",
              "<p>4622 rows × 2 columns</p>\n",
              "</div>"
            ],
            "text/plain": [
              "      quantity item_price\n",
              "0            1     $2.39 \n",
              "1            1     $3.39 \n",
              "2            1     $3.39 \n",
              "3            1     $2.39 \n",
              "4            2    $16.98 \n",
              "...        ...        ...\n",
              "4617         1    $11.75 \n",
              "4618         1    $11.75 \n",
              "4619         1    $11.25 \n",
              "4620         1     $8.75 \n",
              "4621         1     $8.75 \n",
              "\n",
              "[4622 rows x 2 columns]"
            ]
          },
          "execution_count": 61,
          "metadata": {},
          "output_type": "execute_result"
        }
      ],
      "source": [
        "Ans"
      ]
    },
    {
      "cell_type": "markdown",
      "id": "501247af-ccbb-4de4-bc83-0d09e85bc481",
      "metadata": {
        "id": "501247af-ccbb-4de4-bc83-0d09e85bc481"
      },
      "source": [
        "### Question 24\n",
        "\n",
        "**item_price 컬럼의 중복하지 않은 값만 출력하자**"
      ]
    },
    {
      "cell_type": "code",
      "execution_count": null,
      "id": "2babce06-6146-4db2-9f54-209e7f2f1967",
      "metadata": {
        "id": "2babce06-6146-4db2-9f54-209e7f2f1967",
        "outputId": "f414eb2a-e815-45b7-87d8-ce9a207815d5"
      },
      "outputs": [
        {
          "data": {
            "text/plain": [
              "array(['$2.39 ', '$3.39 ', '$16.98 ', '$10.98 ', '$1.69 ', '$11.75 ',\n",
              "       '$9.25 ', '$4.45 ', '$8.75 ', '$11.25 ', '$8.49 ', '$2.18 ',\n",
              "       '$8.99 ', '$1.09 ', '$2.95 ', '$2.15 ', '$3.99 ', '$22.50 ',\n",
              "       '$11.48 ', '$17.98 ', '$17.50 ', '$4.30 ', '$5.90 ', '$1.25 ',\n",
              "       '$23.78 ', '$6.49 ', '$11.08 ', '$1.50 ', '$22.16 ', '$32.94 ',\n",
              "       '$22.20 ', '$10.58 ', '$2.50 ', '$23.50 ', '$7.40 ', '$18.50 ',\n",
              "       '$3.00 ', '$6.78 ', '$11.89 ', '$9.39 ', '$4.00 ', '$3.75 ',\n",
              "       '$8.69 ', '$2.29 ', '$8.90 ', '$3.27 ', '$3.89 ', '$8.19 ',\n",
              "       '$35.00 ', '$27.75 ', '$11.80 ', '$6.00 ', '$26.25 ', '$21.96 ',\n",
              "       '$4.36 ', '$7.50 ', '$4.78 ', '$13.35 ', '$6.45 ', '$5.07 ',\n",
              "       '$22.96 ', '$7.17 ', '$7.98 ', '$4.50 ', '$26.07 ', '$12.98 ',\n",
              "       '$35.25 ', '$44.25 ', '$10.50 ', '$33.75 ', '$16.38 ', '$13.52 ',\n",
              "       '$5.00 ', '$15.00 ', '$8.50 ', '$17.80 ', '$1.99 ', '$11.49 '],\n",
              "      dtype=object)"
            ]
          },
          "execution_count": 62,
          "metadata": {},
          "output_type": "execute_result"
        }
      ],
      "source": [
        "df_qi['item_price'].unique()\n",
        "\n"
      ]
    },
    {
      "cell_type": "markdown",
      "id": "337ccf36-5e95-4d30-86d0-af5385c13245",
      "metadata": {
        "id": "337ccf36-5e95-4d30-86d0-af5385c13245"
      },
      "source": [
        "**item_price 컬럼의 달러표시 문자를 제거하고 float 타입으로 저장하여 new_price 컬럼에 저장하라**"
      ]
    },
    {
      "cell_type": "code",
      "execution_count": null,
      "id": "45a0a5a6-b570-4f4d-bac8-352e8dc69d1e",
      "metadata": {
        "ExecuteTime": {
          "end_time": "2022-02-19T18:22:28.219871Z",
          "start_time": "2022-02-19T18:22:28.214962Z"
        },
        "tags": [
          "hide-input"
        ],
        "id": "45a0a5a6-b570-4f4d-bac8-352e8dc69d1e"
      },
      "outputs": [],
      "source": [
        "df_qi['new_price'] = df_qi['item_price'].str.replace('$','').astype('float')\n",
        "df_qi\n",
        "\n"
      ]
    },
    {
      "cell_type": "code",
      "execution_count": null,
      "id": "e561d108-2941-4e3f-a567-3524f643a55f",
      "metadata": {
        "ExecuteTime": {
          "end_time": "2022-02-19T18:22:28.224612Z",
          "start_time": "2022-02-19T18:22:28.221271Z"
        },
        "id": "e561d108-2941-4e3f-a567-3524f643a55f",
        "outputId": "c9237167-f474-438a-b065-0d580ca4cce4"
      },
      "outputs": [
        {
          "data": {
            "text/plain": [
              "0     2.39\n",
              "1     3.39\n",
              "2     3.39\n",
              "3     2.39\n",
              "4    16.98\n",
              "Name: new_price, dtype: float64"
            ]
          },
          "execution_count": 65,
          "metadata": {},
          "output_type": "execute_result"
        }
      ],
      "source": [
        "Ans"
      ]
    },
    {
      "cell_type": "markdown",
      "id": "e891ca13-eca5-4a35-8792-41d66ec93f65",
      "metadata": {
        "id": "e891ca13-eca5-4a35-8792-41d66ec93f65"
      },
      "source": [
        "### Question 25\n",
        "\n",
        "**new_price 컬럼이 5이하의 값을 가지는 데이터프레임을 추출하고, 행의 갯수를 구하여라**\n",
        " - shape 이용"
      ]
    },
    {
      "cell_type": "code",
      "execution_count": null,
      "id": "ce8bad15-f0c4-4cc5-869e-26b7b7863c8c",
      "metadata": {
        "id": "ce8bad15-f0c4-4cc5-869e-26b7b7863c8c",
        "outputId": "1fca66fb-fa97-435a-da3d-ea657a1087fa"
      },
      "outputs": [
        {
          "data": {
            "text/plain": [
              "1652"
            ]
          },
          "execution_count": 69,
          "metadata": {},
          "output_type": "execute_result"
        }
      ],
      "source": [
        "df_qi[df_qi['new_price'] <= 5].shape[0]\n",
        "\n"
      ]
    },
    {
      "cell_type": "markdown",
      "id": "987810af-2a13-4fd6-b5c5-d43428643a46",
      "metadata": {
        "id": "987810af-2a13-4fd6-b5c5-d43428643a46"
      },
      "source": [
        "파이썬 len 을 사용해서 new_price 컬럼이 5이하의 값의 개수를 출력하지"
      ]
    },
    {
      "cell_type": "code",
      "execution_count": null,
      "id": "b252b299-6c2f-4a88-8606-cabeded648fc",
      "metadata": {
        "ExecuteTime": {
          "end_time": "2022-02-19T18:22:28.228697Z",
          "start_time": "2022-02-19T18:22:28.225894Z"
        },
        "tags": [
          "hide-input"
        ],
        "id": "b252b299-6c2f-4a88-8606-cabeded648fc",
        "outputId": "03b63a2b-c286-45dc-ebb8-1a47924bf56a"
      },
      "outputs": [
        {
          "name": "stdout",
          "output_type": "stream",
          "text": [
            "1652\n"
          ]
        }
      ],
      "source": [
        "len(df_qi['new_price'] <= 5)\n",
        "\n"
      ]
    },
    {
      "cell_type": "markdown",
      "id": "5c4c3350-2135-47c2-90b7-4361a4b13638",
      "metadata": {
        "id": "5c4c3350-2135-47c2-90b7-4361a4b13638"
      },
      "source": [
        "### Question 26\n",
        "**item_name명이 Chicken Salad Bowl 인 데이터 프레임을 추출하자**\n"
      ]
    },
    {
      "cell_type": "code",
      "execution_count": null,
      "id": "59e06c4b-8070-430d-bf5e-aceaf393a2bd",
      "metadata": {
        "id": "59e06c4b-8070-430d-bf5e-aceaf393a2bd",
        "outputId": "37560dc0-adda-4952-be40-18feac54ccf7"
      },
      "outputs": [
        {
          "data": {
            "text/html": [
              "<div>\n",
              "<style scoped>\n",
              "    .dataframe tbody tr th:only-of-type {\n",
              "        vertical-align: middle;\n",
              "    }\n",
              "\n",
              "    .dataframe tbody tr th {\n",
              "        vertical-align: top;\n",
              "    }\n",
              "\n",
              "    .dataframe thead th {\n",
              "        text-align: right;\n",
              "    }\n",
              "</style>\n",
              "<table border=\"1\" class=\"dataframe\">\n",
              "  <thead>\n",
              "    <tr style=\"text-align: right;\">\n",
              "      <th></th>\n",
              "      <th>order_id</th>\n",
              "      <th>quantity</th>\n",
              "      <th>item_name</th>\n",
              "      <th>choice_description</th>\n",
              "      <th>item_price</th>\n",
              "      <th>new_price</th>\n",
              "    </tr>\n",
              "  </thead>\n",
              "  <tbody>\n",
              "    <tr>\n",
              "      <th>44</th>\n",
              "      <td>20</td>\n",
              "      <td>1</td>\n",
              "      <td>Chicken Salad Bowl</td>\n",
              "      <td>[Fresh Tomato Salsa, [Fajita Vegetables, Pinto...</td>\n",
              "      <td>$8.75</td>\n",
              "      <td>8.75</td>\n",
              "    </tr>\n",
              "    <tr>\n",
              "      <th>135</th>\n",
              "      <td>60</td>\n",
              "      <td>2</td>\n",
              "      <td>Chicken Salad Bowl</td>\n",
              "      <td>[Tomatillo Green Chili Salsa, [Sour Cream, Che...</td>\n",
              "      <td>$22.50</td>\n",
              "      <td>22.50</td>\n",
              "    </tr>\n",
              "    <tr>\n",
              "      <th>213</th>\n",
              "      <td>94</td>\n",
              "      <td>2</td>\n",
              "      <td>Chicken Salad Bowl</td>\n",
              "      <td>[Fresh Tomato Salsa, [Fajita Vegetables, Pinto...</td>\n",
              "      <td>$22.50</td>\n",
              "      <td>22.50</td>\n",
              "    </tr>\n",
              "    <tr>\n",
              "      <th>256</th>\n",
              "      <td>111</td>\n",
              "      <td>1</td>\n",
              "      <td>Chicken Salad Bowl</td>\n",
              "      <td>[Fresh Tomato Salsa, [Fajita Vegetables, Rice,...</td>\n",
              "      <td>$8.75</td>\n",
              "      <td>8.75</td>\n",
              "    </tr>\n",
              "    <tr>\n",
              "      <th>315</th>\n",
              "      <td>137</td>\n",
              "      <td>2</td>\n",
              "      <td>Chicken Salad Bowl</td>\n",
              "      <td>[Fresh Tomato Salsa, Fajita Vegetables]</td>\n",
              "      <td>$17.50</td>\n",
              "      <td>17.50</td>\n",
              "    </tr>\n",
              "    <tr>\n",
              "      <th>...</th>\n",
              "      <td>...</td>\n",
              "      <td>...</td>\n",
              "      <td>...</td>\n",
              "      <td>...</td>\n",
              "      <td>...</td>\n",
              "      <td>...</td>\n",
              "    </tr>\n",
              "    <tr>\n",
              "      <th>4561</th>\n",
              "      <td>1813</td>\n",
              "      <td>2</td>\n",
              "      <td>Chicken Salad Bowl</td>\n",
              "      <td>[Fresh Tomato Salsa, [Fajita Vegetables, Pinto...</td>\n",
              "      <td>$17.50</td>\n",
              "      <td>17.50</td>\n",
              "    </tr>\n",
              "    <tr>\n",
              "      <th>4580</th>\n",
              "      <td>1822</td>\n",
              "      <td>1</td>\n",
              "      <td>Chicken Salad Bowl</td>\n",
              "      <td>[Fresh Tomato Salsa, [Black Beans, Cheese, Gua...</td>\n",
              "      <td>$11.25</td>\n",
              "      <td>11.25</td>\n",
              "    </tr>\n",
              "    <tr>\n",
              "      <th>4619</th>\n",
              "      <td>1834</td>\n",
              "      <td>1</td>\n",
              "      <td>Chicken Salad Bowl</td>\n",
              "      <td>[Fresh Tomato Salsa, [Fajita Vegetables, Pinto...</td>\n",
              "      <td>$11.25</td>\n",
              "      <td>11.25</td>\n",
              "    </tr>\n",
              "    <tr>\n",
              "      <th>4620</th>\n",
              "      <td>1834</td>\n",
              "      <td>1</td>\n",
              "      <td>Chicken Salad Bowl</td>\n",
              "      <td>[Fresh Tomato Salsa, [Fajita Vegetables, Lettu...</td>\n",
              "      <td>$8.75</td>\n",
              "      <td>8.75</td>\n",
              "    </tr>\n",
              "    <tr>\n",
              "      <th>4621</th>\n",
              "      <td>1834</td>\n",
              "      <td>1</td>\n",
              "      <td>Chicken Salad Bowl</td>\n",
              "      <td>[Fresh Tomato Salsa, [Fajita Vegetables, Pinto...</td>\n",
              "      <td>$8.75</td>\n",
              "      <td>8.75</td>\n",
              "    </tr>\n",
              "  </tbody>\n",
              "</table>\n",
              "<p>110 rows × 6 columns</p>\n",
              "</div>"
            ],
            "text/plain": [
              "      order_id  quantity           item_name  \\\n",
              "44          20         1  Chicken Salad Bowl   \n",
              "135         60         2  Chicken Salad Bowl   \n",
              "213         94         2  Chicken Salad Bowl   \n",
              "256        111         1  Chicken Salad Bowl   \n",
              "315        137         2  Chicken Salad Bowl   \n",
              "...        ...       ...                 ...   \n",
              "4561      1813         2  Chicken Salad Bowl   \n",
              "4580      1822         1  Chicken Salad Bowl   \n",
              "4619      1834         1  Chicken Salad Bowl   \n",
              "4620      1834         1  Chicken Salad Bowl   \n",
              "4621      1834         1  Chicken Salad Bowl   \n",
              "\n",
              "                                     choice_description item_price  new_price  \n",
              "44    [Fresh Tomato Salsa, [Fajita Vegetables, Pinto...     $8.75        8.75  \n",
              "135   [Tomatillo Green Chili Salsa, [Sour Cream, Che...    $22.50       22.50  \n",
              "213   [Fresh Tomato Salsa, [Fajita Vegetables, Pinto...    $22.50       22.50  \n",
              "256   [Fresh Tomato Salsa, [Fajita Vegetables, Rice,...     $8.75        8.75  \n",
              "315             [Fresh Tomato Salsa, Fajita Vegetables]    $17.50       17.50  \n",
              "...                                                 ...        ...        ...  \n",
              "4561  [Fresh Tomato Salsa, [Fajita Vegetables, Pinto...    $17.50       17.50  \n",
              "4580  [Fresh Tomato Salsa, [Black Beans, Cheese, Gua...    $11.25       11.25  \n",
              "4619  [Fresh Tomato Salsa, [Fajita Vegetables, Pinto...    $11.25       11.25  \n",
              "4620  [Fresh Tomato Salsa, [Fajita Vegetables, Lettu...     $8.75        8.75  \n",
              "4621  [Fresh Tomato Salsa, [Fajita Vegetables, Pinto...     $8.75        8.75  \n",
              "\n",
              "[110 rows x 6 columns]"
            ]
          },
          "execution_count": 72,
          "metadata": {},
          "output_type": "execute_result"
        }
      ],
      "source": [
        "df['new_price'] = df['item_price'].str.replace('$','').copy()\n",
        "df\n",
        "\n"
      ]
    },
    {
      "cell_type": "markdown",
      "id": "6b804182-b1a1-442f-a3fd-c1f03c444980",
      "metadata": {
        "id": "6b804182-b1a1-442f-a3fd-c1f03c444980"
      },
      "source": [
        "결과에서 **index 값을 초기화 해서 인덱스를 0부터 시작하도록 한다. 그리고  Ans 에 저장한다.**"
      ]
    },
    {
      "cell_type": "code",
      "execution_count": null,
      "id": "4ac93b72-adf2-439f-97fe-1a007ae38e4d",
      "metadata": {
        "ExecuteTime": {
          "end_time": "2022-02-19T18:22:28.237178Z",
          "start_time": "2022-02-19T18:22:28.233959Z"
        },
        "tags": [
          "hide-input"
        ],
        "id": "4ac93b72-adf2-439f-97fe-1a007ae38e4d",
        "outputId": "9174978d-b74e-4e23-e261-dd0bbd1463fa"
      },
      "outputs": [
        {
          "data": {
            "text/html": [
              "<div>\n",
              "<style scoped>\n",
              "    .dataframe tbody tr th:only-of-type {\n",
              "        vertical-align: middle;\n",
              "    }\n",
              "\n",
              "    .dataframe tbody tr th {\n",
              "        vertical-align: top;\n",
              "    }\n",
              "\n",
              "    .dataframe thead th {\n",
              "        text-align: right;\n",
              "    }\n",
              "</style>\n",
              "<table border=\"1\" class=\"dataframe\">\n",
              "  <thead>\n",
              "    <tr style=\"text-align: right;\">\n",
              "      <th></th>\n",
              "      <th>order_id</th>\n",
              "      <th>quantity</th>\n",
              "      <th>item_name</th>\n",
              "      <th>choice_description</th>\n",
              "      <th>item_price</th>\n",
              "      <th>new_price</th>\n",
              "    </tr>\n",
              "  </thead>\n",
              "  <tbody>\n",
              "    <tr>\n",
              "      <th>0</th>\n",
              "      <td>20</td>\n",
              "      <td>1</td>\n",
              "      <td>Chicken Salad Bowl</td>\n",
              "      <td>[Fresh Tomato Salsa, [Fajita Vegetables, Pinto...</td>\n",
              "      <td>$8.75</td>\n",
              "      <td>8.75</td>\n",
              "    </tr>\n",
              "    <tr>\n",
              "      <th>1</th>\n",
              "      <td>60</td>\n",
              "      <td>2</td>\n",
              "      <td>Chicken Salad Bowl</td>\n",
              "      <td>[Tomatillo Green Chili Salsa, [Sour Cream, Che...</td>\n",
              "      <td>$22.50</td>\n",
              "      <td>22.50</td>\n",
              "    </tr>\n",
              "    <tr>\n",
              "      <th>2</th>\n",
              "      <td>94</td>\n",
              "      <td>2</td>\n",
              "      <td>Chicken Salad Bowl</td>\n",
              "      <td>[Fresh Tomato Salsa, [Fajita Vegetables, Pinto...</td>\n",
              "      <td>$22.50</td>\n",
              "      <td>22.50</td>\n",
              "    </tr>\n",
              "    <tr>\n",
              "      <th>3</th>\n",
              "      <td>111</td>\n",
              "      <td>1</td>\n",
              "      <td>Chicken Salad Bowl</td>\n",
              "      <td>[Fresh Tomato Salsa, [Fajita Vegetables, Rice,...</td>\n",
              "      <td>$8.75</td>\n",
              "      <td>8.75</td>\n",
              "    </tr>\n",
              "    <tr>\n",
              "      <th>4</th>\n",
              "      <td>137</td>\n",
              "      <td>2</td>\n",
              "      <td>Chicken Salad Bowl</td>\n",
              "      <td>[Fresh Tomato Salsa, Fajita Vegetables]</td>\n",
              "      <td>$17.50</td>\n",
              "      <td>17.50</td>\n",
              "    </tr>\n",
              "    <tr>\n",
              "      <th>...</th>\n",
              "      <td>...</td>\n",
              "      <td>...</td>\n",
              "      <td>...</td>\n",
              "      <td>...</td>\n",
              "      <td>...</td>\n",
              "      <td>...</td>\n",
              "    </tr>\n",
              "    <tr>\n",
              "      <th>105</th>\n",
              "      <td>1813</td>\n",
              "      <td>2</td>\n",
              "      <td>Chicken Salad Bowl</td>\n",
              "      <td>[Fresh Tomato Salsa, [Fajita Vegetables, Pinto...</td>\n",
              "      <td>$17.50</td>\n",
              "      <td>17.50</td>\n",
              "    </tr>\n",
              "    <tr>\n",
              "      <th>106</th>\n",
              "      <td>1822</td>\n",
              "      <td>1</td>\n",
              "      <td>Chicken Salad Bowl</td>\n",
              "      <td>[Fresh Tomato Salsa, [Black Beans, Cheese, Gua...</td>\n",
              "      <td>$11.25</td>\n",
              "      <td>11.25</td>\n",
              "    </tr>\n",
              "    <tr>\n",
              "      <th>107</th>\n",
              "      <td>1834</td>\n",
              "      <td>1</td>\n",
              "      <td>Chicken Salad Bowl</td>\n",
              "      <td>[Fresh Tomato Salsa, [Fajita Vegetables, Pinto...</td>\n",
              "      <td>$11.25</td>\n",
              "      <td>11.25</td>\n",
              "    </tr>\n",
              "    <tr>\n",
              "      <th>108</th>\n",
              "      <td>1834</td>\n",
              "      <td>1</td>\n",
              "      <td>Chicken Salad Bowl</td>\n",
              "      <td>[Fresh Tomato Salsa, [Fajita Vegetables, Lettu...</td>\n",
              "      <td>$8.75</td>\n",
              "      <td>8.75</td>\n",
              "    </tr>\n",
              "    <tr>\n",
              "      <th>109</th>\n",
              "      <td>1834</td>\n",
              "      <td>1</td>\n",
              "      <td>Chicken Salad Bowl</td>\n",
              "      <td>[Fresh Tomato Salsa, [Fajita Vegetables, Pinto...</td>\n",
              "      <td>$8.75</td>\n",
              "      <td>8.75</td>\n",
              "    </tr>\n",
              "  </tbody>\n",
              "</table>\n",
              "<p>110 rows × 6 columns</p>\n",
              "</div>"
            ],
            "text/plain": [
              "     order_id  quantity           item_name  \\\n",
              "0          20         1  Chicken Salad Bowl   \n",
              "1          60         2  Chicken Salad Bowl   \n",
              "2          94         2  Chicken Salad Bowl   \n",
              "3         111         1  Chicken Salad Bowl   \n",
              "4         137         2  Chicken Salad Bowl   \n",
              "..        ...       ...                 ...   \n",
              "105      1813         2  Chicken Salad Bowl   \n",
              "106      1822         1  Chicken Salad Bowl   \n",
              "107      1834         1  Chicken Salad Bowl   \n",
              "108      1834         1  Chicken Salad Bowl   \n",
              "109      1834         1  Chicken Salad Bowl   \n",
              "\n",
              "                                    choice_description item_price  new_price  \n",
              "0    [Fresh Tomato Salsa, [Fajita Vegetables, Pinto...     $8.75        8.75  \n",
              "1    [Tomatillo Green Chili Salsa, [Sour Cream, Che...    $22.50       22.50  \n",
              "2    [Fresh Tomato Salsa, [Fajita Vegetables, Pinto...    $22.50       22.50  \n",
              "3    [Fresh Tomato Salsa, [Fajita Vegetables, Rice,...     $8.75        8.75  \n",
              "4              [Fresh Tomato Salsa, Fajita Vegetables]    $17.50       17.50  \n",
              "..                                                 ...        ...        ...  \n",
              "105  [Fresh Tomato Salsa, [Fajita Vegetables, Pinto...    $17.50       17.50  \n",
              "106  [Fresh Tomato Salsa, [Black Beans, Cheese, Gua...    $11.25       11.25  \n",
              "107  [Fresh Tomato Salsa, [Fajita Vegetables, Pinto...    $11.25       11.25  \n",
              "108  [Fresh Tomato Salsa, [Fajita Vegetables, Lettu...     $8.75        8.75  \n",
              "109  [Fresh Tomato Salsa, [Fajita Vegetables, Pinto...     $8.75        8.75  \n",
              "\n",
              "[110 rows x 6 columns]"
            ]
          },
          "execution_count": 74,
          "metadata": {},
          "output_type": "execute_result"
        }
      ],
      "source": [
        "df[df['item_name'] == 'Chicken Salad Bowl']\n",
        "\n"
      ]
    },
    {
      "cell_type": "markdown",
      "id": "b6f86146-dc9b-4d1d-9fd2-b243307e6955",
      "metadata": {
        "id": "b6f86146-dc9b-4d1d-9fd2-b243307e6955"
      },
      "source": [
        "item_name명이 `Steak Burrito` 인 데이터 프레임을 추출해서 Burito에 저장한다.\n"
      ]
    },
    {
      "cell_type": "code",
      "execution_count": null,
      "id": "31be96cb-d5c8-4b2f-afcc-d835d35d47b1",
      "metadata": {
        "id": "31be96cb-d5c8-4b2f-afcc-d835d35d47b1",
        "outputId": "f156ff6c-c3d4-426b-98b6-575cda7d4c62"
      },
      "outputs": [
        {
          "data": {
            "text/html": [
              "<div>\n",
              "<style scoped>\n",
              "    .dataframe tbody tr th:only-of-type {\n",
              "        vertical-align: middle;\n",
              "    }\n",
              "\n",
              "    .dataframe tbody tr th {\n",
              "        vertical-align: top;\n",
              "    }\n",
              "\n",
              "    .dataframe thead th {\n",
              "        text-align: right;\n",
              "    }\n",
              "</style>\n",
              "<table border=\"1\" class=\"dataframe\">\n",
              "  <thead>\n",
              "    <tr style=\"text-align: right;\">\n",
              "      <th></th>\n",
              "      <th>order_id</th>\n",
              "      <th>quantity</th>\n",
              "      <th>item_name</th>\n",
              "      <th>choice_description</th>\n",
              "      <th>item_price</th>\n",
              "      <th>new_price</th>\n",
              "    </tr>\n",
              "  </thead>\n",
              "  <tbody>\n",
              "    <tr>\n",
              "      <th>7</th>\n",
              "      <td>4</td>\n",
              "      <td>1</td>\n",
              "      <td>Steak Burrito</td>\n",
              "      <td>[Tomatillo Red Chili Salsa, [Fajita Vegetables...</td>\n",
              "      <td>$11.75</td>\n",
              "      <td>11.75</td>\n",
              "    </tr>\n",
              "    <tr>\n",
              "      <th>9</th>\n",
              "      <td>5</td>\n",
              "      <td>1</td>\n",
              "      <td>Steak Burrito</td>\n",
              "      <td>[Fresh Tomato Salsa, [Rice, Black Beans, Pinto...</td>\n",
              "      <td>$9.25</td>\n",
              "      <td>9.25</td>\n",
              "    </tr>\n",
              "    <tr>\n",
              "      <th>31</th>\n",
              "      <td>16</td>\n",
              "      <td>1</td>\n",
              "      <td>Steak Burrito</td>\n",
              "      <td>[[Roasted Chili Corn Salsa (Medium), Fresh Tom...</td>\n",
              "      <td>$8.99</td>\n",
              "      <td>8.99</td>\n",
              "    </tr>\n",
              "    <tr>\n",
              "      <th>43</th>\n",
              "      <td>20</td>\n",
              "      <td>1</td>\n",
              "      <td>Steak Burrito</td>\n",
              "      <td>[Fresh Tomato Salsa, [Rice, Pinto Beans, Chees...</td>\n",
              "      <td>$11.75</td>\n",
              "      <td>11.75</td>\n",
              "    </tr>\n",
              "    <tr>\n",
              "      <th>46</th>\n",
              "      <td>21</td>\n",
              "      <td>1</td>\n",
              "      <td>Steak Burrito</td>\n",
              "      <td>[Tomatillo-Red Chili Salsa (Hot), [Rice, Fajit...</td>\n",
              "      <td>$8.99</td>\n",
              "      <td>8.99</td>\n",
              "    </tr>\n",
              "    <tr>\n",
              "      <th>...</th>\n",
              "      <td>...</td>\n",
              "      <td>...</td>\n",
              "      <td>...</td>\n",
              "      <td>...</td>\n",
              "      <td>...</td>\n",
              "      <td>...</td>\n",
              "    </tr>\n",
              "    <tr>\n",
              "      <th>4546</th>\n",
              "      <td>1807</td>\n",
              "      <td>1</td>\n",
              "      <td>Steak Burrito</td>\n",
              "      <td>[Fresh Tomato Salsa, [Rice, Black Beans, Cheese]]</td>\n",
              "      <td>$9.25</td>\n",
              "      <td>9.25</td>\n",
              "    </tr>\n",
              "    <tr>\n",
              "      <th>4607</th>\n",
              "      <td>1829</td>\n",
              "      <td>1</td>\n",
              "      <td>Steak Burrito</td>\n",
              "      <td>[Tomatillo Green Chili Salsa, [Rice, Cheese, S...</td>\n",
              "      <td>$11.75</td>\n",
              "      <td>11.75</td>\n",
              "    </tr>\n",
              "    <tr>\n",
              "      <th>4610</th>\n",
              "      <td>1830</td>\n",
              "      <td>1</td>\n",
              "      <td>Steak Burrito</td>\n",
              "      <td>[Fresh Tomato Salsa, [Rice, Sour Cream, Cheese...</td>\n",
              "      <td>$11.75</td>\n",
              "      <td>11.75</td>\n",
              "    </tr>\n",
              "    <tr>\n",
              "      <th>4617</th>\n",
              "      <td>1833</td>\n",
              "      <td>1</td>\n",
              "      <td>Steak Burrito</td>\n",
              "      <td>[Fresh Tomato Salsa, [Rice, Black Beans, Sour ...</td>\n",
              "      <td>$11.75</td>\n",
              "      <td>11.75</td>\n",
              "    </tr>\n",
              "    <tr>\n",
              "      <th>4618</th>\n",
              "      <td>1833</td>\n",
              "      <td>1</td>\n",
              "      <td>Steak Burrito</td>\n",
              "      <td>[Fresh Tomato Salsa, [Rice, Sour Cream, Cheese...</td>\n",
              "      <td>$11.75</td>\n",
              "      <td>11.75</td>\n",
              "    </tr>\n",
              "  </tbody>\n",
              "</table>\n",
              "<p>368 rows × 6 columns</p>\n",
              "</div>"
            ],
            "text/plain": [
              "      order_id  quantity      item_name  \\\n",
              "7            4         1  Steak Burrito   \n",
              "9            5         1  Steak Burrito   \n",
              "31          16         1  Steak Burrito   \n",
              "43          20         1  Steak Burrito   \n",
              "46          21         1  Steak Burrito   \n",
              "...        ...       ...            ...   \n",
              "4546      1807         1  Steak Burrito   \n",
              "4607      1829         1  Steak Burrito   \n",
              "4610      1830         1  Steak Burrito   \n",
              "4617      1833         1  Steak Burrito   \n",
              "4618      1833         1  Steak Burrito   \n",
              "\n",
              "                                     choice_description item_price  new_price  \n",
              "7     [Tomatillo Red Chili Salsa, [Fajita Vegetables...    $11.75       11.75  \n",
              "9     [Fresh Tomato Salsa, [Rice, Black Beans, Pinto...     $9.25        9.25  \n",
              "31    [[Roasted Chili Corn Salsa (Medium), Fresh Tom...     $8.99        8.99  \n",
              "43    [Fresh Tomato Salsa, [Rice, Pinto Beans, Chees...    $11.75       11.75  \n",
              "46    [Tomatillo-Red Chili Salsa (Hot), [Rice, Fajit...     $8.99        8.99  \n",
              "...                                                 ...        ...        ...  \n",
              "4546  [Fresh Tomato Salsa, [Rice, Black Beans, Cheese]]     $9.25        9.25  \n",
              "4607  [Tomatillo Green Chili Salsa, [Rice, Cheese, S...    $11.75       11.75  \n",
              "4610  [Fresh Tomato Salsa, [Rice, Sour Cream, Cheese...    $11.75       11.75  \n",
              "4617  [Fresh Tomato Salsa, [Rice, Black Beans, Sour ...    $11.75       11.75  \n",
              "4618  [Fresh Tomato Salsa, [Rice, Sour Cream, Cheese...    $11.75       11.75  \n",
              "\n",
              "[368 rows x 6 columns]"
            ]
          },
          "execution_count": 78,
          "metadata": {},
          "output_type": "execute_result"
        }
      ],
      "source": [
        "\n",
        "\n"
      ]
    },
    {
      "cell_type": "markdown",
      "id": "82018c21-fc36-4297-ac8a-08ceee9a9be3",
      "metadata": {
        "id": "82018c21-fc36-4297-ac8a-08ceee9a9be3"
      },
      "source": [
        "Burito 의 index 값을 초기화 해서 인덱스를 0부터 시작하는데 inplace 를 사용해서 Burito 객체에 바로 적용하게 하고 앞에서 10개를 출력한다\n"
      ]
    },
    {
      "cell_type": "code",
      "execution_count": null,
      "id": "b0a7f823-18fb-4da9-9834-3e02d6c8ec21",
      "metadata": {
        "id": "b0a7f823-18fb-4da9-9834-3e02d6c8ec21",
        "outputId": "2d151e85-26bd-4f5c-e686-a3cf5462af7c"
      },
      "outputs": [
        {
          "data": {
            "text/html": [
              "<div>\n",
              "<style scoped>\n",
              "    .dataframe tbody tr th:only-of-type {\n",
              "        vertical-align: middle;\n",
              "    }\n",
              "\n",
              "    .dataframe tbody tr th {\n",
              "        vertical-align: top;\n",
              "    }\n",
              "\n",
              "    .dataframe thead th {\n",
              "        text-align: right;\n",
              "    }\n",
              "</style>\n",
              "<table border=\"1\" class=\"dataframe\">\n",
              "  <thead>\n",
              "    <tr style=\"text-align: right;\">\n",
              "      <th></th>\n",
              "      <th>order_id</th>\n",
              "      <th>quantity</th>\n",
              "      <th>item_name</th>\n",
              "      <th>choice_description</th>\n",
              "      <th>item_price</th>\n",
              "      <th>new_price</th>\n",
              "    </tr>\n",
              "  </thead>\n",
              "  <tbody>\n",
              "    <tr>\n",
              "      <th>0</th>\n",
              "      <td>4</td>\n",
              "      <td>1</td>\n",
              "      <td>Steak Burrito</td>\n",
              "      <td>[Tomatillo Red Chili Salsa, [Fajita Vegetables...</td>\n",
              "      <td>$11.75</td>\n",
              "      <td>11.75</td>\n",
              "    </tr>\n",
              "    <tr>\n",
              "      <th>1</th>\n",
              "      <td>5</td>\n",
              "      <td>1</td>\n",
              "      <td>Steak Burrito</td>\n",
              "      <td>[Fresh Tomato Salsa, [Rice, Black Beans, Pinto...</td>\n",
              "      <td>$9.25</td>\n",
              "      <td>9.25</td>\n",
              "    </tr>\n",
              "    <tr>\n",
              "      <th>2</th>\n",
              "      <td>16</td>\n",
              "      <td>1</td>\n",
              "      <td>Steak Burrito</td>\n",
              "      <td>[[Roasted Chili Corn Salsa (Medium), Fresh Tom...</td>\n",
              "      <td>$8.99</td>\n",
              "      <td>8.99</td>\n",
              "    </tr>\n",
              "    <tr>\n",
              "      <th>3</th>\n",
              "      <td>20</td>\n",
              "      <td>1</td>\n",
              "      <td>Steak Burrito</td>\n",
              "      <td>[Fresh Tomato Salsa, [Rice, Pinto Beans, Chees...</td>\n",
              "      <td>$11.75</td>\n",
              "      <td>11.75</td>\n",
              "    </tr>\n",
              "    <tr>\n",
              "      <th>4</th>\n",
              "      <td>21</td>\n",
              "      <td>1</td>\n",
              "      <td>Steak Burrito</td>\n",
              "      <td>[Tomatillo-Red Chili Salsa (Hot), [Rice, Fajit...</td>\n",
              "      <td>$8.99</td>\n",
              "      <td>8.99</td>\n",
              "    </tr>\n",
              "  </tbody>\n",
              "</table>\n",
              "</div>"
            ],
            "text/plain": [
              "   order_id  quantity      item_name  \\\n",
              "0         4         1  Steak Burrito   \n",
              "1         5         1  Steak Burrito   \n",
              "2        16         1  Steak Burrito   \n",
              "3        20         1  Steak Burrito   \n",
              "4        21         1  Steak Burrito   \n",
              "\n",
              "                                  choice_description item_price  new_price  \n",
              "0  [Tomatillo Red Chili Salsa, [Fajita Vegetables...    $11.75       11.75  \n",
              "1  [Fresh Tomato Salsa, [Rice, Black Beans, Pinto...     $9.25        9.25  \n",
              "2  [[Roasted Chili Corn Salsa (Medium), Fresh Tom...     $8.99        8.99  \n",
              "3  [Fresh Tomato Salsa, [Rice, Pinto Beans, Chees...    $11.75       11.75  \n",
              "4  [Tomatillo-Red Chili Salsa (Hot), [Rice, Fajit...     $8.99        8.99  "
            ]
          },
          "execution_count": 79,
          "metadata": {},
          "output_type": "execute_result"
        }
      ],
      "source": [
        "Ans = df[df['item_name'] == 'Chicken Salad Bowl'].reset_index()\n",
        "Ans = Ans.drop(columns = 'index')\n",
        "Ans\n"
      ]
    },
    {
      "cell_type": "markdown",
      "id": "4caa1f5e-96c3-4c8c-90ab-700a5116542a",
      "metadata": {
        "id": "4caa1f5e-96c3-4c8c-90ab-700a5116542a"
      },
      "source": [
        "### Question 27\n",
        "\n",
        "**new_price값이 9 이하이고 item_name 값이 Chicken Salad Bowl 인 데이터 프레임을 추출하라**\n"
      ]
    },
    {
      "cell_type": "code",
      "execution_count": null,
      "id": "6c9a3aaf-8942-4541-96aa-4dccb8ee6fdc",
      "metadata": {
        "ExecuteTime": {
          "end_time": "2022-02-19T18:22:28.250097Z",
          "start_time": "2022-02-19T18:22:28.246827Z"
        },
        "tags": [
          "hide-input"
        ],
        "id": "6c9a3aaf-8942-4541-96aa-4dccb8ee6fdc"
      },
      "outputs": [],
      "source": [
        "df['new_price'] = df['new_price'].astype('float')\n",
        "df.dtypes\n",
        "\n"
      ]
    },
    {
      "cell_type": "code",
      "execution_count": null,
      "id": "a070c4a2-c92e-4d3c-81b4-1725c4afe47a",
      "metadata": {
        "ExecuteTime": {
          "end_time": "2022-02-19T18:22:28.258646Z",
          "start_time": "2022-02-19T18:22:28.251423Z"
        },
        "id": "a070c4a2-c92e-4d3c-81b4-1725c4afe47a",
        "outputId": "0f977e47-1ccd-4439-bdf8-b88cc915c60a"
      },
      "outputs": [
        {
          "data": {
            "text/html": [
              "<div>\n",
              "<style scoped>\n",
              "    .dataframe tbody tr th:only-of-type {\n",
              "        vertical-align: middle;\n",
              "    }\n",
              "\n",
              "    .dataframe tbody tr th {\n",
              "        vertical-align: top;\n",
              "    }\n",
              "\n",
              "    .dataframe thead th {\n",
              "        text-align: right;\n",
              "    }\n",
              "</style>\n",
              "<table border=\"1\" class=\"dataframe\">\n",
              "  <thead>\n",
              "    <tr style=\"text-align: right;\">\n",
              "      <th></th>\n",
              "      <th>order_id</th>\n",
              "      <th>quantity</th>\n",
              "      <th>item_name</th>\n",
              "      <th>choice_description</th>\n",
              "      <th>item_price</th>\n",
              "      <th>new_price</th>\n",
              "    </tr>\n",
              "  </thead>\n",
              "  <tbody>\n",
              "    <tr>\n",
              "      <th>44</th>\n",
              "      <td>20</td>\n",
              "      <td>1</td>\n",
              "      <td>Chicken Salad Bowl</td>\n",
              "      <td>[Fresh Tomato Salsa, [Fajita Vegetables, Pinto...</td>\n",
              "      <td>$8.75</td>\n",
              "      <td>8.75</td>\n",
              "    </tr>\n",
              "    <tr>\n",
              "      <th>256</th>\n",
              "      <td>111</td>\n",
              "      <td>1</td>\n",
              "      <td>Chicken Salad Bowl</td>\n",
              "      <td>[Fresh Tomato Salsa, [Fajita Vegetables, Rice,...</td>\n",
              "      <td>$8.75</td>\n",
              "      <td>8.75</td>\n",
              "    </tr>\n",
              "    <tr>\n",
              "      <th>526</th>\n",
              "      <td>220</td>\n",
              "      <td>1</td>\n",
              "      <td>Chicken Salad Bowl</td>\n",
              "      <td>[Roasted Chili Corn Salsa, [Black Beans, Sour ...</td>\n",
              "      <td>$8.75</td>\n",
              "      <td>8.75</td>\n",
              "    </tr>\n",
              "    <tr>\n",
              "      <th>528</th>\n",
              "      <td>221</td>\n",
              "      <td>1</td>\n",
              "      <td>Chicken Salad Bowl</td>\n",
              "      <td>[Tomatillo Green Chili Salsa, [Fajita Vegetabl...</td>\n",
              "      <td>$8.75</td>\n",
              "      <td>8.75</td>\n",
              "    </tr>\n",
              "    <tr>\n",
              "      <th>529</th>\n",
              "      <td>221</td>\n",
              "      <td>1</td>\n",
              "      <td>Chicken Salad Bowl</td>\n",
              "      <td>[Tomatillo Green Chili Salsa, [Fajita Vegetabl...</td>\n",
              "      <td>$8.75</td>\n",
              "      <td>8.75</td>\n",
              "    </tr>\n",
              "  </tbody>\n",
              "</table>\n",
              "</div>"
            ],
            "text/plain": [
              "     order_id  quantity           item_name  \\\n",
              "44         20         1  Chicken Salad Bowl   \n",
              "256       111         1  Chicken Salad Bowl   \n",
              "526       220         1  Chicken Salad Bowl   \n",
              "528       221         1  Chicken Salad Bowl   \n",
              "529       221         1  Chicken Salad Bowl   \n",
              "\n",
              "                                    choice_description item_price  new_price  \n",
              "44   [Fresh Tomato Salsa, [Fajita Vegetables, Pinto...     $8.75        8.75  \n",
              "256  [Fresh Tomato Salsa, [Fajita Vegetables, Rice,...     $8.75        8.75  \n",
              "526  [Roasted Chili Corn Salsa, [Black Beans, Sour ...     $8.75        8.75  \n",
              "528  [Tomatillo Green Chili Salsa, [Fajita Vegetabl...     $8.75        8.75  \n",
              "529  [Tomatillo Green Chili Salsa, [Fajita Vegetabl...     $8.75        8.75  "
            ]
          },
          "execution_count": 83,
          "metadata": {},
          "output_type": "execute_result"
        }
      ],
      "source": [
        "df[(df['new_price'] <= 9) & (df['item_name'] == 'Chicken Salad Bowl')].head()\n"
      ]
    },
    {
      "cell_type": "markdown",
      "id": "16dbfc5f-15aa-40d0-b2ca-a7c560b097f4",
      "metadata": {
        "id": "16dbfc5f-15aa-40d0-b2ca-a7c560b097f4"
      },
      "source": [
        "Ans 의 인덱스를 0 부터 시작하도록 초기화 하고 inplace 방식으로 적용하자\n"
      ]
    },
    {
      "cell_type": "markdown",
      "id": "61efb5ae-1cda-4f81-8332-272e15b41dc5",
      "metadata": {
        "id": "61efb5ae-1cda-4f81-8332-272e15b41dc5"
      },
      "source": [
        "### Question 28\n",
        "**df의 new_price 컬럼 값에 따라 오름차순으로 정리하고 index를 초기화 하여라**\n"
      ]
    },
    {
      "cell_type": "code",
      "execution_count": null,
      "id": "1058e785-dbd0-4287-bbf5-5c380b07202e",
      "metadata": {
        "ExecuteTime": {
          "end_time": "2022-02-19T18:22:28.263045Z",
          "start_time": "2022-02-19T18:22:28.259732Z"
        },
        "tags": [
          "hide-input"
        ],
        "id": "1058e785-dbd0-4287-bbf5-5c380b07202e"
      },
      "outputs": [],
      "source": [
        "df.sort_values('new_price').reset_index().drop(columns = 'index')\n",
        "\n"
      ]
    },
    {
      "cell_type": "code",
      "execution_count": null,
      "id": "84a2daa1-b183-4060-a4e6-28f97e7dcbb8",
      "metadata": {
        "ExecuteTime": {
          "end_time": "2022-02-19T18:22:28.271159Z",
          "start_time": "2022-02-19T18:22:28.264264Z"
        },
        "id": "84a2daa1-b183-4060-a4e6-28f97e7dcbb8",
        "outputId": "ad178318-fb84-480c-ad0e-85188bede31b"
      },
      "outputs": [
        {
          "data": {
            "text/html": [
              "<div>\n",
              "<style scoped>\n",
              "    .dataframe tbody tr th:only-of-type {\n",
              "        vertical-align: middle;\n",
              "    }\n",
              "\n",
              "    .dataframe tbody tr th {\n",
              "        vertical-align: top;\n",
              "    }\n",
              "\n",
              "    .dataframe thead th {\n",
              "        text-align: right;\n",
              "    }\n",
              "</style>\n",
              "<table border=\"1\" class=\"dataframe\">\n",
              "  <thead>\n",
              "    <tr style=\"text-align: right;\">\n",
              "      <th></th>\n",
              "      <th>order_id</th>\n",
              "      <th>quantity</th>\n",
              "      <th>item_name</th>\n",
              "      <th>choice_description</th>\n",
              "      <th>item_price</th>\n",
              "      <th>new_price</th>\n",
              "    </tr>\n",
              "  </thead>\n",
              "  <tbody>\n",
              "    <tr>\n",
              "      <th>0</th>\n",
              "      <td>471</td>\n",
              "      <td>1</td>\n",
              "      <td>Bottled Water</td>\n",
              "      <td>NaN</td>\n",
              "      <td>$1.09</td>\n",
              "      <td>1.09</td>\n",
              "    </tr>\n",
              "    <tr>\n",
              "      <th>1</th>\n",
              "      <td>338</td>\n",
              "      <td>1</td>\n",
              "      <td>Canned Soda</td>\n",
              "      <td>[Coca Cola]</td>\n",
              "      <td>$1.09</td>\n",
              "      <td>1.09</td>\n",
              "    </tr>\n",
              "    <tr>\n",
              "      <th>2</th>\n",
              "      <td>1575</td>\n",
              "      <td>1</td>\n",
              "      <td>Canned Soda</td>\n",
              "      <td>[Dr. Pepper]</td>\n",
              "      <td>$1.09</td>\n",
              "      <td>1.09</td>\n",
              "    </tr>\n",
              "    <tr>\n",
              "      <th>3</th>\n",
              "      <td>47</td>\n",
              "      <td>1</td>\n",
              "      <td>Canned Soda</td>\n",
              "      <td>[Dr. Pepper]</td>\n",
              "      <td>$1.09</td>\n",
              "      <td>1.09</td>\n",
              "    </tr>\n",
              "  </tbody>\n",
              "</table>\n",
              "</div>"
            ],
            "text/plain": [
              "   order_id  quantity      item_name choice_description item_price  new_price\n",
              "0       471         1  Bottled Water                NaN     $1.09        1.09\n",
              "1       338         1    Canned Soda        [Coca Cola]     $1.09        1.09\n",
              "2      1575         1    Canned Soda       [Dr. Pepper]     $1.09        1.09\n",
              "3        47         1    Canned Soda       [Dr. Pepper]     $1.09        1.09"
            ]
          },
          "execution_count": 55,
          "metadata": {},
          "output_type": "execute_result"
        }
      ],
      "source": [
        "Ans.head(4)"
      ]
    },
    {
      "cell_type": "markdown",
      "id": "01f53f56-48be-4395-9b15-24d6c8352000",
      "metadata": {
        "id": "01f53f56-48be-4395-9b15-24d6c8352000"
      },
      "source": [
        "### Question 29\n",
        "\n",
        "**df의 item_name 컬럼의 값 중에서 `Chips` 포함하는 데이터를 출력하라**\n"
      ]
    },
    {
      "cell_type": "code",
      "execution_count": null,
      "id": "d8e61375-4dc3-4831-90b9-baeb776cc84a",
      "metadata": {
        "ExecuteTime": {
          "end_time": "2022-02-19T18:22:28.277344Z",
          "start_time": "2022-02-19T18:22:28.272613Z"
        },
        "tags": [
          "hide-input"
        ],
        "id": "d8e61375-4dc3-4831-90b9-baeb776cc84a"
      },
      "outputs": [],
      "source": [
        "df[df['item_name'].str.contains('Chips')]\n",
        "\n"
      ]
    },
    {
      "cell_type": "code",
      "execution_count": null,
      "id": "50c5db50-0d87-4b98-a7be-d675c0690bc3",
      "metadata": {
        "ExecuteTime": {
          "end_time": "2022-02-19T18:22:28.286193Z",
          "start_time": "2022-02-19T18:22:28.278716Z"
        },
        "id": "50c5db50-0d87-4b98-a7be-d675c0690bc3",
        "outputId": "d4fed8be-a772-4d15-803e-b7eb96aafb24"
      },
      "outputs": [
        {
          "data": {
            "text/html": [
              "<div>\n",
              "<style scoped>\n",
              "    .dataframe tbody tr th:only-of-type {\n",
              "        vertical-align: middle;\n",
              "    }\n",
              "\n",
              "    .dataframe tbody tr th {\n",
              "        vertical-align: top;\n",
              "    }\n",
              "\n",
              "    .dataframe thead th {\n",
              "        text-align: right;\n",
              "    }\n",
              "</style>\n",
              "<table border=\"1\" class=\"dataframe\">\n",
              "  <thead>\n",
              "    <tr style=\"text-align: right;\">\n",
              "      <th></th>\n",
              "      <th>order_id</th>\n",
              "      <th>quantity</th>\n",
              "      <th>item_name</th>\n",
              "      <th>choice_description</th>\n",
              "      <th>item_price</th>\n",
              "      <th>new_price</th>\n",
              "    </tr>\n",
              "  </thead>\n",
              "  <tbody>\n",
              "    <tr>\n",
              "      <th>0</th>\n",
              "      <td>1</td>\n",
              "      <td>1</td>\n",
              "      <td>Chips and Fresh Tomato Salsa</td>\n",
              "      <td>NaN</td>\n",
              "      <td>$2.39</td>\n",
              "      <td>2.39</td>\n",
              "    </tr>\n",
              "    <tr>\n",
              "      <th>3</th>\n",
              "      <td>1</td>\n",
              "      <td>1</td>\n",
              "      <td>Chips and Tomatillo-Green Chili Salsa</td>\n",
              "      <td>NaN</td>\n",
              "      <td>$2.39</td>\n",
              "      <td>2.39</td>\n",
              "    </tr>\n",
              "    <tr>\n",
              "      <th>6</th>\n",
              "      <td>3</td>\n",
              "      <td>1</td>\n",
              "      <td>Side of Chips</td>\n",
              "      <td>NaN</td>\n",
              "      <td>$1.69</td>\n",
              "      <td>1.69</td>\n",
              "    </tr>\n",
              "    <tr>\n",
              "      <th>10</th>\n",
              "      <td>5</td>\n",
              "      <td>1</td>\n",
              "      <td>Chips and Guacamole</td>\n",
              "      <td>NaN</td>\n",
              "      <td>$4.45</td>\n",
              "      <td>4.45</td>\n",
              "    </tr>\n",
              "    <tr>\n",
              "      <th>14</th>\n",
              "      <td>7</td>\n",
              "      <td>1</td>\n",
              "      <td>Chips and Guacamole</td>\n",
              "      <td>NaN</td>\n",
              "      <td>$4.45</td>\n",
              "      <td>4.45</td>\n",
              "    </tr>\n",
              "  </tbody>\n",
              "</table>\n",
              "</div>"
            ],
            "text/plain": [
              "    order_id  quantity                              item_name  \\\n",
              "0          1         1           Chips and Fresh Tomato Salsa   \n",
              "3          1         1  Chips and Tomatillo-Green Chili Salsa   \n",
              "6          3         1                          Side of Chips   \n",
              "10         5         1                    Chips and Guacamole   \n",
              "14         7         1                    Chips and Guacamole   \n",
              "\n",
              "   choice_description item_price  new_price  \n",
              "0                 NaN     $2.39        2.39  \n",
              "3                 NaN     $2.39        2.39  \n",
              "6                 NaN     $1.69        1.69  \n",
              "10                NaN     $4.45        4.45  \n",
              "14                NaN     $4.45        4.45  "
            ]
          },
          "execution_count": 57,
          "metadata": {},
          "output_type": "execute_result"
        }
      ],
      "source": [
        "Ans.head(5)"
      ]
    },
    {
      "cell_type": "markdown",
      "id": "7b1ad1cd-4ce4-4a28-8920-0af97a83f1f6",
      "metadata": {
        "id": "7b1ad1cd-4ce4-4a28-8920-0af97a83f1f6"
      },
      "source": [
        "**Chips 를 포함하지 않는 데이터만 출력하자**\n"
      ]
    },
    {
      "cell_type": "code",
      "execution_count": null,
      "id": "2bf0673c-e527-4f4e-81c9-4eb87c76d0a5",
      "metadata": {
        "ExecuteTime": {
          "end_time": "2022-02-19T18:22:28.277344Z",
          "start_time": "2022-02-19T18:22:28.272613Z"
        },
        "tags": [
          "hide-input"
        ],
        "id": "2bf0673c-e527-4f4e-81c9-4eb87c76d0a5",
        "outputId": "760a44a2-49e3-4bfb-a7fb-431f4ebb2806"
      },
      "outputs": [
        {
          "data": {
            "text/html": [
              "<div>\n",
              "<style scoped>\n",
              "    .dataframe tbody tr th:only-of-type {\n",
              "        vertical-align: middle;\n",
              "    }\n",
              "\n",
              "    .dataframe tbody tr th {\n",
              "        vertical-align: top;\n",
              "    }\n",
              "\n",
              "    .dataframe thead th {\n",
              "        text-align: right;\n",
              "    }\n",
              "</style>\n",
              "<table border=\"1\" class=\"dataframe\">\n",
              "  <thead>\n",
              "    <tr style=\"text-align: right;\">\n",
              "      <th></th>\n",
              "      <th>order_id</th>\n",
              "      <th>quantity</th>\n",
              "      <th>item_name</th>\n",
              "      <th>choice_description</th>\n",
              "      <th>item_price</th>\n",
              "      <th>new_price</th>\n",
              "    </tr>\n",
              "  </thead>\n",
              "  <tbody>\n",
              "    <tr>\n",
              "      <th>1</th>\n",
              "      <td>1</td>\n",
              "      <td>1</td>\n",
              "      <td>Izze</td>\n",
              "      <td>[Clementine]</td>\n",
              "      <td>$3.39</td>\n",
              "      <td>3.39</td>\n",
              "    </tr>\n",
              "    <tr>\n",
              "      <th>2</th>\n",
              "      <td>1</td>\n",
              "      <td>1</td>\n",
              "      <td>Nantucket Nectar</td>\n",
              "      <td>[Apple]</td>\n",
              "      <td>$3.39</td>\n",
              "      <td>3.39</td>\n",
              "    </tr>\n",
              "    <tr>\n",
              "      <th>4</th>\n",
              "      <td>2</td>\n",
              "      <td>2</td>\n",
              "      <td>Chicken Bowl</td>\n",
              "      <td>[Tomatillo-Red Chili Salsa (Hot), [Black Beans...</td>\n",
              "      <td>$16.98</td>\n",
              "      <td>16.98</td>\n",
              "    </tr>\n",
              "    <tr>\n",
              "      <th>5</th>\n",
              "      <td>3</td>\n",
              "      <td>1</td>\n",
              "      <td>Chicken Bowl</td>\n",
              "      <td>[Fresh Tomato Salsa (Mild), [Rice, Cheese, Sou...</td>\n",
              "      <td>$10.98</td>\n",
              "      <td>10.98</td>\n",
              "    </tr>\n",
              "    <tr>\n",
              "      <th>7</th>\n",
              "      <td>4</td>\n",
              "      <td>1</td>\n",
              "      <td>Steak Burrito</td>\n",
              "      <td>[Tomatillo Red Chili Salsa, [Fajita Vegetables...</td>\n",
              "      <td>$11.75</td>\n",
              "      <td>11.75</td>\n",
              "    </tr>\n",
              "    <tr>\n",
              "      <th>...</th>\n",
              "      <td>...</td>\n",
              "      <td>...</td>\n",
              "      <td>...</td>\n",
              "      <td>...</td>\n",
              "      <td>...</td>\n",
              "      <td>...</td>\n",
              "    </tr>\n",
              "    <tr>\n",
              "      <th>4617</th>\n",
              "      <td>1833</td>\n",
              "      <td>1</td>\n",
              "      <td>Steak Burrito</td>\n",
              "      <td>[Fresh Tomato Salsa, [Rice, Black Beans, Sour ...</td>\n",
              "      <td>$11.75</td>\n",
              "      <td>11.75</td>\n",
              "    </tr>\n",
              "    <tr>\n",
              "      <th>4618</th>\n",
              "      <td>1833</td>\n",
              "      <td>1</td>\n",
              "      <td>Steak Burrito</td>\n",
              "      <td>[Fresh Tomato Salsa, [Rice, Sour Cream, Cheese...</td>\n",
              "      <td>$11.75</td>\n",
              "      <td>11.75</td>\n",
              "    </tr>\n",
              "    <tr>\n",
              "      <th>4619</th>\n",
              "      <td>1834</td>\n",
              "      <td>1</td>\n",
              "      <td>Chicken Salad Bowl</td>\n",
              "      <td>[Fresh Tomato Salsa, [Fajita Vegetables, Pinto...</td>\n",
              "      <td>$11.25</td>\n",
              "      <td>11.25</td>\n",
              "    </tr>\n",
              "    <tr>\n",
              "      <th>4620</th>\n",
              "      <td>1834</td>\n",
              "      <td>1</td>\n",
              "      <td>Chicken Salad Bowl</td>\n",
              "      <td>[Fresh Tomato Salsa, [Fajita Vegetables, Lettu...</td>\n",
              "      <td>$8.75</td>\n",
              "      <td>8.75</td>\n",
              "    </tr>\n",
              "    <tr>\n",
              "      <th>4621</th>\n",
              "      <td>1834</td>\n",
              "      <td>1</td>\n",
              "      <td>Chicken Salad Bowl</td>\n",
              "      <td>[Fresh Tomato Salsa, [Fajita Vegetables, Pinto...</td>\n",
              "      <td>$8.75</td>\n",
              "      <td>8.75</td>\n",
              "    </tr>\n",
              "  </tbody>\n",
              "</table>\n",
              "<p>3538 rows × 6 columns</p>\n",
              "</div>"
            ],
            "text/plain": [
              "      order_id  quantity           item_name  \\\n",
              "1            1         1                Izze   \n",
              "2            1         1    Nantucket Nectar   \n",
              "4            2         2        Chicken Bowl   \n",
              "5            3         1        Chicken Bowl   \n",
              "7            4         1       Steak Burrito   \n",
              "...        ...       ...                 ...   \n",
              "4617      1833         1       Steak Burrito   \n",
              "4618      1833         1       Steak Burrito   \n",
              "4619      1834         1  Chicken Salad Bowl   \n",
              "4620      1834         1  Chicken Salad Bowl   \n",
              "4621      1834         1  Chicken Salad Bowl   \n",
              "\n",
              "                                     choice_description item_price  new_price  \n",
              "1                                          [Clementine]     $3.39        3.39  \n",
              "2                                               [Apple]     $3.39        3.39  \n",
              "4     [Tomatillo-Red Chili Salsa (Hot), [Black Beans...    $16.98       16.98  \n",
              "5     [Fresh Tomato Salsa (Mild), [Rice, Cheese, Sou...    $10.98       10.98  \n",
              "7     [Tomatillo Red Chili Salsa, [Fajita Vegetables...    $11.75       11.75  \n",
              "...                                                 ...        ...        ...  \n",
              "4617  [Fresh Tomato Salsa, [Rice, Black Beans, Sour ...    $11.75       11.75  \n",
              "4618  [Fresh Tomato Salsa, [Rice, Sour Cream, Cheese...    $11.75       11.75  \n",
              "4619  [Fresh Tomato Salsa, [Fajita Vegetables, Pinto...    $11.25       11.25  \n",
              "4620  [Fresh Tomato Salsa, [Fajita Vegetables, Lettu...     $8.75        8.75  \n",
              "4621  [Fresh Tomato Salsa, [Fajita Vegetables, Pinto...     $8.75        8.75  \n",
              "\n",
              "[3538 rows x 6 columns]"
            ]
          },
          "execution_count": 85,
          "metadata": {},
          "output_type": "execute_result"
        }
      ],
      "source": [
        "df[df['item_name'].str.contains('Chips') == False]\n",
        "\n"
      ]
    },
    {
      "cell_type": "markdown",
      "id": "9b6c914a-dfea-4f76-8bcf-7b84bad1a2d4",
      "metadata": {
        "id": "9b6c914a-dfea-4f76-8bcf-7b84bad1a2d4"
      },
      "source": [
        "### Question 30\n",
        "\n",
        "df 의 컬럼을 출력하자"
      ]
    },
    {
      "cell_type": "code",
      "execution_count": null,
      "id": "452be868-cd67-4686-ac96-fca4cd5d35c3",
      "metadata": {
        "id": "452be868-cd67-4686-ac96-fca4cd5d35c3",
        "outputId": "f9f51e65-6c90-480a-89e3-1c29014b9a1b"
      },
      "outputs": [
        {
          "data": {
            "text/plain": [
              "Index(['order_id', 'quantity', 'item_name', 'choice_description', 'item_price',\n",
              "       'new_price'],\n",
              "      dtype='object')"
            ]
          },
          "execution_count": 90,
          "metadata": {},
          "output_type": "execute_result"
        }
      ],
      "source": [
        "df.columns\n",
        "\n"
      ]
    },
    {
      "cell_type": "markdown",
      "id": "5f4e779f-3ff3-4578-a45c-c2035d0228c4",
      "metadata": {
        "id": "5f4e779f-3ff3-4578-a45c-c2035d0228c4"
      },
      "source": [
        "**df의 컬럼 순서에서 짝수 번째 칼럼만 출력하자**"
      ]
    },
    {
      "cell_type": "code",
      "execution_count": null,
      "id": "93a0dca6-5ff5-4e18-9166-155a4f98660e",
      "metadata": {
        "ExecuteTime": {
          "end_time": "2022-02-19T18:22:28.290258Z",
          "start_time": "2022-02-19T18:22:28.287547Z"
        },
        "tags": [
          "hide-input"
        ],
        "id": "93a0dca6-5ff5-4e18-9166-155a4f98660e",
        "outputId": "4d962d1a-cece-46c2-acaf-56b250e915b0"
      },
      "outputs": [
        {
          "data": {
            "text/html": [
              "<div>\n",
              "<style scoped>\n",
              "    .dataframe tbody tr th:only-of-type {\n",
              "        vertical-align: middle;\n",
              "    }\n",
              "\n",
              "    .dataframe tbody tr th {\n",
              "        vertical-align: top;\n",
              "    }\n",
              "\n",
              "    .dataframe thead th {\n",
              "        text-align: right;\n",
              "    }\n",
              "</style>\n",
              "<table border=\"1\" class=\"dataframe\">\n",
              "  <thead>\n",
              "    <tr style=\"text-align: right;\">\n",
              "      <th></th>\n",
              "      <th>order_id</th>\n",
              "      <th>item_name</th>\n",
              "      <th>item_price</th>\n",
              "    </tr>\n",
              "  </thead>\n",
              "  <tbody>\n",
              "    <tr>\n",
              "      <th>0</th>\n",
              "      <td>1</td>\n",
              "      <td>Chips and Fresh Tomato Salsa</td>\n",
              "      <td>$2.39</td>\n",
              "    </tr>\n",
              "    <tr>\n",
              "      <th>1</th>\n",
              "      <td>1</td>\n",
              "      <td>Izze</td>\n",
              "      <td>$3.39</td>\n",
              "    </tr>\n",
              "    <tr>\n",
              "      <th>2</th>\n",
              "      <td>1</td>\n",
              "      <td>Nantucket Nectar</td>\n",
              "      <td>$3.39</td>\n",
              "    </tr>\n",
              "    <tr>\n",
              "      <th>3</th>\n",
              "      <td>1</td>\n",
              "      <td>Chips and Tomatillo-Green Chili Salsa</td>\n",
              "      <td>$2.39</td>\n",
              "    </tr>\n",
              "    <tr>\n",
              "      <th>4</th>\n",
              "      <td>2</td>\n",
              "      <td>Chicken Bowl</td>\n",
              "      <td>$16.98</td>\n",
              "    </tr>\n",
              "    <tr>\n",
              "      <th>...</th>\n",
              "      <td>...</td>\n",
              "      <td>...</td>\n",
              "      <td>...</td>\n",
              "    </tr>\n",
              "    <tr>\n",
              "      <th>4617</th>\n",
              "      <td>1833</td>\n",
              "      <td>Steak Burrito</td>\n",
              "      <td>$11.75</td>\n",
              "    </tr>\n",
              "    <tr>\n",
              "      <th>4618</th>\n",
              "      <td>1833</td>\n",
              "      <td>Steak Burrito</td>\n",
              "      <td>$11.75</td>\n",
              "    </tr>\n",
              "    <tr>\n",
              "      <th>4619</th>\n",
              "      <td>1834</td>\n",
              "      <td>Chicken Salad Bowl</td>\n",
              "      <td>$11.25</td>\n",
              "    </tr>\n",
              "    <tr>\n",
              "      <th>4620</th>\n",
              "      <td>1834</td>\n",
              "      <td>Chicken Salad Bowl</td>\n",
              "      <td>$8.75</td>\n",
              "    </tr>\n",
              "    <tr>\n",
              "      <th>4621</th>\n",
              "      <td>1834</td>\n",
              "      <td>Chicken Salad Bowl</td>\n",
              "      <td>$8.75</td>\n",
              "    </tr>\n",
              "  </tbody>\n",
              "</table>\n",
              "<p>4622 rows × 3 columns</p>\n",
              "</div>"
            ],
            "text/plain": [
              "      order_id                              item_name item_price\n",
              "0            1           Chips and Fresh Tomato Salsa     $2.39 \n",
              "1            1                                   Izze     $3.39 \n",
              "2            1                       Nantucket Nectar     $3.39 \n",
              "3            1  Chips and Tomatillo-Green Chili Salsa     $2.39 \n",
              "4            2                           Chicken Bowl    $16.98 \n",
              "...        ...                                    ...        ...\n",
              "4617      1833                          Steak Burrito    $11.75 \n",
              "4618      1833                          Steak Burrito    $11.75 \n",
              "4619      1834                     Chicken Salad Bowl    $11.25 \n",
              "4620      1834                     Chicken Salad Bowl     $8.75 \n",
              "4621      1834                     Chicken Salad Bowl     $8.75 \n",
              "\n",
              "[4622 rows x 3 columns]"
            ]
          },
          "execution_count": 5,
          "metadata": {},
          "output_type": "execute_result"
        }
      ],
      "source": [
        "df.iloc[:,::2]\n",
        "\n"
      ]
    },
    {
      "cell_type": "code",
      "execution_count": null,
      "id": "714492b4-a014-4ccd-bed0-485cf06517c1",
      "metadata": {
        "ExecuteTime": {
          "end_time": "2022-02-19T18:22:28.297242Z",
          "start_time": "2022-02-19T18:22:28.291585Z"
        },
        "id": "714492b4-a014-4ccd-bed0-485cf06517c1",
        "outputId": "09dfed50-030f-41f9-fadd-3b226de24db7"
      },
      "outputs": [
        {
          "data": {
            "text/html": [
              "<div>\n",
              "<style scoped>\n",
              "    .dataframe tbody tr th:only-of-type {\n",
              "        vertical-align: middle;\n",
              "    }\n",
              "\n",
              "    .dataframe tbody tr th {\n",
              "        vertical-align: top;\n",
              "    }\n",
              "\n",
              "    .dataframe thead th {\n",
              "        text-align: right;\n",
              "    }\n",
              "</style>\n",
              "<table border=\"1\" class=\"dataframe\">\n",
              "  <thead>\n",
              "    <tr style=\"text-align: right;\">\n",
              "      <th></th>\n",
              "      <th>order_id</th>\n",
              "      <th>item_name</th>\n",
              "      <th>item_price</th>\n",
              "    </tr>\n",
              "  </thead>\n",
              "  <tbody>\n",
              "    <tr>\n",
              "      <th>0</th>\n",
              "      <td>1</td>\n",
              "      <td>Chips and Fresh Tomato Salsa</td>\n",
              "      <td>$2.39</td>\n",
              "    </tr>\n",
              "    <tr>\n",
              "      <th>1</th>\n",
              "      <td>1</td>\n",
              "      <td>Izze</td>\n",
              "      <td>$3.39</td>\n",
              "    </tr>\n",
              "    <tr>\n",
              "      <th>2</th>\n",
              "      <td>1</td>\n",
              "      <td>Nantucket Nectar</td>\n",
              "      <td>$3.39</td>\n",
              "    </tr>\n",
              "    <tr>\n",
              "      <th>3</th>\n",
              "      <td>1</td>\n",
              "      <td>Chips and Tomatillo-Green Chili Salsa</td>\n",
              "      <td>$2.39</td>\n",
              "    </tr>\n",
              "    <tr>\n",
              "      <th>4</th>\n",
              "      <td>2</td>\n",
              "      <td>Chicken Bowl</td>\n",
              "      <td>$16.98</td>\n",
              "    </tr>\n",
              "  </tbody>\n",
              "</table>\n",
              "</div>"
            ],
            "text/plain": [
              "   order_id                              item_name item_price\n",
              "0         1           Chips and Fresh Tomato Salsa     $2.39 \n",
              "1         1                                   Izze     $3.39 \n",
              "2         1                       Nantucket Nectar     $3.39 \n",
              "3         1  Chips and Tomatillo-Green Chili Salsa     $2.39 \n",
              "4         2                           Chicken Bowl    $16.98 "
            ]
          },
          "execution_count": 88,
          "metadata": {},
          "output_type": "execute_result"
        }
      ],
      "source": [
        "Ans.head(5)"
      ]
    },
    {
      "cell_type": "markdown",
      "id": "3374e7e1-049f-4caf-a141-a282e6c18f32",
      "metadata": {
        "id": "3374e7e1-049f-4caf-a141-a282e6c18f32"
      },
      "source": [
        "df 에서 컬럼에서 역순으로 짝수번째 컬럼을 추출해 보자"
      ]
    },
    {
      "cell_type": "code",
      "execution_count": null,
      "id": "182516a7-3b0b-4240-b0f2-95ee8f93d8fa",
      "metadata": {
        "ExecuteTime": {
          "end_time": "2022-02-19T18:22:28.290258Z",
          "start_time": "2022-02-19T18:22:28.287547Z"
        },
        "tags": [
          "hide-input"
        ],
        "id": "182516a7-3b0b-4240-b0f2-95ee8f93d8fa",
        "outputId": "b60ffed3-78dd-4d5c-9315-5ca88cb758aa"
      },
      "outputs": [
        {
          "data": {
            "text/plain": [
              "[]"
            ]
          },
          "execution_count": 6,
          "metadata": {},
          "output_type": "execute_result"
        }
      ],
      "source": [
        "\n"
      ]
    },
    {
      "cell_type": "markdown",
      "id": "2cb8e502-3235-4bc6-a878-f9682a76e1bf",
      "metadata": {
        "id": "2cb8e502-3235-4bc6-a878-f9682a76e1bf"
      },
      "source": [
        "df 에서 역순으로 짝수번째 행 만을 추출해 보자"
      ]
    },
    {
      "cell_type": "code",
      "execution_count": null,
      "id": "3e5bd1c3-1904-4dc3-b70c-6e0982c3d805",
      "metadata": {
        "id": "3e5bd1c3-1904-4dc3-b70c-6e0982c3d805",
        "outputId": "c1a2dc41-1a96-410a-e007-485a4023ce38"
      },
      "outputs": [
        {
          "data": {
            "text/html": [
              "<div>\n",
              "<style scoped>\n",
              "    .dataframe tbody tr th:only-of-type {\n",
              "        vertical-align: middle;\n",
              "    }\n",
              "\n",
              "    .dataframe tbody tr th {\n",
              "        vertical-align: top;\n",
              "    }\n",
              "\n",
              "    .dataframe thead th {\n",
              "        text-align: right;\n",
              "    }\n",
              "</style>\n",
              "<table border=\"1\" class=\"dataframe\">\n",
              "  <thead>\n",
              "    <tr style=\"text-align: right;\">\n",
              "      <th></th>\n",
              "      <th>order_id</th>\n",
              "      <th>quantity</th>\n",
              "      <th>item_name</th>\n",
              "      <th>choice_description</th>\n",
              "      <th>item_price</th>\n",
              "      <th>new_price</th>\n",
              "    </tr>\n",
              "  </thead>\n",
              "  <tbody>\n",
              "    <tr>\n",
              "      <th>4621</th>\n",
              "      <td>1834</td>\n",
              "      <td>1</td>\n",
              "      <td>Chicken Salad Bowl</td>\n",
              "      <td>[Fresh Tomato Salsa, [Fajita Vegetables, Pinto...</td>\n",
              "      <td>$8.75</td>\n",
              "      <td>8.75</td>\n",
              "    </tr>\n",
              "    <tr>\n",
              "      <th>4619</th>\n",
              "      <td>1834</td>\n",
              "      <td>1</td>\n",
              "      <td>Chicken Salad Bowl</td>\n",
              "      <td>[Fresh Tomato Salsa, [Fajita Vegetables, Pinto...</td>\n",
              "      <td>$11.25</td>\n",
              "      <td>11.25</td>\n",
              "    </tr>\n",
              "    <tr>\n",
              "      <th>4617</th>\n",
              "      <td>1833</td>\n",
              "      <td>1</td>\n",
              "      <td>Steak Burrito</td>\n",
              "      <td>[Fresh Tomato Salsa, [Rice, Black Beans, Sour ...</td>\n",
              "      <td>$11.75</td>\n",
              "      <td>11.75</td>\n",
              "    </tr>\n",
              "    <tr>\n",
              "      <th>4615</th>\n",
              "      <td>1832</td>\n",
              "      <td>1</td>\n",
              "      <td>Chicken Soft Tacos</td>\n",
              "      <td>[Fresh Tomato Salsa, [Rice, Cheese, Sour Cream]]</td>\n",
              "      <td>$8.75</td>\n",
              "      <td>8.75</td>\n",
              "    </tr>\n",
              "    <tr>\n",
              "      <th>4613</th>\n",
              "      <td>1831</td>\n",
              "      <td>1</td>\n",
              "      <td>Chips</td>\n",
              "      <td>NaN</td>\n",
              "      <td>$2.15</td>\n",
              "      <td>2.15</td>\n",
              "    </tr>\n",
              "    <tr>\n",
              "      <th>...</th>\n",
              "      <td>...</td>\n",
              "      <td>...</td>\n",
              "      <td>...</td>\n",
              "      <td>...</td>\n",
              "      <td>...</td>\n",
              "      <td>...</td>\n",
              "    </tr>\n",
              "    <tr>\n",
              "      <th>9</th>\n",
              "      <td>5</td>\n",
              "      <td>1</td>\n",
              "      <td>Steak Burrito</td>\n",
              "      <td>[Fresh Tomato Salsa, [Rice, Black Beans, Pinto...</td>\n",
              "      <td>$9.25</td>\n",
              "      <td>9.25</td>\n",
              "    </tr>\n",
              "    <tr>\n",
              "      <th>7</th>\n",
              "      <td>4</td>\n",
              "      <td>1</td>\n",
              "      <td>Steak Burrito</td>\n",
              "      <td>[Tomatillo Red Chili Salsa, [Fajita Vegetables...</td>\n",
              "      <td>$11.75</td>\n",
              "      <td>11.75</td>\n",
              "    </tr>\n",
              "    <tr>\n",
              "      <th>5</th>\n",
              "      <td>3</td>\n",
              "      <td>1</td>\n",
              "      <td>Chicken Bowl</td>\n",
              "      <td>[Fresh Tomato Salsa (Mild), [Rice, Cheese, Sou...</td>\n",
              "      <td>$10.98</td>\n",
              "      <td>10.98</td>\n",
              "    </tr>\n",
              "    <tr>\n",
              "      <th>3</th>\n",
              "      <td>1</td>\n",
              "      <td>1</td>\n",
              "      <td>Chips and Tomatillo-Green Chili Salsa</td>\n",
              "      <td>NaN</td>\n",
              "      <td>$2.39</td>\n",
              "      <td>2.39</td>\n",
              "    </tr>\n",
              "    <tr>\n",
              "      <th>1</th>\n",
              "      <td>1</td>\n",
              "      <td>1</td>\n",
              "      <td>Izze</td>\n",
              "      <td>[Clementine]</td>\n",
              "      <td>$3.39</td>\n",
              "      <td>3.39</td>\n",
              "    </tr>\n",
              "  </tbody>\n",
              "</table>\n",
              "<p>2311 rows × 6 columns</p>\n",
              "</div>"
            ],
            "text/plain": [
              "      order_id  quantity                              item_name  \\\n",
              "4621      1834         1                     Chicken Salad Bowl   \n",
              "4619      1834         1                     Chicken Salad Bowl   \n",
              "4617      1833         1                          Steak Burrito   \n",
              "4615      1832         1                     Chicken Soft Tacos   \n",
              "4613      1831         1                                  Chips   \n",
              "...        ...       ...                                    ...   \n",
              "9            5         1                          Steak Burrito   \n",
              "7            4         1                          Steak Burrito   \n",
              "5            3         1                           Chicken Bowl   \n",
              "3            1         1  Chips and Tomatillo-Green Chili Salsa   \n",
              "1            1         1                                   Izze   \n",
              "\n",
              "                                     choice_description item_price  new_price  \n",
              "4621  [Fresh Tomato Salsa, [Fajita Vegetables, Pinto...     $8.75        8.75  \n",
              "4619  [Fresh Tomato Salsa, [Fajita Vegetables, Pinto...    $11.25       11.25  \n",
              "4617  [Fresh Tomato Salsa, [Rice, Black Beans, Sour ...    $11.75       11.75  \n",
              "4615   [Fresh Tomato Salsa, [Rice, Cheese, Sour Cream]]     $8.75        8.75  \n",
              "4613                                                NaN     $2.15        2.15  \n",
              "...                                                 ...        ...        ...  \n",
              "9     [Fresh Tomato Salsa, [Rice, Black Beans, Pinto...     $9.25        9.25  \n",
              "7     [Tomatillo Red Chili Salsa, [Fajita Vegetables...    $11.75       11.75  \n",
              "5     [Fresh Tomato Salsa (Mild), [Rice, Cheese, Sou...    $10.98       10.98  \n",
              "3                                                   NaN     $2.39        2.39  \n",
              "1                                          [Clementine]     $3.39        3.39  \n",
              "\n",
              "[2311 rows x 6 columns]"
            ]
          },
          "execution_count": 92,
          "metadata": {},
          "output_type": "execute_result"
        }
      ],
      "source": [
        "df.iloc[::-1].iloc[::2]\n",
        "\n"
      ]
    },
    {
      "cell_type": "markdown",
      "id": "1a0b5d51-52bb-4e6b-983e-b9b27ef43ecb",
      "metadata": {
        "id": "1a0b5d51-52bb-4e6b-983e-b9b27ef43ecb"
      },
      "source": [
        "df 에서 역순으로 홀수번째 행 만을 추출해 보자"
      ]
    },
    {
      "cell_type": "code",
      "execution_count": null,
      "id": "c3d62720-f241-405a-889b-afb592bdd909",
      "metadata": {
        "id": "c3d62720-f241-405a-889b-afb592bdd909",
        "outputId": "0bcd2771-ed0b-4267-d122-5dc76fd843bb"
      },
      "outputs": [
        {
          "data": {
            "text/html": [
              "<div>\n",
              "<style scoped>\n",
              "    .dataframe tbody tr th:only-of-type {\n",
              "        vertical-align: middle;\n",
              "    }\n",
              "\n",
              "    .dataframe tbody tr th {\n",
              "        vertical-align: top;\n",
              "    }\n",
              "\n",
              "    .dataframe thead th {\n",
              "        text-align: right;\n",
              "    }\n",
              "</style>\n",
              "<table border=\"1\" class=\"dataframe\">\n",
              "  <thead>\n",
              "    <tr style=\"text-align: right;\">\n",
              "      <th></th>\n",
              "      <th>order_id</th>\n",
              "      <th>quantity</th>\n",
              "      <th>item_name</th>\n",
              "      <th>choice_description</th>\n",
              "      <th>item_price</th>\n",
              "      <th>new_price</th>\n",
              "    </tr>\n",
              "  </thead>\n",
              "  <tbody>\n",
              "    <tr>\n",
              "      <th>4621</th>\n",
              "      <td>1834</td>\n",
              "      <td>1</td>\n",
              "      <td>Chicken Salad Bowl</td>\n",
              "      <td>[Fresh Tomato Salsa, [Fajita Vegetables, Pinto...</td>\n",
              "      <td>$8.75</td>\n",
              "      <td>8.75</td>\n",
              "    </tr>\n",
              "    <tr>\n",
              "      <th>4618</th>\n",
              "      <td>1833</td>\n",
              "      <td>1</td>\n",
              "      <td>Steak Burrito</td>\n",
              "      <td>[Fresh Tomato Salsa, [Rice, Sour Cream, Cheese...</td>\n",
              "      <td>$11.75</td>\n",
              "      <td>11.75</td>\n",
              "    </tr>\n",
              "    <tr>\n",
              "      <th>4615</th>\n",
              "      <td>1832</td>\n",
              "      <td>1</td>\n",
              "      <td>Chicken Soft Tacos</td>\n",
              "      <td>[Fresh Tomato Salsa, [Rice, Cheese, Sour Cream]]</td>\n",
              "      <td>$8.75</td>\n",
              "      <td>8.75</td>\n",
              "    </tr>\n",
              "    <tr>\n",
              "      <th>4612</th>\n",
              "      <td>1831</td>\n",
              "      <td>1</td>\n",
              "      <td>Carnitas Bowl</td>\n",
              "      <td>[Fresh Tomato Salsa, [Fajita Vegetables, Rice,...</td>\n",
              "      <td>$9.25</td>\n",
              "      <td>9.25</td>\n",
              "    </tr>\n",
              "    <tr>\n",
              "      <th>4609</th>\n",
              "      <td>1829</td>\n",
              "      <td>1</td>\n",
              "      <td>Canned Soft Drink</td>\n",
              "      <td>[Sprite]</td>\n",
              "      <td>$1.25</td>\n",
              "      <td>1.25</td>\n",
              "    </tr>\n",
              "    <tr>\n",
              "      <th>...</th>\n",
              "      <td>...</td>\n",
              "      <td>...</td>\n",
              "      <td>...</td>\n",
              "      <td>...</td>\n",
              "      <td>...</td>\n",
              "      <td>...</td>\n",
              "    </tr>\n",
              "    <tr>\n",
              "      <th>13</th>\n",
              "      <td>7</td>\n",
              "      <td>1</td>\n",
              "      <td>Chicken Bowl</td>\n",
              "      <td>[Fresh Tomato Salsa, [Fajita Vegetables, Rice,...</td>\n",
              "      <td>$11.25</td>\n",
              "      <td>11.25</td>\n",
              "    </tr>\n",
              "    <tr>\n",
              "      <th>10</th>\n",
              "      <td>5</td>\n",
              "      <td>1</td>\n",
              "      <td>Chips and Guacamole</td>\n",
              "      <td>NaN</td>\n",
              "      <td>$4.45</td>\n",
              "      <td>4.45</td>\n",
              "    </tr>\n",
              "    <tr>\n",
              "      <th>7</th>\n",
              "      <td>4</td>\n",
              "      <td>1</td>\n",
              "      <td>Steak Burrito</td>\n",
              "      <td>[Tomatillo Red Chili Salsa, [Fajita Vegetables...</td>\n",
              "      <td>$11.75</td>\n",
              "      <td>11.75</td>\n",
              "    </tr>\n",
              "    <tr>\n",
              "      <th>4</th>\n",
              "      <td>2</td>\n",
              "      <td>2</td>\n",
              "      <td>Chicken Bowl</td>\n",
              "      <td>[Tomatillo-Red Chili Salsa (Hot), [Black Beans...</td>\n",
              "      <td>$16.98</td>\n",
              "      <td>16.98</td>\n",
              "    </tr>\n",
              "    <tr>\n",
              "      <th>1</th>\n",
              "      <td>1</td>\n",
              "      <td>1</td>\n",
              "      <td>Izze</td>\n",
              "      <td>[Clementine]</td>\n",
              "      <td>$3.39</td>\n",
              "      <td>3.39</td>\n",
              "    </tr>\n",
              "  </tbody>\n",
              "</table>\n",
              "<p>1541 rows × 6 columns</p>\n",
              "</div>"
            ],
            "text/plain": [
              "      order_id  quantity            item_name  \\\n",
              "4621      1834         1   Chicken Salad Bowl   \n",
              "4618      1833         1        Steak Burrito   \n",
              "4615      1832         1   Chicken Soft Tacos   \n",
              "4612      1831         1        Carnitas Bowl   \n",
              "4609      1829         1    Canned Soft Drink   \n",
              "...        ...       ...                  ...   \n",
              "13           7         1         Chicken Bowl   \n",
              "10           5         1  Chips and Guacamole   \n",
              "7            4         1        Steak Burrito   \n",
              "4            2         2         Chicken Bowl   \n",
              "1            1         1                 Izze   \n",
              "\n",
              "                                     choice_description item_price  new_price  \n",
              "4621  [Fresh Tomato Salsa, [Fajita Vegetables, Pinto...     $8.75        8.75  \n",
              "4618  [Fresh Tomato Salsa, [Rice, Sour Cream, Cheese...    $11.75       11.75  \n",
              "4615   [Fresh Tomato Salsa, [Rice, Cheese, Sour Cream]]     $8.75        8.75  \n",
              "4612  [Fresh Tomato Salsa, [Fajita Vegetables, Rice,...     $9.25        9.25  \n",
              "4609                                           [Sprite]     $1.25        1.25  \n",
              "...                                                 ...        ...        ...  \n",
              "13    [Fresh Tomato Salsa, [Fajita Vegetables, Rice,...    $11.25       11.25  \n",
              "10                                                  NaN     $4.45        4.45  \n",
              "7     [Tomatillo Red Chili Salsa, [Fajita Vegetables...    $11.75       11.75  \n",
              "4     [Tomatillo-Red Chili Salsa (Hot), [Black Beans...    $16.98       16.98  \n",
              "1                                          [Clementine]     $3.39        3.39  \n",
              "\n",
              "[1541 rows x 6 columns]"
            ]
          },
          "execution_count": 93,
          "metadata": {},
          "output_type": "execute_result"
        }
      ],
      "source": [
        "df.iloc[::-1].iloc[1::2]\n",
        "\n"
      ]
    },
    {
      "cell_type": "markdown",
      "id": "cac171d8-1480-4ee7-85c4-fddd98bb7f13",
      "metadata": {
        "id": "cac171d8-1480-4ee7-85c4-fddd98bb7f13"
      },
      "source": [
        "### Question 31\n",
        "\n",
        "**df의 new_price 컬럼 값에 따라 내림차순으로 정리하고 index를 초기화 하여라**\n",
        " - sort_values\n"
      ]
    },
    {
      "cell_type": "code",
      "execution_count": null,
      "id": "69f64851-6fc9-4c47-a2dd-a50e35eb9244",
      "metadata": {
        "ExecuteTime": {
          "end_time": "2022-02-19T18:22:28.301719Z",
          "start_time": "2022-02-19T18:22:28.298500Z"
        },
        "tags": [
          "hide-input"
        ],
        "id": "69f64851-6fc9-4c47-a2dd-a50e35eb9244"
      },
      "outputs": [],
      "source": [
        "df.sort_values('new_price', ascending = False).reset_index().drop(columns = 'index')\n",
        "\n"
      ]
    },
    {
      "cell_type": "code",
      "execution_count": null,
      "id": "3437516f-2809-44e9-98ed-62e8f7e5924d",
      "metadata": {
        "ExecuteTime": {
          "end_time": "2022-02-19T18:22:28.310329Z",
          "start_time": "2022-02-19T18:22:28.302960Z"
        },
        "scrolled": true,
        "id": "3437516f-2809-44e9-98ed-62e8f7e5924d",
        "outputId": "7a1841d6-9dc5-4d26-830d-c24ecfc73428"
      },
      "outputs": [
        {
          "data": {
            "text/html": [
              "<div>\n",
              "<style scoped>\n",
              "    .dataframe tbody tr th:only-of-type {\n",
              "        vertical-align: middle;\n",
              "    }\n",
              "\n",
              "    .dataframe tbody tr th {\n",
              "        vertical-align: top;\n",
              "    }\n",
              "\n",
              "    .dataframe thead th {\n",
              "        text-align: right;\n",
              "    }\n",
              "</style>\n",
              "<table border=\"1\" class=\"dataframe\">\n",
              "  <thead>\n",
              "    <tr style=\"text-align: right;\">\n",
              "      <th></th>\n",
              "      <th>order_id</th>\n",
              "      <th>quantity</th>\n",
              "      <th>item_name</th>\n",
              "      <th>choice_description</th>\n",
              "      <th>item_price</th>\n",
              "      <th>new_price</th>\n",
              "    </tr>\n",
              "  </thead>\n",
              "  <tbody>\n",
              "    <tr>\n",
              "      <th>0</th>\n",
              "      <td>1443</td>\n",
              "      <td>15</td>\n",
              "      <td>Chips and Fresh Tomato Salsa</td>\n",
              "      <td>NaN</td>\n",
              "      <td>$44.25</td>\n",
              "      <td>44.25</td>\n",
              "    </tr>\n",
              "    <tr>\n",
              "      <th>1</th>\n",
              "      <td>1398</td>\n",
              "      <td>3</td>\n",
              "      <td>Carnitas Bowl</td>\n",
              "      <td>[Roasted Chili Corn Salsa, [Fajita Vegetables,...</td>\n",
              "      <td>$35.25</td>\n",
              "      <td>35.25</td>\n",
              "    </tr>\n",
              "    <tr>\n",
              "      <th>2</th>\n",
              "      <td>511</td>\n",
              "      <td>4</td>\n",
              "      <td>Chicken Burrito</td>\n",
              "      <td>[Fresh Tomato Salsa, [Fajita Vegetables, Rice,...</td>\n",
              "      <td>$35.00</td>\n",
              "      <td>35.00</td>\n",
              "    </tr>\n",
              "    <tr>\n",
              "      <th>3</th>\n",
              "      <td>1443</td>\n",
              "      <td>4</td>\n",
              "      <td>Chicken Burrito</td>\n",
              "      <td>[Fresh Tomato Salsa, [Rice, Black Beans, Chees...</td>\n",
              "      <td>$35.00</td>\n",
              "      <td>35.00</td>\n",
              "    </tr>\n",
              "  </tbody>\n",
              "</table>\n",
              "</div>"
            ],
            "text/plain": [
              "   order_id  quantity                     item_name  \\\n",
              "0      1443        15  Chips and Fresh Tomato Salsa   \n",
              "1      1398         3                 Carnitas Bowl   \n",
              "2       511         4               Chicken Burrito   \n",
              "3      1443         4               Chicken Burrito   \n",
              "\n",
              "                                  choice_description item_price  new_price  \n",
              "0                                                NaN    $44.25       44.25  \n",
              "1  [Roasted Chili Corn Salsa, [Fajita Vegetables,...    $35.25       35.25  \n",
              "2  [Fresh Tomato Salsa, [Fajita Vegetables, Rice,...    $35.00       35.00  \n",
              "3  [Fresh Tomato Salsa, [Rice, Black Beans, Chees...    $35.00       35.00  "
            ]
          },
          "execution_count": 95,
          "metadata": {},
          "output_type": "execute_result"
        }
      ],
      "source": [
        "Ans.head(4)"
      ]
    },
    {
      "cell_type": "markdown",
      "id": "508e278d-ee92-4059-a8e2-d4fa652efea1",
      "metadata": {
        "id": "508e278d-ee92-4059-a8e2-d4fa652efea1"
      },
      "source": [
        "### Question 32\n",
        "**df의 item_name 컬럼 값이 Steak Salad 또는 Bowl 인 데이터를 인덱싱하라**\n"
      ]
    },
    {
      "cell_type": "code",
      "execution_count": null,
      "id": "aba69f3e-a12e-4a7e-af6d-d625a58eeae4",
      "metadata": {
        "ExecuteTime": {
          "end_time": "2022-02-19T18:22:28.315124Z",
          "start_time": "2022-02-19T18:22:28.311678Z"
        },
        "tags": [
          "hide-input"
        ],
        "id": "aba69f3e-a12e-4a7e-af6d-d625a58eeae4"
      },
      "outputs": [],
      "source": [
        "df[(df['item_name'] == 'Steak Salad') | (df['item_name'] == 'Bowl')]\n",
        "\n"
      ]
    },
    {
      "cell_type": "code",
      "execution_count": null,
      "id": "c90b121a-232c-46f7-9d06-2d394c2cd0e9",
      "metadata": {
        "ExecuteTime": {
          "end_time": "2022-02-19T18:22:28.323330Z",
          "start_time": "2022-02-19T18:22:28.316526Z"
        },
        "id": "c90b121a-232c-46f7-9d06-2d394c2cd0e9",
        "outputId": "eb837421-976c-4cb3-b78d-79f73aac7109"
      },
      "outputs": [
        {
          "data": {
            "text/html": [
              "<div>\n",
              "<style scoped>\n",
              "    .dataframe tbody tr th:only-of-type {\n",
              "        vertical-align: middle;\n",
              "    }\n",
              "\n",
              "    .dataframe tbody tr th {\n",
              "        vertical-align: top;\n",
              "    }\n",
              "\n",
              "    .dataframe thead th {\n",
              "        text-align: right;\n",
              "    }\n",
              "</style>\n",
              "<table border=\"1\" class=\"dataframe\">\n",
              "  <thead>\n",
              "    <tr style=\"text-align: right;\">\n",
              "      <th></th>\n",
              "      <th>order_id</th>\n",
              "      <th>quantity</th>\n",
              "      <th>item_name</th>\n",
              "      <th>choice_description</th>\n",
              "      <th>item_price</th>\n",
              "      <th>new_price</th>\n",
              "    </tr>\n",
              "  </thead>\n",
              "  <tbody>\n",
              "    <tr>\n",
              "      <th>445</th>\n",
              "      <td>193</td>\n",
              "      <td>3</td>\n",
              "      <td>Bowl</td>\n",
              "      <td>[Braised Carnitas, Pinto Beans, [Sour Cream, C...</td>\n",
              "      <td>$22.20</td>\n",
              "      <td>22.20</td>\n",
              "    </tr>\n",
              "    <tr>\n",
              "      <th>664</th>\n",
              "      <td>276</td>\n",
              "      <td>1</td>\n",
              "      <td>Steak Salad</td>\n",
              "      <td>[Tomatillo-Red Chili Salsa (Hot), [Black Beans...</td>\n",
              "      <td>$8.99</td>\n",
              "      <td>8.99</td>\n",
              "    </tr>\n",
              "    <tr>\n",
              "      <th>673</th>\n",
              "      <td>279</td>\n",
              "      <td>1</td>\n",
              "      <td>Bowl</td>\n",
              "      <td>[Adobo-Marinated and Grilled Steak, [Sour Crea...</td>\n",
              "      <td>$7.40</td>\n",
              "      <td>7.40</td>\n",
              "    </tr>\n",
              "    <tr>\n",
              "      <th>752</th>\n",
              "      <td>311</td>\n",
              "      <td>1</td>\n",
              "      <td>Steak Salad</td>\n",
              "      <td>[Tomatillo-Red Chili Salsa (Hot), [Black Beans...</td>\n",
              "      <td>$8.99</td>\n",
              "      <td>8.99</td>\n",
              "    </tr>\n",
              "    <tr>\n",
              "      <th>893</th>\n",
              "      <td>369</td>\n",
              "      <td>1</td>\n",
              "      <td>Steak Salad</td>\n",
              "      <td>[Fresh Tomato Salsa (Mild), [Rice, Cheese, Sou...</td>\n",
              "      <td>$8.99</td>\n",
              "      <td>8.99</td>\n",
              "    </tr>\n",
              "    <tr>\n",
              "      <th>3502</th>\n",
              "      <td>1406</td>\n",
              "      <td>1</td>\n",
              "      <td>Steak Salad</td>\n",
              "      <td>[[Lettuce, Fajita Veggies]]</td>\n",
              "      <td>$8.69</td>\n",
              "      <td>8.69</td>\n",
              "    </tr>\n",
              "  </tbody>\n",
              "</table>\n",
              "</div>"
            ],
            "text/plain": [
              "      order_id  quantity    item_name  \\\n",
              "445        193         3         Bowl   \n",
              "664        276         1  Steak Salad   \n",
              "673        279         1         Bowl   \n",
              "752        311         1  Steak Salad   \n",
              "893        369         1  Steak Salad   \n",
              "3502      1406         1  Steak Salad   \n",
              "\n",
              "                                     choice_description item_price  new_price  \n",
              "445   [Braised Carnitas, Pinto Beans, [Sour Cream, C...    $22.20       22.20  \n",
              "664   [Tomatillo-Red Chili Salsa (Hot), [Black Beans...     $8.99        8.99  \n",
              "673   [Adobo-Marinated and Grilled Steak, [Sour Crea...     $7.40        7.40  \n",
              "752   [Tomatillo-Red Chili Salsa (Hot), [Black Beans...     $8.99        8.99  \n",
              "893   [Fresh Tomato Salsa (Mild), [Rice, Cheese, Sou...     $8.99        8.99  \n",
              "3502                        [[Lettuce, Fajita Veggies]]     $8.69        8.69  "
            ]
          },
          "execution_count": 63,
          "metadata": {},
          "output_type": "execute_result"
        }
      ],
      "source": [
        "Ans"
      ]
    },
    {
      "cell_type": "markdown",
      "id": "c40a5902-d13e-4795-af1b-fd646dcfb8cf",
      "metadata": {
        "id": "c40a5902-d13e-4795-af1b-fd646dcfb8cf"
      },
      "source": [
        "### Question 33\n",
        "\n",
        "**df의 item_name 컬럼 값이 Steak Salad 또는 Bowl 인 데이터를 Ans 에 데이터 프레임 저장한 후에 item_name를 기준으로 중복 행이 있으면 제거한다**\n",
        " - drop_duplicates 의 keep 인자 확인"
      ]
    },
    {
      "cell_type": "code",
      "execution_count": null,
      "id": "596728d8-056f-461d-b09b-1e16fc667bf2",
      "metadata": {
        "ExecuteTime": {
          "end_time": "2022-02-19T18:22:28.329183Z",
          "start_time": "2022-02-19T18:22:28.324640Z"
        },
        "tags": [
          "hide-input"
        ],
        "id": "596728d8-056f-461d-b09b-1e16fc667bf2"
      },
      "outputs": [],
      "source": [
        "Ans = df[(df['item_name'] == 'Steak Salad') | (df['item_name'] == 'Bowl')]"
      ]
    },
    {
      "cell_type": "code",
      "execution_count": null,
      "id": "6804ff80-faf6-44f5-952c-06b6b4f35bce",
      "metadata": {
        "ExecuteTime": {
          "end_time": "2022-02-19T18:22:28.336808Z",
          "start_time": "2022-02-19T18:22:28.330357Z"
        },
        "id": "6804ff80-faf6-44f5-952c-06b6b4f35bce",
        "outputId": "ff19a597-219f-4dd8-cfc4-6615cd66b0cf"
      },
      "outputs": [
        {
          "data": {
            "text/html": [
              "<div>\n",
              "<style scoped>\n",
              "    .dataframe tbody tr th:only-of-type {\n",
              "        vertical-align: middle;\n",
              "    }\n",
              "\n",
              "    .dataframe tbody tr th {\n",
              "        vertical-align: top;\n",
              "    }\n",
              "\n",
              "    .dataframe thead th {\n",
              "        text-align: right;\n",
              "    }\n",
              "</style>\n",
              "<table border=\"1\" class=\"dataframe\">\n",
              "  <thead>\n",
              "    <tr style=\"text-align: right;\">\n",
              "      <th></th>\n",
              "      <th>order_id</th>\n",
              "      <th>quantity</th>\n",
              "      <th>item_name</th>\n",
              "      <th>choice_description</th>\n",
              "      <th>item_price</th>\n",
              "    </tr>\n",
              "  </thead>\n",
              "  <tbody>\n",
              "    <tr>\n",
              "      <th>445</th>\n",
              "      <td>193</td>\n",
              "      <td>3</td>\n",
              "      <td>Bowl</td>\n",
              "      <td>[Braised Carnitas, Pinto Beans, [Sour Cream, C...</td>\n",
              "      <td>$22.20</td>\n",
              "    </tr>\n",
              "    <tr>\n",
              "      <th>664</th>\n",
              "      <td>276</td>\n",
              "      <td>1</td>\n",
              "      <td>Steak Salad</td>\n",
              "      <td>[Tomatillo-Red Chili Salsa (Hot), [Black Beans...</td>\n",
              "      <td>$8.99</td>\n",
              "    </tr>\n",
              "    <tr>\n",
              "      <th>673</th>\n",
              "      <td>279</td>\n",
              "      <td>1</td>\n",
              "      <td>Bowl</td>\n",
              "      <td>[Adobo-Marinated and Grilled Steak, [Sour Crea...</td>\n",
              "      <td>$7.40</td>\n",
              "    </tr>\n",
              "    <tr>\n",
              "      <th>752</th>\n",
              "      <td>311</td>\n",
              "      <td>1</td>\n",
              "      <td>Steak Salad</td>\n",
              "      <td>[Tomatillo-Red Chili Salsa (Hot), [Black Beans...</td>\n",
              "      <td>$8.99</td>\n",
              "    </tr>\n",
              "    <tr>\n",
              "      <th>893</th>\n",
              "      <td>369</td>\n",
              "      <td>1</td>\n",
              "      <td>Steak Salad</td>\n",
              "      <td>[Fresh Tomato Salsa (Mild), [Rice, Cheese, Sou...</td>\n",
              "      <td>$8.99</td>\n",
              "    </tr>\n",
              "    <tr>\n",
              "      <th>3502</th>\n",
              "      <td>1406</td>\n",
              "      <td>1</td>\n",
              "      <td>Steak Salad</td>\n",
              "      <td>[[Lettuce, Fajita Veggies]]</td>\n",
              "      <td>$8.69</td>\n",
              "    </tr>\n",
              "  </tbody>\n",
              "</table>\n",
              "</div>"
            ],
            "text/plain": [
              "      order_id  quantity    item_name  \\\n",
              "445        193         3         Bowl   \n",
              "664        276         1  Steak Salad   \n",
              "673        279         1         Bowl   \n",
              "752        311         1  Steak Salad   \n",
              "893        369         1  Steak Salad   \n",
              "3502      1406         1  Steak Salad   \n",
              "\n",
              "                                     choice_description item_price  \n",
              "445   [Braised Carnitas, Pinto Beans, [Sour Cream, C...    $22.20   \n",
              "664   [Tomatillo-Red Chili Salsa (Hot), [Black Beans...     $8.99   \n",
              "673   [Adobo-Marinated and Grilled Steak, [Sour Crea...     $7.40   \n",
              "752   [Tomatillo-Red Chili Salsa (Hot), [Black Beans...     $8.99   \n",
              "893   [Fresh Tomato Salsa (Mild), [Rice, Cheese, Sou...     $8.99   \n",
              "3502                        [[Lettuce, Fajita Veggies]]     $8.69   "
            ]
          },
          "execution_count": 8,
          "metadata": {},
          "output_type": "execute_result"
        }
      ],
      "source": [
        "Ans"
      ]
    },
    {
      "cell_type": "code",
      "execution_count": null,
      "id": "2ec1aa35",
      "metadata": {
        "id": "2ec1aa35",
        "outputId": "5df17a96-a3fb-4b57-d498-3dda716f03dd"
      },
      "outputs": [
        {
          "data": {
            "text/html": [
              "<div>\n",
              "<style scoped>\n",
              "    .dataframe tbody tr th:only-of-type {\n",
              "        vertical-align: middle;\n",
              "    }\n",
              "\n",
              "    .dataframe tbody tr th {\n",
              "        vertical-align: top;\n",
              "    }\n",
              "\n",
              "    .dataframe thead th {\n",
              "        text-align: right;\n",
              "    }\n",
              "</style>\n",
              "<table border=\"1\" class=\"dataframe\">\n",
              "  <thead>\n",
              "    <tr style=\"text-align: right;\">\n",
              "      <th></th>\n",
              "      <th>order_id</th>\n",
              "      <th>quantity</th>\n",
              "      <th>item_name</th>\n",
              "      <th>choice_description</th>\n",
              "      <th>item_price</th>\n",
              "    </tr>\n",
              "  </thead>\n",
              "  <tbody>\n",
              "    <tr>\n",
              "      <th>445</th>\n",
              "      <td>193</td>\n",
              "      <td>3</td>\n",
              "      <td>Bowl</td>\n",
              "      <td>[Braised Carnitas, Pinto Beans, [Sour Cream, C...</td>\n",
              "      <td>$22.20</td>\n",
              "    </tr>\n",
              "    <tr>\n",
              "      <th>664</th>\n",
              "      <td>276</td>\n",
              "      <td>1</td>\n",
              "      <td>Steak Salad</td>\n",
              "      <td>[Tomatillo-Red Chili Salsa (Hot), [Black Beans...</td>\n",
              "      <td>$8.99</td>\n",
              "    </tr>\n",
              "  </tbody>\n",
              "</table>\n",
              "</div>"
            ],
            "text/plain": [
              "     order_id  quantity    item_name  \\\n",
              "445       193         3         Bowl   \n",
              "664       276         1  Steak Salad   \n",
              "\n",
              "                                    choice_description item_price  \n",
              "445  [Braised Carnitas, Pinto Beans, [Sour Cream, C...    $22.20   \n",
              "664  [Tomatillo-Red Chili Salsa (Hot), [Black Beans...     $8.99   "
            ]
          },
          "execution_count": 9,
          "metadata": {},
          "output_type": "execute_result"
        }
      ],
      "source": [
        "Ans.drop_duplicates('item_name')"
      ]
    },
    {
      "cell_type": "code",
      "execution_count": null,
      "id": "3d7777ae",
      "metadata": {
        "id": "3d7777ae",
        "outputId": "dafdcfde-1e60-4809-efa1-2cbe41c722ff"
      },
      "outputs": [
        {
          "data": {
            "text/html": [
              "<div>\n",
              "<style scoped>\n",
              "    .dataframe tbody tr th:only-of-type {\n",
              "        vertical-align: middle;\n",
              "    }\n",
              "\n",
              "    .dataframe tbody tr th {\n",
              "        vertical-align: top;\n",
              "    }\n",
              "\n",
              "    .dataframe thead th {\n",
              "        text-align: right;\n",
              "    }\n",
              "</style>\n",
              "<table border=\"1\" class=\"dataframe\">\n",
              "  <thead>\n",
              "    <tr style=\"text-align: right;\">\n",
              "      <th></th>\n",
              "      <th>order_id</th>\n",
              "      <th>quantity</th>\n",
              "      <th>item_name</th>\n",
              "      <th>choice_description</th>\n",
              "      <th>item_price</th>\n",
              "    </tr>\n",
              "  </thead>\n",
              "  <tbody>\n",
              "    <tr>\n",
              "      <th>445</th>\n",
              "      <td>193</td>\n",
              "      <td>3</td>\n",
              "      <td>Bowl</td>\n",
              "      <td>[Braised Carnitas, Pinto Beans, [Sour Cream, C...</td>\n",
              "      <td>$22.20</td>\n",
              "    </tr>\n",
              "    <tr>\n",
              "      <th>664</th>\n",
              "      <td>276</td>\n",
              "      <td>1</td>\n",
              "      <td>Steak Salad</td>\n",
              "      <td>[Tomatillo-Red Chili Salsa (Hot), [Black Beans...</td>\n",
              "      <td>$8.99</td>\n",
              "    </tr>\n",
              "    <tr>\n",
              "      <th>673</th>\n",
              "      <td>279</td>\n",
              "      <td>1</td>\n",
              "      <td>Bowl</td>\n",
              "      <td>[Adobo-Marinated and Grilled Steak, [Sour Crea...</td>\n",
              "      <td>$7.40</td>\n",
              "    </tr>\n",
              "    <tr>\n",
              "      <th>752</th>\n",
              "      <td>311</td>\n",
              "      <td>1</td>\n",
              "      <td>Steak Salad</td>\n",
              "      <td>[Tomatillo-Red Chili Salsa (Hot), [Black Beans...</td>\n",
              "      <td>$8.99</td>\n",
              "    </tr>\n",
              "    <tr>\n",
              "      <th>893</th>\n",
              "      <td>369</td>\n",
              "      <td>1</td>\n",
              "      <td>Steak Salad</td>\n",
              "      <td>[Fresh Tomato Salsa (Mild), [Rice, Cheese, Sou...</td>\n",
              "      <td>$8.99</td>\n",
              "    </tr>\n",
              "    <tr>\n",
              "      <th>3502</th>\n",
              "      <td>1406</td>\n",
              "      <td>1</td>\n",
              "      <td>Steak Salad</td>\n",
              "      <td>[[Lettuce, Fajita Veggies]]</td>\n",
              "      <td>$8.69</td>\n",
              "    </tr>\n",
              "  </tbody>\n",
              "</table>\n",
              "</div>"
            ],
            "text/plain": [
              "      order_id  quantity    item_name  \\\n",
              "445        193         3         Bowl   \n",
              "664        276         1  Steak Salad   \n",
              "673        279         1         Bowl   \n",
              "752        311         1  Steak Salad   \n",
              "893        369         1  Steak Salad   \n",
              "3502      1406         1  Steak Salad   \n",
              "\n",
              "                                     choice_description item_price  \n",
              "445   [Braised Carnitas, Pinto Beans, [Sour Cream, C...    $22.20   \n",
              "664   [Tomatillo-Red Chili Salsa (Hot), [Black Beans...     $8.99   \n",
              "673   [Adobo-Marinated and Grilled Steak, [Sour Crea...     $7.40   \n",
              "752   [Tomatillo-Red Chili Salsa (Hot), [Black Beans...     $8.99   \n",
              "893   [Fresh Tomato Salsa (Mild), [Rice, Cheese, Sou...     $8.99   \n",
              "3502                        [[Lettuce, Fajita Veggies]]     $8.69   "
            ]
          },
          "execution_count": 10,
          "metadata": {},
          "output_type": "execute_result"
        }
      ],
      "source": [
        "Ans"
      ]
    },
    {
      "cell_type": "markdown",
      "id": "3ecea8d3-48c8-426f-8259-92042dc8c1bb",
      "metadata": {
        "id": "3ecea8d3-48c8-426f-8259-92042dc8c1bb"
      },
      "source": [
        "### Question 34\n",
        "**df의 item_name 컬럼 값이 Steak Salad 또는 Bowl 인 데이터를 데이터 프레임화 한 후, item_name를 기준으로 중복행이 있으면 제거하되 마지막 케이스만 남겨라**\n"
      ]
    },
    {
      "cell_type": "code",
      "execution_count": null,
      "id": "11ff22f5-f1c3-47fc-91a1-4140044738ad",
      "metadata": {
        "ExecuteTime": {
          "end_time": "2022-02-19T18:22:28.342791Z",
          "start_time": "2022-02-19T18:22:28.338230Z"
        },
        "tags": [
          "hide-input"
        ],
        "id": "11ff22f5-f1c3-47fc-91a1-4140044738ad",
        "outputId": "ead03a3c-b770-47e8-cca9-b888db705eed"
      },
      "outputs": [
        {
          "data": {
            "text/html": [
              "<div>\n",
              "<style scoped>\n",
              "    .dataframe tbody tr th:only-of-type {\n",
              "        vertical-align: middle;\n",
              "    }\n",
              "\n",
              "    .dataframe tbody tr th {\n",
              "        vertical-align: top;\n",
              "    }\n",
              "\n",
              "    .dataframe thead th {\n",
              "        text-align: right;\n",
              "    }\n",
              "</style>\n",
              "<table border=\"1\" class=\"dataframe\">\n",
              "  <thead>\n",
              "    <tr style=\"text-align: right;\">\n",
              "      <th></th>\n",
              "      <th>order_id</th>\n",
              "      <th>quantity</th>\n",
              "      <th>item_name</th>\n",
              "      <th>choice_description</th>\n",
              "      <th>item_price</th>\n",
              "    </tr>\n",
              "  </thead>\n",
              "  <tbody>\n",
              "    <tr>\n",
              "      <th>673</th>\n",
              "      <td>279</td>\n",
              "      <td>1</td>\n",
              "      <td>Bowl</td>\n",
              "      <td>[Adobo-Marinated and Grilled Steak, [Sour Crea...</td>\n",
              "      <td>$7.40</td>\n",
              "    </tr>\n",
              "    <tr>\n",
              "      <th>3502</th>\n",
              "      <td>1406</td>\n",
              "      <td>1</td>\n",
              "      <td>Steak Salad</td>\n",
              "      <td>[[Lettuce, Fajita Veggies]]</td>\n",
              "      <td>$8.69</td>\n",
              "    </tr>\n",
              "  </tbody>\n",
              "</table>\n",
              "</div>"
            ],
            "text/plain": [
              "      order_id  quantity    item_name  \\\n",
              "673        279         1         Bowl   \n",
              "3502      1406         1  Steak Salad   \n",
              "\n",
              "                                     choice_description item_price  \n",
              "673   [Adobo-Marinated and Grilled Steak, [Sour Crea...     $7.40   \n",
              "3502                        [[Lettuce, Fajita Veggies]]     $8.69   "
            ]
          },
          "execution_count": 11,
          "metadata": {},
          "output_type": "execute_result"
        }
      ],
      "source": [
        "Ans.drop_duplicates('item_name', keep = 'last')\n",
        "\n"
      ]
    },
    {
      "cell_type": "code",
      "execution_count": null,
      "id": "3e57f455-0c56-434c-bb07-16648a4b7d1b",
      "metadata": {
        "ExecuteTime": {
          "end_time": "2022-02-19T18:22:28.351218Z",
          "start_time": "2022-02-19T18:22:28.344192Z"
        },
        "id": "3e57f455-0c56-434c-bb07-16648a4b7d1b",
        "outputId": "011e76c9-787c-427d-f973-66d99ffd6547"
      },
      "outputs": [
        {
          "data": {
            "text/html": [
              "<div>\n",
              "<style scoped>\n",
              "    .dataframe tbody tr th:only-of-type {\n",
              "        vertical-align: middle;\n",
              "    }\n",
              "\n",
              "    .dataframe tbody tr th {\n",
              "        vertical-align: top;\n",
              "    }\n",
              "\n",
              "    .dataframe thead th {\n",
              "        text-align: right;\n",
              "    }\n",
              "</style>\n",
              "<table border=\"1\" class=\"dataframe\">\n",
              "  <thead>\n",
              "    <tr style=\"text-align: right;\">\n",
              "      <th></th>\n",
              "      <th>order_id</th>\n",
              "      <th>quantity</th>\n",
              "      <th>item_name</th>\n",
              "      <th>choice_description</th>\n",
              "      <th>item_price</th>\n",
              "      <th>new_price</th>\n",
              "    </tr>\n",
              "  </thead>\n",
              "  <tbody>\n",
              "    <tr>\n",
              "      <th>673</th>\n",
              "      <td>279</td>\n",
              "      <td>1</td>\n",
              "      <td>Bowl</td>\n",
              "      <td>[Adobo-Marinated and Grilled Steak, [Sour Crea...</td>\n",
              "      <td>$7.40</td>\n",
              "      <td>7.40</td>\n",
              "    </tr>\n",
              "    <tr>\n",
              "      <th>3502</th>\n",
              "      <td>1406</td>\n",
              "      <td>1</td>\n",
              "      <td>Steak Salad</td>\n",
              "      <td>[[Lettuce, Fajita Veggies]]</td>\n",
              "      <td>$8.69</td>\n",
              "      <td>8.69</td>\n",
              "    </tr>\n",
              "  </tbody>\n",
              "</table>\n",
              "</div>"
            ],
            "text/plain": [
              "      order_id  quantity    item_name  \\\n",
              "673        279         1         Bowl   \n",
              "3502      1406         1  Steak Salad   \n",
              "\n",
              "                                     choice_description item_price  new_price  \n",
              "673   [Adobo-Marinated and Grilled Steak, [Sour Crea...     $7.40        7.40  \n",
              "3502                        [[Lettuce, Fajita Veggies]]     $8.69        8.69  "
            ]
          },
          "execution_count": 67,
          "metadata": {},
          "output_type": "execute_result"
        }
      ],
      "source": [
        "Ans"
      ]
    },
    {
      "cell_type": "markdown",
      "id": "cc5786c3-9ac3-4f6f-b2e8-c83cd79aa4f5",
      "metadata": {
        "id": "cc5786c3-9ac3-4f6f-b2e8-c83cd79aa4f5"
      },
      "source": [
        "### Question 35\n",
        "**df의 데이터 중 new_price값이 new_price값의 평균값 이상을 가지는 데이터들을 인덱싱하라**\n"
      ]
    },
    {
      "cell_type": "code",
      "execution_count": null,
      "id": "ff976574-749b-4313-87a8-7912d43fa824",
      "metadata": {
        "ExecuteTime": {
          "end_time": "2022-02-19T18:22:28.355598Z",
          "start_time": "2022-02-19T18:22:28.352433Z"
        },
        "tags": [
          "hide-input"
        ],
        "id": "ff976574-749b-4313-87a8-7912d43fa824"
      },
      "outputs": [],
      "source": [
        "df[df['new_price'] >= round(sum(df['new_price'])/len(df['new_price']))]\n",
        "\n"
      ]
    },
    {
      "cell_type": "code",
      "execution_count": null,
      "id": "379d5d1a-6985-4fe9-a9c1-b9645e68bd81",
      "metadata": {
        "ExecuteTime": {
          "end_time": "2022-02-19T18:22:28.364166Z",
          "start_time": "2022-02-19T18:22:28.356898Z"
        },
        "id": "379d5d1a-6985-4fe9-a9c1-b9645e68bd81",
        "outputId": "cd671416-5ade-46c4-b317-8667b2025643"
      },
      "outputs": [
        {
          "data": {
            "text/html": [
              "<div>\n",
              "<style scoped>\n",
              "    .dataframe tbody tr th:only-of-type {\n",
              "        vertical-align: middle;\n",
              "    }\n",
              "\n",
              "    .dataframe tbody tr th {\n",
              "        vertical-align: top;\n",
              "    }\n",
              "\n",
              "    .dataframe thead th {\n",
              "        text-align: right;\n",
              "    }\n",
              "</style>\n",
              "<table border=\"1\" class=\"dataframe\">\n",
              "  <thead>\n",
              "    <tr style=\"text-align: right;\">\n",
              "      <th></th>\n",
              "      <th>order_id</th>\n",
              "      <th>quantity</th>\n",
              "      <th>item_name</th>\n",
              "      <th>choice_description</th>\n",
              "      <th>item_price</th>\n",
              "      <th>new_price</th>\n",
              "    </tr>\n",
              "  </thead>\n",
              "  <tbody>\n",
              "    <tr>\n",
              "      <th>4</th>\n",
              "      <td>2</td>\n",
              "      <td>2</td>\n",
              "      <td>Chicken Bowl</td>\n",
              "      <td>[Tomatillo-Red Chili Salsa (Hot), [Black Beans...</td>\n",
              "      <td>$16.98</td>\n",
              "      <td>16.98</td>\n",
              "    </tr>\n",
              "    <tr>\n",
              "      <th>5</th>\n",
              "      <td>3</td>\n",
              "      <td>1</td>\n",
              "      <td>Chicken Bowl</td>\n",
              "      <td>[Fresh Tomato Salsa (Mild), [Rice, Cheese, Sou...</td>\n",
              "      <td>$10.98</td>\n",
              "      <td>10.98</td>\n",
              "    </tr>\n",
              "    <tr>\n",
              "      <th>7</th>\n",
              "      <td>4</td>\n",
              "      <td>1</td>\n",
              "      <td>Steak Burrito</td>\n",
              "      <td>[Tomatillo Red Chili Salsa, [Fajita Vegetables...</td>\n",
              "      <td>$11.75</td>\n",
              "      <td>11.75</td>\n",
              "    </tr>\n",
              "    <tr>\n",
              "      <th>8</th>\n",
              "      <td>4</td>\n",
              "      <td>1</td>\n",
              "      <td>Steak Soft Tacos</td>\n",
              "      <td>[Tomatillo Green Chili Salsa, [Pinto Beans, Ch...</td>\n",
              "      <td>$9.25</td>\n",
              "      <td>9.25</td>\n",
              "    </tr>\n",
              "    <tr>\n",
              "      <th>9</th>\n",
              "      <td>5</td>\n",
              "      <td>1</td>\n",
              "      <td>Steak Burrito</td>\n",
              "      <td>[Fresh Tomato Salsa, [Rice, Black Beans, Pinto...</td>\n",
              "      <td>$9.25</td>\n",
              "      <td>9.25</td>\n",
              "    </tr>\n",
              "  </tbody>\n",
              "</table>\n",
              "</div>"
            ],
            "text/plain": [
              "   order_id  quantity         item_name  \\\n",
              "4         2         2      Chicken Bowl   \n",
              "5         3         1      Chicken Bowl   \n",
              "7         4         1     Steak Burrito   \n",
              "8         4         1  Steak Soft Tacos   \n",
              "9         5         1     Steak Burrito   \n",
              "\n",
              "                                  choice_description item_price  new_price  \n",
              "4  [Tomatillo-Red Chili Salsa (Hot), [Black Beans...    $16.98       16.98  \n",
              "5  [Fresh Tomato Salsa (Mild), [Rice, Cheese, Sou...    $10.98       10.98  \n",
              "7  [Tomatillo Red Chili Salsa, [Fajita Vegetables...    $11.75       11.75  \n",
              "8  [Tomatillo Green Chili Salsa, [Pinto Beans, Ch...     $9.25        9.25  \n",
              "9  [Fresh Tomato Salsa, [Rice, Black Beans, Pinto...     $9.25        9.25  "
            ]
          },
          "execution_count": 69,
          "metadata": {},
          "output_type": "execute_result"
        }
      ],
      "source": [
        "Ans.head(5)"
      ]
    },
    {
      "cell_type": "markdown",
      "id": "9bc5978f-c08f-4b74-93a1-d0e1f2e3a03c",
      "metadata": {
        "id": "9bc5978f-c08f-4b74-93a1-d0e1f2e3a03c"
      },
      "source": [
        "### Question 36\n",
        "**df의 데이터 중 item_name의 값이 Izze 데이터를 Fizzy Lizzy로 수정하라**\n"
      ]
    },
    {
      "cell_type": "code",
      "execution_count": null,
      "id": "57d078da-2e8a-402c-b395-24b997c030f2",
      "metadata": {
        "ExecuteTime": {
          "end_time": "2022-02-19T18:22:28.368623Z",
          "start_time": "2022-02-19T18:22:28.365471Z"
        },
        "tags": [
          "hide-input"
        ],
        "id": "57d078da-2e8a-402c-b395-24b997c030f2"
      },
      "outputs": [],
      "source": [
        "df['item_name'] = df['item_name'].str.replace('Izze', 'Fizzy Lizzy')\n",
        "df\n",
        "\n"
      ]
    },
    {
      "cell_type": "code",
      "execution_count": null,
      "id": "cfee97f4-2f6a-4b7b-9c09-34c62efdc174",
      "metadata": {
        "ExecuteTime": {
          "end_time": "2022-02-19T18:22:28.376942Z",
          "start_time": "2022-02-19T18:22:28.369908Z"
        },
        "id": "cfee97f4-2f6a-4b7b-9c09-34c62efdc174",
        "outputId": "fc1e43a3-bee3-4c46-cdf3-4d75d8c25f56"
      },
      "outputs": [
        {
          "data": {
            "text/html": [
              "<div>\n",
              "<style scoped>\n",
              "    .dataframe tbody tr th:only-of-type {\n",
              "        vertical-align: middle;\n",
              "    }\n",
              "\n",
              "    .dataframe tbody tr th {\n",
              "        vertical-align: top;\n",
              "    }\n",
              "\n",
              "    .dataframe thead th {\n",
              "        text-align: right;\n",
              "    }\n",
              "</style>\n",
              "<table border=\"1\" class=\"dataframe\">\n",
              "  <thead>\n",
              "    <tr style=\"text-align: right;\">\n",
              "      <th></th>\n",
              "      <th>order_id</th>\n",
              "      <th>quantity</th>\n",
              "      <th>item_name</th>\n",
              "      <th>choice_description</th>\n",
              "      <th>item_price</th>\n",
              "      <th>new_price</th>\n",
              "    </tr>\n",
              "  </thead>\n",
              "  <tbody>\n",
              "    <tr>\n",
              "      <th>0</th>\n",
              "      <td>1</td>\n",
              "      <td>1</td>\n",
              "      <td>Chips and Fresh Tomato Salsa</td>\n",
              "      <td>NaN</td>\n",
              "      <td>$2.39</td>\n",
              "      <td>2.39</td>\n",
              "    </tr>\n",
              "    <tr>\n",
              "      <th>1</th>\n",
              "      <td>1</td>\n",
              "      <td>1</td>\n",
              "      <td>Fizzy Lizzy</td>\n",
              "      <td>[Clementine]</td>\n",
              "      <td>$3.39</td>\n",
              "      <td>3.39</td>\n",
              "    </tr>\n",
              "    <tr>\n",
              "      <th>2</th>\n",
              "      <td>1</td>\n",
              "      <td>1</td>\n",
              "      <td>Nantucket Nectar</td>\n",
              "      <td>[Apple]</td>\n",
              "      <td>$3.39</td>\n",
              "      <td>3.39</td>\n",
              "    </tr>\n",
              "  </tbody>\n",
              "</table>\n",
              "</div>"
            ],
            "text/plain": [
              "   order_id  quantity                     item_name choice_description  \\\n",
              "0         1         1  Chips and Fresh Tomato Salsa                NaN   \n",
              "1         1         1                   Fizzy Lizzy       [Clementine]   \n",
              "2         1         1              Nantucket Nectar            [Apple]   \n",
              "\n",
              "  item_price  new_price  \n",
              "0     $2.39        2.39  \n",
              "1     $3.39        3.39  \n",
              "2     $3.39        3.39  "
            ]
          },
          "execution_count": 71,
          "metadata": {},
          "output_type": "execute_result"
        }
      ],
      "source": [
        "Ans.head(3)"
      ]
    },
    {
      "cell_type": "markdown",
      "id": "66e82d9f-08bc-4dd1-8afb-839cc15c2b94",
      "metadata": {
        "id": "66e82d9f-08bc-4dd1-8afb-839cc15c2b94"
      },
      "source": [
        "### Question 37\n",
        "**df의 데이터 중 choice_description 값이 NaN 인 데이터의 갯수를 구하여라**\n"
      ]
    },
    {
      "cell_type": "code",
      "execution_count": null,
      "id": "e03f1211-4186-4490-a3f7-d7e866850977",
      "metadata": {
        "ExecuteTime": {
          "end_time": "2022-02-19T18:22:28.380894Z",
          "start_time": "2022-02-19T18:22:28.378281Z"
        },
        "scrolled": true,
        "tags": [
          "hide-input"
        ],
        "id": "e03f1211-4186-4490-a3f7-d7e866850977"
      },
      "outputs": [],
      "source": [
        "\n",
        "\n"
      ]
    },
    {
      "cell_type": "code",
      "execution_count": null,
      "id": "4cbed66c-d9d4-4b60-be07-f7485c3b4f68",
      "metadata": {
        "ExecuteTime": {
          "end_time": "2022-02-19T18:22:28.384996Z",
          "start_time": "2022-02-19T18:22:28.382305Z"
        },
        "id": "4cbed66c-d9d4-4b60-be07-f7485c3b4f68",
        "outputId": "a51ffe65-94cc-4520-f881-a92232d02c48"
      },
      "outputs": [
        {
          "data": {
            "text/plain": [
              "1246"
            ]
          },
          "execution_count": 73,
          "metadata": {},
          "output_type": "execute_result"
        }
      ],
      "source": [
        "Ans"
      ]
    },
    {
      "cell_type": "markdown",
      "id": "9fcba87d-315b-4ab6-afa8-7a26cbb6389e",
      "metadata": {
        "id": "9fcba87d-315b-4ab6-afa8-7a26cbb6389e"
      },
      "source": [
        "### Question 38\n",
        "**df의 데이터 중 choice_description 값이 NaN 인 데이터를 NoData 값으로 대체하라(loc 이용)**\n"
      ]
    },
    {
      "cell_type": "code",
      "execution_count": null,
      "id": "d92e63f6-a235-49ee-a56e-4747479650f7",
      "metadata": {
        "ExecuteTime": {
          "end_time": "2022-02-19T18:22:28.390010Z",
          "start_time": "2022-02-19T18:22:28.386777Z"
        },
        "tags": [
          "hide-input"
        ],
        "id": "d92e63f6-a235-49ee-a56e-4747479650f7"
      },
      "outputs": [],
      "source": [
        "df['choice_description'].isnull().sum()\n",
        "\n"
      ]
    },
    {
      "cell_type": "code",
      "execution_count": null,
      "id": "0f55c2db-207c-45a2-b659-b73c93ed711d",
      "metadata": {
        "ExecuteTime": {
          "end_time": "2022-02-19T18:22:28.398579Z",
          "start_time": "2022-02-19T18:22:28.391398Z"
        },
        "id": "0f55c2db-207c-45a2-b659-b73c93ed711d",
        "outputId": "26f001aa-9513-472e-8423-a1d77295ac51"
      },
      "outputs": [
        {
          "data": {
            "text/html": [
              "<div>\n",
              "<style scoped>\n",
              "    .dataframe tbody tr th:only-of-type {\n",
              "        vertical-align: middle;\n",
              "    }\n",
              "\n",
              "    .dataframe tbody tr th {\n",
              "        vertical-align: top;\n",
              "    }\n",
              "\n",
              "    .dataframe thead th {\n",
              "        text-align: right;\n",
              "    }\n",
              "</style>\n",
              "<table border=\"1\" class=\"dataframe\">\n",
              "  <thead>\n",
              "    <tr style=\"text-align: right;\">\n",
              "      <th></th>\n",
              "      <th>order_id</th>\n",
              "      <th>quantity</th>\n",
              "      <th>item_name</th>\n",
              "      <th>choice_description</th>\n",
              "      <th>item_price</th>\n",
              "      <th>new_price</th>\n",
              "    </tr>\n",
              "  </thead>\n",
              "  <tbody>\n",
              "    <tr>\n",
              "      <th>0</th>\n",
              "      <td>1</td>\n",
              "      <td>1</td>\n",
              "      <td>Chips and Fresh Tomato Salsa</td>\n",
              "      <td>NoData</td>\n",
              "      <td>$2.39</td>\n",
              "      <td>2.39</td>\n",
              "    </tr>\n",
              "    <tr>\n",
              "      <th>1</th>\n",
              "      <td>1</td>\n",
              "      <td>1</td>\n",
              "      <td>Fizzy Lizzy</td>\n",
              "      <td>[Clementine]</td>\n",
              "      <td>$3.39</td>\n",
              "      <td>3.39</td>\n",
              "    </tr>\n",
              "    <tr>\n",
              "      <th>2</th>\n",
              "      <td>1</td>\n",
              "      <td>1</td>\n",
              "      <td>Nantucket Nectar</td>\n",
              "      <td>[Apple]</td>\n",
              "      <td>$3.39</td>\n",
              "      <td>3.39</td>\n",
              "    </tr>\n",
              "    <tr>\n",
              "      <th>3</th>\n",
              "      <td>1</td>\n",
              "      <td>1</td>\n",
              "      <td>Chips and Tomatillo-Green Chili Salsa</td>\n",
              "      <td>NoData</td>\n",
              "      <td>$2.39</td>\n",
              "      <td>2.39</td>\n",
              "    </tr>\n",
              "    <tr>\n",
              "      <th>4</th>\n",
              "      <td>2</td>\n",
              "      <td>2</td>\n",
              "      <td>Chicken Bowl</td>\n",
              "      <td>[Tomatillo-Red Chili Salsa (Hot), [Black Beans...</td>\n",
              "      <td>$16.98</td>\n",
              "      <td>16.98</td>\n",
              "    </tr>\n",
              "  </tbody>\n",
              "</table>\n",
              "</div>"
            ],
            "text/plain": [
              "   order_id  quantity                              item_name  \\\n",
              "0         1         1           Chips and Fresh Tomato Salsa   \n",
              "1         1         1                            Fizzy Lizzy   \n",
              "2         1         1                       Nantucket Nectar   \n",
              "3         1         1  Chips and Tomatillo-Green Chili Salsa   \n",
              "4         2         2                           Chicken Bowl   \n",
              "\n",
              "                                  choice_description item_price  new_price  \n",
              "0                                             NoData     $2.39        2.39  \n",
              "1                                       [Clementine]     $3.39        3.39  \n",
              "2                                            [Apple]     $3.39        3.39  \n",
              "3                                             NoData     $2.39        2.39  \n",
              "4  [Tomatillo-Red Chili Salsa (Hot), [Black Beans...    $16.98       16.98  "
            ]
          },
          "execution_count": 75,
          "metadata": {},
          "output_type": "execute_result"
        }
      ],
      "source": [
        "Ans.head()"
      ]
    },
    {
      "cell_type": "markdown",
      "id": "f8aadd2e-360e-46fd-9ed0-a47216633389",
      "metadata": {
        "id": "f8aadd2e-360e-46fd-9ed0-a47216633389"
      },
      "source": [
        "### Question 39\n",
        "**df의 데이터 중 choice_description 값에 Black이 들어가는 경우를 인덱싱하라**\n"
      ]
    },
    {
      "cell_type": "code",
      "execution_count": null,
      "id": "f37074f6-decc-40cd-83ca-9a0183831696",
      "metadata": {
        "ExecuteTime": {
          "end_time": "2022-02-19T18:22:28.404792Z",
          "start_time": "2022-02-19T18:22:28.399881Z"
        },
        "tags": [
          "hide-input"
        ],
        "id": "f37074f6-decc-40cd-83ca-9a0183831696"
      },
      "outputs": [],
      "source": [
        "df[df['choice_description'].str.contains('Black')]\n"
      ]
    },
    {
      "cell_type": "code",
      "execution_count": null,
      "id": "c37b8d32-b664-4061-b91f-d24b00d95d07",
      "metadata": {
        "ExecuteTime": {
          "end_time": "2022-02-19T18:22:28.413658Z",
          "start_time": "2022-02-19T18:22:28.406059Z"
        },
        "id": "c37b8d32-b664-4061-b91f-d24b00d95d07",
        "outputId": "c34fec0e-349f-4f40-a742-34bf24db4855"
      },
      "outputs": [
        {
          "data": {
            "text/html": [
              "<div>\n",
              "<style scoped>\n",
              "    .dataframe tbody tr th:only-of-type {\n",
              "        vertical-align: middle;\n",
              "    }\n",
              "\n",
              "    .dataframe tbody tr th {\n",
              "        vertical-align: top;\n",
              "    }\n",
              "\n",
              "    .dataframe thead th {\n",
              "        text-align: right;\n",
              "    }\n",
              "</style>\n",
              "<table border=\"1\" class=\"dataframe\">\n",
              "  <thead>\n",
              "    <tr style=\"text-align: right;\">\n",
              "      <th></th>\n",
              "      <th>order_id</th>\n",
              "      <th>quantity</th>\n",
              "      <th>item_name</th>\n",
              "      <th>choice_description</th>\n",
              "      <th>item_price</th>\n",
              "      <th>new_price</th>\n",
              "    </tr>\n",
              "  </thead>\n",
              "  <tbody>\n",
              "    <tr>\n",
              "      <th>4</th>\n",
              "      <td>2</td>\n",
              "      <td>2</td>\n",
              "      <td>Chicken Bowl</td>\n",
              "      <td>[Tomatillo-Red Chili Salsa (Hot), [Black Beans...</td>\n",
              "      <td>$16.98</td>\n",
              "      <td>16.98</td>\n",
              "    </tr>\n",
              "    <tr>\n",
              "      <th>7</th>\n",
              "      <td>4</td>\n",
              "      <td>1</td>\n",
              "      <td>Steak Burrito</td>\n",
              "      <td>[Tomatillo Red Chili Salsa, [Fajita Vegetables...</td>\n",
              "      <td>$11.75</td>\n",
              "      <td>11.75</td>\n",
              "    </tr>\n",
              "    <tr>\n",
              "      <th>9</th>\n",
              "      <td>5</td>\n",
              "      <td>1</td>\n",
              "      <td>Steak Burrito</td>\n",
              "      <td>[Fresh Tomato Salsa, [Rice, Black Beans, Pinto...</td>\n",
              "      <td>$9.25</td>\n",
              "      <td>9.25</td>\n",
              "    </tr>\n",
              "    <tr>\n",
              "      <th>11</th>\n",
              "      <td>6</td>\n",
              "      <td>1</td>\n",
              "      <td>Chicken Crispy Tacos</td>\n",
              "      <td>[Roasted Chili Corn Salsa, [Fajita Vegetables,...</td>\n",
              "      <td>$8.75</td>\n",
              "      <td>8.75</td>\n",
              "    </tr>\n",
              "    <tr>\n",
              "      <th>12</th>\n",
              "      <td>6</td>\n",
              "      <td>1</td>\n",
              "      <td>Chicken Soft Tacos</td>\n",
              "      <td>[Roasted Chili Corn Salsa, [Rice, Black Beans,...</td>\n",
              "      <td>$8.75</td>\n",
              "      <td>8.75</td>\n",
              "    </tr>\n",
              "  </tbody>\n",
              "</table>\n",
              "</div>"
            ],
            "text/plain": [
              "    order_id  quantity             item_name  \\\n",
              "4          2         2          Chicken Bowl   \n",
              "7          4         1         Steak Burrito   \n",
              "9          5         1         Steak Burrito   \n",
              "11         6         1  Chicken Crispy Tacos   \n",
              "12         6         1    Chicken Soft Tacos   \n",
              "\n",
              "                                   choice_description item_price  new_price  \n",
              "4   [Tomatillo-Red Chili Salsa (Hot), [Black Beans...    $16.98       16.98  \n",
              "7   [Tomatillo Red Chili Salsa, [Fajita Vegetables...    $11.75       11.75  \n",
              "9   [Fresh Tomato Salsa, [Rice, Black Beans, Pinto...     $9.25        9.25  \n",
              "11  [Roasted Chili Corn Salsa, [Fajita Vegetables,...     $8.75        8.75  \n",
              "12  [Roasted Chili Corn Salsa, [Rice, Black Beans,...     $8.75        8.75  "
            ]
          },
          "execution_count": 77,
          "metadata": {},
          "output_type": "execute_result"
        }
      ],
      "source": [
        "Ans.head(5)"
      ]
    },
    {
      "cell_type": "markdown",
      "id": "469bec26-7554-45db-b72a-cec9fd0e5cbe",
      "metadata": {
        "id": "469bec26-7554-45db-b72a-cec9fd0e5cbe"
      },
      "source": [
        "### Question 40\n",
        "**df의 데이터 중 choice_description 값에 Vegetables 들어가지 않는 경우의 갯수를 출력하라**\n"
      ]
    },
    {
      "cell_type": "code",
      "execution_count": null,
      "id": "0d088dde-fa89-400d-bca8-4160142c5eac",
      "metadata": {
        "ExecuteTime": {
          "end_time": "2022-02-19T18:22:28.419596Z",
          "start_time": "2022-02-19T18:22:28.414950Z"
        },
        "tags": [
          "hide-input"
        ],
        "id": "0d088dde-fa89-400d-bca8-4160142c5eac",
        "outputId": "ca6699f6-baa8-4ba5-db54-7e9cbc200e40"
      },
      "outputs": [
        {
          "data": {
            "text/plain": [
              "order_id              2654\n",
              "quantity              2654\n",
              "item_name             2654\n",
              "choice_description    2654\n",
              "item_price            2654\n",
              "dtype: int64"
            ]
          },
          "execution_count": 14,
          "metadata": {},
          "output_type": "execute_result"
        }
      ],
      "source": [
        "df[df['choice_description'].str.find('Vegetables') < 0].count()\n"
      ]
    },
    {
      "cell_type": "code",
      "execution_count": null,
      "id": "e669163b-23fb-4326-b991-5d0988086c5b",
      "metadata": {
        "ExecuteTime": {
          "end_time": "2022-02-19T18:22:28.423679Z",
          "start_time": "2022-02-19T18:22:28.420851Z"
        },
        "id": "e669163b-23fb-4326-b991-5d0988086c5b",
        "outputId": "b4c56569-5ce5-4227-e68b-aa9daa991e7a"
      },
      "outputs": [
        {
          "data": {
            "text/plain": [
              "3900"
            ]
          },
          "execution_count": 79,
          "metadata": {},
          "output_type": "execute_result"
        }
      ],
      "source": [
        "Ans"
      ]
    },
    {
      "cell_type": "markdown",
      "id": "413e01f3-2dba-44d5-b819-6bc32156057f",
      "metadata": {
        "id": "413e01f3-2dba-44d5-b819-6bc32156057f"
      },
      "source": [
        "### Question 41\n",
        "**df의 데이터 중 item_name 값이 N으로 시작하는 데이터를 모두 추출하라**\n"
      ]
    },
    {
      "cell_type": "code",
      "execution_count": null,
      "id": "e091cf12-1d6b-4c90-8915-8f97e7decfba",
      "metadata": {
        "ExecuteTime": {
          "end_time": "2022-02-19T18:22:28.429035Z",
          "start_time": "2022-02-19T18:22:28.424928Z"
        },
        "scrolled": true,
        "tags": [
          "hide-input"
        ],
        "id": "e091cf12-1d6b-4c90-8915-8f97e7decfba",
        "outputId": "224dfae7-01cf-4425-bb36-6d37b5826eae"
      },
      "outputs": [
        {
          "data": {
            "text/html": [
              "<div>\n",
              "<style scoped>\n",
              "    .dataframe tbody tr th:only-of-type {\n",
              "        vertical-align: middle;\n",
              "    }\n",
              "\n",
              "    .dataframe tbody tr th {\n",
              "        vertical-align: top;\n",
              "    }\n",
              "\n",
              "    .dataframe thead th {\n",
              "        text-align: right;\n",
              "    }\n",
              "</style>\n",
              "<table border=\"1\" class=\"dataframe\">\n",
              "  <thead>\n",
              "    <tr style=\"text-align: right;\">\n",
              "      <th></th>\n",
              "      <th>order_id</th>\n",
              "      <th>quantity</th>\n",
              "      <th>item_name</th>\n",
              "      <th>choice_description</th>\n",
              "      <th>item_price</th>\n",
              "    </tr>\n",
              "  </thead>\n",
              "  <tbody>\n",
              "    <tr>\n",
              "      <th>2</th>\n",
              "      <td>1</td>\n",
              "      <td>1</td>\n",
              "      <td>Nantucket Nectar</td>\n",
              "      <td>[Apple]</td>\n",
              "      <td>$3.39</td>\n",
              "    </tr>\n",
              "    <tr>\n",
              "      <th>22</th>\n",
              "      <td>11</td>\n",
              "      <td>1</td>\n",
              "      <td>Nantucket Nectar</td>\n",
              "      <td>[Pomegranate Cherry]</td>\n",
              "      <td>$3.39</td>\n",
              "    </tr>\n",
              "    <tr>\n",
              "      <th>105</th>\n",
              "      <td>46</td>\n",
              "      <td>1</td>\n",
              "      <td>Nantucket Nectar</td>\n",
              "      <td>[Pineapple Orange Banana]</td>\n",
              "      <td>$3.39</td>\n",
              "    </tr>\n",
              "    <tr>\n",
              "      <th>173</th>\n",
              "      <td>77</td>\n",
              "      <td>1</td>\n",
              "      <td>Nantucket Nectar</td>\n",
              "      <td>[Apple]</td>\n",
              "      <td>$3.39</td>\n",
              "    </tr>\n",
              "    <tr>\n",
              "      <th>205</th>\n",
              "      <td>91</td>\n",
              "      <td>1</td>\n",
              "      <td>Nantucket Nectar</td>\n",
              "      <td>[Peach Orange]</td>\n",
              "      <td>$3.39</td>\n",
              "    </tr>\n",
              "    <tr>\n",
              "      <th>436</th>\n",
              "      <td>189</td>\n",
              "      <td>1</td>\n",
              "      <td>Nantucket Nectar</td>\n",
              "      <td>[Pomegranate Cherry]</td>\n",
              "      <td>$3.39</td>\n",
              "    </tr>\n",
              "    <tr>\n",
              "      <th>601</th>\n",
              "      <td>247</td>\n",
              "      <td>2</td>\n",
              "      <td>Nantucket Nectar</td>\n",
              "      <td>[Pineapple Orange Banana]</td>\n",
              "      <td>$6.78</td>\n",
              "    </tr>\n",
              "    <tr>\n",
              "      <th>925</th>\n",
              "      <td>381</td>\n",
              "      <td>1</td>\n",
              "      <td>Nantucket Nectar</td>\n",
              "      <td>[Pomegranate Cherry]</td>\n",
              "      <td>$3.39</td>\n",
              "    </tr>\n",
              "    <tr>\n",
              "      <th>1356</th>\n",
              "      <td>553</td>\n",
              "      <td>1</td>\n",
              "      <td>Nantucket Nectar</td>\n",
              "      <td>[Pomegranate Cherry]</td>\n",
              "      <td>$3.39</td>\n",
              "    </tr>\n",
              "    <tr>\n",
              "      <th>1585</th>\n",
              "      <td>641</td>\n",
              "      <td>1</td>\n",
              "      <td>Nantucket Nectar</td>\n",
              "      <td>[Peach Orange]</td>\n",
              "      <td>$3.39</td>\n",
              "    </tr>\n",
              "    <tr>\n",
              "      <th>1626</th>\n",
              "      <td>656</td>\n",
              "      <td>1</td>\n",
              "      <td>Nantucket Nectar</td>\n",
              "      <td>[Pineapple Orange Banana]</td>\n",
              "      <td>$3.39</td>\n",
              "    </tr>\n",
              "    <tr>\n",
              "      <th>1706</th>\n",
              "      <td>690</td>\n",
              "      <td>1</td>\n",
              "      <td>Nantucket Nectar</td>\n",
              "      <td>[Apple]</td>\n",
              "      <td>$3.39</td>\n",
              "    </tr>\n",
              "    <tr>\n",
              "      <th>2162</th>\n",
              "      <td>872</td>\n",
              "      <td>1</td>\n",
              "      <td>Nantucket Nectar</td>\n",
              "      <td>[Pineapple Orange Banana]</td>\n",
              "      <td>$3.39</td>\n",
              "    </tr>\n",
              "    <tr>\n",
              "      <th>2379</th>\n",
              "      <td>947</td>\n",
              "      <td>2</td>\n",
              "      <td>Nantucket Nectar</td>\n",
              "      <td>[Peach Orange]</td>\n",
              "      <td>$6.78</td>\n",
              "    </tr>\n",
              "    <tr>\n",
              "      <th>2381</th>\n",
              "      <td>947</td>\n",
              "      <td>1</td>\n",
              "      <td>Nantucket Nectar</td>\n",
              "      <td>[Apple]</td>\n",
              "      <td>$3.39</td>\n",
              "    </tr>\n",
              "    <tr>\n",
              "      <th>2430</th>\n",
              "      <td>965</td>\n",
              "      <td>1</td>\n",
              "      <td>Nantucket Nectar</td>\n",
              "      <td>[Pomegranate Cherry]</td>\n",
              "      <td>$3.39</td>\n",
              "    </tr>\n",
              "    <tr>\n",
              "      <th>2653</th>\n",
              "      <td>1053</td>\n",
              "      <td>1</td>\n",
              "      <td>Nantucket Nectar</td>\n",
              "      <td>[Pineapple Orange Banana]</td>\n",
              "      <td>$3.39</td>\n",
              "    </tr>\n",
              "    <tr>\n",
              "      <th>2818</th>\n",
              "      <td>1118</td>\n",
              "      <td>1</td>\n",
              "      <td>Nantucket Nectar</td>\n",
              "      <td>[Apple]</td>\n",
              "      <td>$3.39</td>\n",
              "    </tr>\n",
              "    <tr>\n",
              "      <th>2838</th>\n",
              "      <td>1128</td>\n",
              "      <td>1</td>\n",
              "      <td>Nantucket Nectar</td>\n",
              "      <td>[Peach Orange]</td>\n",
              "      <td>$3.39</td>\n",
              "    </tr>\n",
              "    <tr>\n",
              "      <th>2853</th>\n",
              "      <td>1133</td>\n",
              "      <td>1</td>\n",
              "      <td>Nantucket Nectar</td>\n",
              "      <td>[Apple]</td>\n",
              "      <td>$3.39</td>\n",
              "    </tr>\n",
              "    <tr>\n",
              "      <th>2949</th>\n",
              "      <td>1172</td>\n",
              "      <td>1</td>\n",
              "      <td>Nantucket Nectar</td>\n",
              "      <td>[Peach Orange]</td>\n",
              "      <td>$3.39</td>\n",
              "    </tr>\n",
              "    <tr>\n",
              "      <th>3318</th>\n",
              "      <td>1330</td>\n",
              "      <td>1</td>\n",
              "      <td>Nantucket Nectar</td>\n",
              "      <td>[Peach Orange]</td>\n",
              "      <td>$3.39</td>\n",
              "    </tr>\n",
              "    <tr>\n",
              "      <th>3368</th>\n",
              "      <td>1351</td>\n",
              "      <td>1</td>\n",
              "      <td>Nantucket Nectar</td>\n",
              "      <td>[Pineapple Orange Banana]</td>\n",
              "      <td>$3.39</td>\n",
              "    </tr>\n",
              "    <tr>\n",
              "      <th>3570</th>\n",
              "      <td>1433</td>\n",
              "      <td>1</td>\n",
              "      <td>Nantucket Nectar</td>\n",
              "      <td>[Pineapple Orange Banana]</td>\n",
              "      <td>$3.39</td>\n",
              "    </tr>\n",
              "    <tr>\n",
              "      <th>3845</th>\n",
              "      <td>1541</td>\n",
              "      <td>1</td>\n",
              "      <td>Nantucket Nectar</td>\n",
              "      <td>[Peach Orange]</td>\n",
              "      <td>$3.39</td>\n",
              "    </tr>\n",
              "    <tr>\n",
              "      <th>4019</th>\n",
              "      <td>1609</td>\n",
              "      <td>1</td>\n",
              "      <td>Nantucket Nectar</td>\n",
              "      <td>[Pineapple Orange Banana]</td>\n",
              "      <td>$3.39</td>\n",
              "    </tr>\n",
              "    <tr>\n",
              "      <th>4078</th>\n",
              "      <td>1632</td>\n",
              "      <td>1</td>\n",
              "      <td>Nantucket Nectar</td>\n",
              "      <td>[Peach Orange]</td>\n",
              "      <td>$3.39</td>\n",
              "    </tr>\n",
              "  </tbody>\n",
              "</table>\n",
              "</div>"
            ],
            "text/plain": [
              "      order_id  quantity         item_name         choice_description  \\\n",
              "2            1         1  Nantucket Nectar                    [Apple]   \n",
              "22          11         1  Nantucket Nectar       [Pomegranate Cherry]   \n",
              "105         46         1  Nantucket Nectar  [Pineapple Orange Banana]   \n",
              "173         77         1  Nantucket Nectar                    [Apple]   \n",
              "205         91         1  Nantucket Nectar             [Peach Orange]   \n",
              "436        189         1  Nantucket Nectar       [Pomegranate Cherry]   \n",
              "601        247         2  Nantucket Nectar  [Pineapple Orange Banana]   \n",
              "925        381         1  Nantucket Nectar       [Pomegranate Cherry]   \n",
              "1356       553         1  Nantucket Nectar       [Pomegranate Cherry]   \n",
              "1585       641         1  Nantucket Nectar             [Peach Orange]   \n",
              "1626       656         1  Nantucket Nectar  [Pineapple Orange Banana]   \n",
              "1706       690         1  Nantucket Nectar                    [Apple]   \n",
              "2162       872         1  Nantucket Nectar  [Pineapple Orange Banana]   \n",
              "2379       947         2  Nantucket Nectar             [Peach Orange]   \n",
              "2381       947         1  Nantucket Nectar                    [Apple]   \n",
              "2430       965         1  Nantucket Nectar       [Pomegranate Cherry]   \n",
              "2653      1053         1  Nantucket Nectar  [Pineapple Orange Banana]   \n",
              "2818      1118         1  Nantucket Nectar                    [Apple]   \n",
              "2838      1128         1  Nantucket Nectar             [Peach Orange]   \n",
              "2853      1133         1  Nantucket Nectar                    [Apple]   \n",
              "2949      1172         1  Nantucket Nectar             [Peach Orange]   \n",
              "3318      1330         1  Nantucket Nectar             [Peach Orange]   \n",
              "3368      1351         1  Nantucket Nectar  [Pineapple Orange Banana]   \n",
              "3570      1433         1  Nantucket Nectar  [Pineapple Orange Banana]   \n",
              "3845      1541         1  Nantucket Nectar             [Peach Orange]   \n",
              "4019      1609         1  Nantucket Nectar  [Pineapple Orange Banana]   \n",
              "4078      1632         1  Nantucket Nectar             [Peach Orange]   \n",
              "\n",
              "     item_price  \n",
              "2        $3.39   \n",
              "22       $3.39   \n",
              "105      $3.39   \n",
              "173      $3.39   \n",
              "205      $3.39   \n",
              "436      $3.39   \n",
              "601      $6.78   \n",
              "925      $3.39   \n",
              "1356     $3.39   \n",
              "1585     $3.39   \n",
              "1626     $3.39   \n",
              "1706     $3.39   \n",
              "2162     $3.39   \n",
              "2379     $6.78   \n",
              "2381     $3.39   \n",
              "2430     $3.39   \n",
              "2653     $3.39   \n",
              "2818     $3.39   \n",
              "2838     $3.39   \n",
              "2853     $3.39   \n",
              "2949     $3.39   \n",
              "3318     $3.39   \n",
              "3368     $3.39   \n",
              "3570     $3.39   \n",
              "3845     $3.39   \n",
              "4019     $3.39   \n",
              "4078     $3.39   "
            ]
          },
          "execution_count": 15,
          "metadata": {},
          "output_type": "execute_result"
        }
      ],
      "source": [
        "df[df['item_name'].str[0] == 'N']\n",
        "\n"
      ]
    },
    {
      "cell_type": "code",
      "execution_count": null,
      "id": "d3ac3084-6030-4b76-9283-3c77a6da5709",
      "metadata": {
        "ExecuteTime": {
          "end_time": "2022-02-19T18:22:28.452510Z",
          "start_time": "2022-02-19T18:22:28.445337Z"
        },
        "id": "d3ac3084-6030-4b76-9283-3c77a6da5709",
        "outputId": "10b4cbbd-753a-4d04-fde5-4037bcbe51e8"
      },
      "outputs": [
        {
          "data": {
            "text/html": [
              "<div>\n",
              "<style scoped>\n",
              "    .dataframe tbody tr th:only-of-type {\n",
              "        vertical-align: middle;\n",
              "    }\n",
              "\n",
              "    .dataframe tbody tr th {\n",
              "        vertical-align: top;\n",
              "    }\n",
              "\n",
              "    .dataframe thead th {\n",
              "        text-align: right;\n",
              "    }\n",
              "</style>\n",
              "<table border=\"1\" class=\"dataframe\">\n",
              "  <thead>\n",
              "    <tr style=\"text-align: right;\">\n",
              "      <th></th>\n",
              "      <th>order_id</th>\n",
              "      <th>quantity</th>\n",
              "      <th>item_name</th>\n",
              "      <th>choice_description</th>\n",
              "      <th>item_price</th>\n",
              "      <th>new_price</th>\n",
              "    </tr>\n",
              "  </thead>\n",
              "  <tbody>\n",
              "    <tr>\n",
              "      <th>2</th>\n",
              "      <td>1</td>\n",
              "      <td>1</td>\n",
              "      <td>Nantucket Nectar</td>\n",
              "      <td>[Apple]</td>\n",
              "      <td>$3.39</td>\n",
              "      <td>3.39</td>\n",
              "    </tr>\n",
              "    <tr>\n",
              "      <th>22</th>\n",
              "      <td>11</td>\n",
              "      <td>1</td>\n",
              "      <td>Nantucket Nectar</td>\n",
              "      <td>[Pomegranate Cherry]</td>\n",
              "      <td>$3.39</td>\n",
              "      <td>3.39</td>\n",
              "    </tr>\n",
              "    <tr>\n",
              "      <th>105</th>\n",
              "      <td>46</td>\n",
              "      <td>1</td>\n",
              "      <td>Nantucket Nectar</td>\n",
              "      <td>[Pineapple Orange Banana]</td>\n",
              "      <td>$3.39</td>\n",
              "      <td>3.39</td>\n",
              "    </tr>\n",
              "  </tbody>\n",
              "</table>\n",
              "</div>"
            ],
            "text/plain": [
              "     order_id  quantity         item_name         choice_description  \\\n",
              "2           1         1  Nantucket Nectar                    [Apple]   \n",
              "22         11         1  Nantucket Nectar       [Pomegranate Cherry]   \n",
              "105        46         1  Nantucket Nectar  [Pineapple Orange Banana]   \n",
              "\n",
              "    item_price  new_price  \n",
              "2       $3.39        3.39  \n",
              "22      $3.39        3.39  \n",
              "105     $3.39        3.39  "
            ]
          },
          "execution_count": 81,
          "metadata": {},
          "output_type": "execute_result"
        }
      ],
      "source": [
        "Ans.head(3)"
      ]
    },
    {
      "cell_type": "markdown",
      "id": "e47db345-9a3e-499b-9b66-cb80d709be80",
      "metadata": {
        "id": "e47db345-9a3e-499b-9b66-cb80d709be80"
      },
      "source": [
        "### Question 42\n",
        "**df의 데이터 중 item_name 값의 단어갯수가 15개 이상인 데이터를 인덱싱하라**\n"
      ]
    },
    {
      "cell_type": "code",
      "execution_count": null,
      "id": "157ed630-e3d6-4a27-821f-8fe6a5e6536c",
      "metadata": {
        "ExecuteTime": {
          "end_time": "2022-02-19T18:22:28.457840Z",
          "start_time": "2022-02-19T18:22:28.453611Z"
        },
        "tags": [
          "hide-input"
        ],
        "id": "157ed630-e3d6-4a27-821f-8fe6a5e6536c",
        "outputId": "ce48f668-0bf8-41b5-f374-c9dd22b08d28"
      },
      "outputs": [
        {
          "data": {
            "text/html": [
              "<div>\n",
              "<style scoped>\n",
              "    .dataframe tbody tr th:only-of-type {\n",
              "        vertical-align: middle;\n",
              "    }\n",
              "\n",
              "    .dataframe tbody tr th {\n",
              "        vertical-align: top;\n",
              "    }\n",
              "\n",
              "    .dataframe thead th {\n",
              "        text-align: right;\n",
              "    }\n",
              "</style>\n",
              "<table border=\"1\" class=\"dataframe\">\n",
              "  <thead>\n",
              "    <tr style=\"text-align: right;\">\n",
              "      <th></th>\n",
              "      <th>order_id</th>\n",
              "      <th>quantity</th>\n",
              "      <th>item_name</th>\n",
              "      <th>choice_description</th>\n",
              "      <th>item_price</th>\n",
              "    </tr>\n",
              "  </thead>\n",
              "  <tbody>\n",
              "    <tr>\n",
              "      <th>0</th>\n",
              "      <td>1</td>\n",
              "      <td>1</td>\n",
              "      <td>Chips and Fresh Tomato Salsa</td>\n",
              "      <td>NaN</td>\n",
              "      <td>$2.39</td>\n",
              "    </tr>\n",
              "    <tr>\n",
              "      <th>2</th>\n",
              "      <td>1</td>\n",
              "      <td>1</td>\n",
              "      <td>Nantucket Nectar</td>\n",
              "      <td>[Apple]</td>\n",
              "      <td>$3.39</td>\n",
              "    </tr>\n",
              "    <tr>\n",
              "      <th>3</th>\n",
              "      <td>1</td>\n",
              "      <td>1</td>\n",
              "      <td>Chips and Tomatillo-Green Chili Salsa</td>\n",
              "      <td>NaN</td>\n",
              "      <td>$2.39</td>\n",
              "    </tr>\n",
              "  </tbody>\n",
              "</table>\n",
              "</div>"
            ],
            "text/plain": [
              "   order_id  quantity                              item_name  \\\n",
              "0         1         1           Chips and Fresh Tomato Salsa   \n",
              "2         1         1                       Nantucket Nectar   \n",
              "3         1         1  Chips and Tomatillo-Green Chili Salsa   \n",
              "\n",
              "  choice_description item_price  \n",
              "0                NaN     $2.39   \n",
              "2            [Apple]     $3.39   \n",
              "3                NaN     $2.39   "
            ]
          },
          "execution_count": 17,
          "metadata": {},
          "output_type": "execute_result"
        }
      ],
      "source": [
        "df[df['item_name'].str.len() >=15].head(3)\n",
        "\n"
      ]
    },
    {
      "cell_type": "code",
      "execution_count": null,
      "id": "af2f29d2-6739-4077-9eee-e87a65f270f6",
      "metadata": {
        "ExecuteTime": {
          "end_time": "2022-02-19T18:22:28.465958Z",
          "start_time": "2022-02-19T18:22:28.459118Z"
        },
        "id": "af2f29d2-6739-4077-9eee-e87a65f270f6",
        "outputId": "262a2eb4-efc7-4ea9-8c6f-ebddb6caff46"
      },
      "outputs": [
        {
          "data": {
            "text/html": [
              "<div>\n",
              "<style scoped>\n",
              "    .dataframe tbody tr th:only-of-type {\n",
              "        vertical-align: middle;\n",
              "    }\n",
              "\n",
              "    .dataframe tbody tr th {\n",
              "        vertical-align: top;\n",
              "    }\n",
              "\n",
              "    .dataframe thead th {\n",
              "        text-align: right;\n",
              "    }\n",
              "</style>\n",
              "<table border=\"1\" class=\"dataframe\">\n",
              "  <thead>\n",
              "    <tr style=\"text-align: right;\">\n",
              "      <th></th>\n",
              "      <th>order_id</th>\n",
              "      <th>quantity</th>\n",
              "      <th>item_name</th>\n",
              "      <th>choice_description</th>\n",
              "      <th>item_price</th>\n",
              "      <th>new_price</th>\n",
              "    </tr>\n",
              "  </thead>\n",
              "  <tbody>\n",
              "    <tr>\n",
              "      <th>0</th>\n",
              "      <td>1</td>\n",
              "      <td>1</td>\n",
              "      <td>Chips and Fresh Tomato Salsa</td>\n",
              "      <td>NoData</td>\n",
              "      <td>$2.39</td>\n",
              "      <td>2.39</td>\n",
              "    </tr>\n",
              "    <tr>\n",
              "      <th>2</th>\n",
              "      <td>1</td>\n",
              "      <td>1</td>\n",
              "      <td>Nantucket Nectar</td>\n",
              "      <td>[Apple]</td>\n",
              "      <td>$3.39</td>\n",
              "      <td>3.39</td>\n",
              "    </tr>\n",
              "    <tr>\n",
              "      <th>3</th>\n",
              "      <td>1</td>\n",
              "      <td>1</td>\n",
              "      <td>Chips and Tomatillo-Green Chili Salsa</td>\n",
              "      <td>NoData</td>\n",
              "      <td>$2.39</td>\n",
              "      <td>2.39</td>\n",
              "    </tr>\n",
              "  </tbody>\n",
              "</table>\n",
              "</div>"
            ],
            "text/plain": [
              "   order_id  quantity                              item_name  \\\n",
              "0         1         1           Chips and Fresh Tomato Salsa   \n",
              "2         1         1                       Nantucket Nectar   \n",
              "3         1         1  Chips and Tomatillo-Green Chili Salsa   \n",
              "\n",
              "  choice_description item_price  new_price  \n",
              "0             NoData     $2.39        2.39  \n",
              "2            [Apple]     $3.39        3.39  \n",
              "3             NoData     $2.39        2.39  "
            ]
          },
          "execution_count": 83,
          "metadata": {},
          "output_type": "execute_result"
        }
      ],
      "source": [
        "Ans.head(3)"
      ]
    },
    {
      "cell_type": "markdown",
      "id": "b3905ab9-3b58-4d2c-a5bc-de661abb5339",
      "metadata": {
        "id": "b3905ab9-3b58-4d2c-a5bc-de661abb5339"
      },
      "source": [
        "### Question 43\n",
        "**df의 데이터 중 new_price값이 lst에 해당하는 경우의 데이터 프레임을 구하고 그 갯수를 출력하라**\n",
        "\n",
        "```lst =[1.69, 2.39, 3.39, 4.45, 9.25, 10.98, 11.75, 16.98]```\n"
      ]
    },
    {
      "cell_type": "code",
      "execution_count": null,
      "id": "e22f7a15-377f-44c8-899f-d31959c7a9cc",
      "metadata": {
        "ExecuteTime": {
          "end_time": "2022-02-19T18:22:28.470500Z",
          "start_time": "2022-02-19T18:22:28.467323Z"
        },
        "id": "e22f7a15-377f-44c8-899f-d31959c7a9cc",
        "outputId": "3e07a133-b956-4461-aa27-376b325190d7"
      },
      "outputs": [
        {
          "ename": "KeyError",
          "evalue": "'new_price'",
          "output_type": "error",
          "traceback": [
            "\u001b[1;31m---------------------------------------------------------------------------\u001b[0m",
            "\u001b[1;31mKeyError\u001b[0m                                  Traceback (most recent call last)",
            "\u001b[1;32m~\\anaconda3\\lib\\site-packages\\pandas\\core\\indexes\\base.py\u001b[0m in \u001b[0;36mget_loc\u001b[1;34m(self, key, method, tolerance)\u001b[0m\n\u001b[0;32m   3628\u001b[0m             \u001b[1;32mtry\u001b[0m\u001b[1;33m:\u001b[0m\u001b[1;33m\u001b[0m\u001b[1;33m\u001b[0m\u001b[0m\n\u001b[1;32m-> 3629\u001b[1;33m                 \u001b[1;32mreturn\u001b[0m \u001b[0mself\u001b[0m\u001b[1;33m.\u001b[0m\u001b[0m_engine\u001b[0m\u001b[1;33m.\u001b[0m\u001b[0mget_loc\u001b[0m\u001b[1;33m(\u001b[0m\u001b[0mcasted_key\u001b[0m\u001b[1;33m)\u001b[0m\u001b[1;33m\u001b[0m\u001b[1;33m\u001b[0m\u001b[0m\n\u001b[0m\u001b[0;32m   3630\u001b[0m             \u001b[1;32mexcept\u001b[0m \u001b[0mKeyError\u001b[0m \u001b[1;32mas\u001b[0m \u001b[0merr\u001b[0m\u001b[1;33m:\u001b[0m\u001b[1;33m\u001b[0m\u001b[1;33m\u001b[0m\u001b[0m\n",
            "\u001b[1;32m~\\anaconda3\\lib\\site-packages\\pandas\\_libs\\index.pyx\u001b[0m in \u001b[0;36mpandas._libs.index.IndexEngine.get_loc\u001b[1;34m()\u001b[0m\n",
            "\u001b[1;32m~\\anaconda3\\lib\\site-packages\\pandas\\_libs\\index.pyx\u001b[0m in \u001b[0;36mpandas._libs.index.IndexEngine.get_loc\u001b[1;34m()\u001b[0m\n",
            "\u001b[1;32mpandas\\_libs\\hashtable_class_helper.pxi\u001b[0m in \u001b[0;36mpandas._libs.hashtable.PyObjectHashTable.get_item\u001b[1;34m()\u001b[0m\n",
            "\u001b[1;32mpandas\\_libs\\hashtable_class_helper.pxi\u001b[0m in \u001b[0;36mpandas._libs.hashtable.PyObjectHashTable.get_item\u001b[1;34m()\u001b[0m\n",
            "\u001b[1;31mKeyError\u001b[0m: 'new_price'",
            "\nThe above exception was the direct cause of the following exception:\n",
            "\u001b[1;31mKeyError\u001b[0m                                  Traceback (most recent call last)",
            "\u001b[1;32m~\\AppData\\Local\\Temp\\ipykernel_4696\\3494845845.py\u001b[0m in \u001b[0;36m<module>\u001b[1;34m\u001b[0m\n\u001b[0;32m      1\u001b[0m \u001b[0mlst\u001b[0m \u001b[1;33m=\u001b[0m\u001b[1;33m[\u001b[0m\u001b[1;36m1.69\u001b[0m\u001b[1;33m,\u001b[0m \u001b[1;36m2.39\u001b[0m\u001b[1;33m,\u001b[0m \u001b[1;36m3.39\u001b[0m\u001b[1;33m,\u001b[0m \u001b[1;36m4.45\u001b[0m\u001b[1;33m,\u001b[0m \u001b[1;36m9.25\u001b[0m\u001b[1;33m,\u001b[0m \u001b[1;36m10.98\u001b[0m\u001b[1;33m,\u001b[0m \u001b[1;36m11.75\u001b[0m\u001b[1;33m,\u001b[0m \u001b[1;36m16.98\u001b[0m\u001b[1;33m]\u001b[0m\u001b[1;33m\u001b[0m\u001b[1;33m\u001b[0m\u001b[0m\n\u001b[1;32m----> 2\u001b[1;33m \u001b[0mlen\u001b[0m\u001b[1;33m(\u001b[0m\u001b[0mdf\u001b[0m\u001b[1;33m[\u001b[0m\u001b[0mdf\u001b[0m\u001b[1;33m[\u001b[0m\u001b[1;34m'new_price'\u001b[0m\u001b[1;33m]\u001b[0m\u001b[1;33m.\u001b[0m\u001b[0misin\u001b[0m\u001b[1;33m(\u001b[0m\u001b[0mlst\u001b[0m\u001b[1;33m)\u001b[0m\u001b[1;33m]\u001b[0m\u001b[1;33m)\u001b[0m\u001b[1;33m\u001b[0m\u001b[1;33m\u001b[0m\u001b[0m\n\u001b[0m",
            "\u001b[1;32m~\\anaconda3\\lib\\site-packages\\pandas\\core\\frame.py\u001b[0m in \u001b[0;36m__getitem__\u001b[1;34m(self, key)\u001b[0m\n\u001b[0;32m   3503\u001b[0m             \u001b[1;32mif\u001b[0m \u001b[0mself\u001b[0m\u001b[1;33m.\u001b[0m\u001b[0mcolumns\u001b[0m\u001b[1;33m.\u001b[0m\u001b[0mnlevels\u001b[0m \u001b[1;33m>\u001b[0m \u001b[1;36m1\u001b[0m\u001b[1;33m:\u001b[0m\u001b[1;33m\u001b[0m\u001b[1;33m\u001b[0m\u001b[0m\n\u001b[0;32m   3504\u001b[0m                 \u001b[1;32mreturn\u001b[0m \u001b[0mself\u001b[0m\u001b[1;33m.\u001b[0m\u001b[0m_getitem_multilevel\u001b[0m\u001b[1;33m(\u001b[0m\u001b[0mkey\u001b[0m\u001b[1;33m)\u001b[0m\u001b[1;33m\u001b[0m\u001b[1;33m\u001b[0m\u001b[0m\n\u001b[1;32m-> 3505\u001b[1;33m             \u001b[0mindexer\u001b[0m \u001b[1;33m=\u001b[0m \u001b[0mself\u001b[0m\u001b[1;33m.\u001b[0m\u001b[0mcolumns\u001b[0m\u001b[1;33m.\u001b[0m\u001b[0mget_loc\u001b[0m\u001b[1;33m(\u001b[0m\u001b[0mkey\u001b[0m\u001b[1;33m)\u001b[0m\u001b[1;33m\u001b[0m\u001b[1;33m\u001b[0m\u001b[0m\n\u001b[0m\u001b[0;32m   3506\u001b[0m             \u001b[1;32mif\u001b[0m \u001b[0mis_integer\u001b[0m\u001b[1;33m(\u001b[0m\u001b[0mindexer\u001b[0m\u001b[1;33m)\u001b[0m\u001b[1;33m:\u001b[0m\u001b[1;33m\u001b[0m\u001b[1;33m\u001b[0m\u001b[0m\n\u001b[0;32m   3507\u001b[0m                 \u001b[0mindexer\u001b[0m \u001b[1;33m=\u001b[0m \u001b[1;33m[\u001b[0m\u001b[0mindexer\u001b[0m\u001b[1;33m]\u001b[0m\u001b[1;33m\u001b[0m\u001b[1;33m\u001b[0m\u001b[0m\n",
            "\u001b[1;32m~\\anaconda3\\lib\\site-packages\\pandas\\core\\indexes\\base.py\u001b[0m in \u001b[0;36mget_loc\u001b[1;34m(self, key, method, tolerance)\u001b[0m\n\u001b[0;32m   3629\u001b[0m                 \u001b[1;32mreturn\u001b[0m \u001b[0mself\u001b[0m\u001b[1;33m.\u001b[0m\u001b[0m_engine\u001b[0m\u001b[1;33m.\u001b[0m\u001b[0mget_loc\u001b[0m\u001b[1;33m(\u001b[0m\u001b[0mcasted_key\u001b[0m\u001b[1;33m)\u001b[0m\u001b[1;33m\u001b[0m\u001b[1;33m\u001b[0m\u001b[0m\n\u001b[0;32m   3630\u001b[0m             \u001b[1;32mexcept\u001b[0m \u001b[0mKeyError\u001b[0m \u001b[1;32mas\u001b[0m \u001b[0merr\u001b[0m\u001b[1;33m:\u001b[0m\u001b[1;33m\u001b[0m\u001b[1;33m\u001b[0m\u001b[0m\n\u001b[1;32m-> 3631\u001b[1;33m                 \u001b[1;32mraise\u001b[0m \u001b[0mKeyError\u001b[0m\u001b[1;33m(\u001b[0m\u001b[0mkey\u001b[0m\u001b[1;33m)\u001b[0m \u001b[1;32mfrom\u001b[0m \u001b[0merr\u001b[0m\u001b[1;33m\u001b[0m\u001b[1;33m\u001b[0m\u001b[0m\n\u001b[0m\u001b[0;32m   3632\u001b[0m             \u001b[1;32mexcept\u001b[0m \u001b[0mTypeError\u001b[0m\u001b[1;33m:\u001b[0m\u001b[1;33m\u001b[0m\u001b[1;33m\u001b[0m\u001b[0m\n\u001b[0;32m   3633\u001b[0m                 \u001b[1;31m# If we have a listlike key, _check_indexing_error will raise\u001b[0m\u001b[1;33m\u001b[0m\u001b[1;33m\u001b[0m\u001b[0m\n",
            "\u001b[1;31mKeyError\u001b[0m: 'new_price'"
          ]
        }
      ],
      "source": [
        "lst =[1.69, 2.39, 3.39, 4.45, 9.25, 10.98, 11.75, 16.98]\n",
        "len(df[df['new_price'].isin(lst)])"
      ]
    },
    {
      "cell_type": "code",
      "execution_count": null,
      "id": "b0bb9e8c-868a-4637-a1b5-c2a052e841e5",
      "metadata": {
        "ExecuteTime": {
          "end_time": "2022-02-19T18:22:28.482634Z",
          "start_time": "2022-02-19T18:22:28.471545Z"
        },
        "id": "b0bb9e8c-868a-4637-a1b5-c2a052e841e5",
        "outputId": "f8ca8e82-a53e-4490-c6bd-21b5679d18ed"
      },
      "outputs": [
        {
          "name": "stdout",
          "output_type": "stream",
          "text": [
            "6\n"
          ]
        }
      ],
      "source": [
        "Ans.head(3)\n",
        "print(len(Ans))"
      ]
    },
    {
      "cell_type": "markdown",
      "id": "adbfe7e4-c36d-4307-bd90-80eb39751e5a",
      "metadata": {
        "id": "adbfe7e4-c36d-4307-bd90-80eb39751e5a"
      },
      "source": [
        ">"
      ]
    },
    {
      "cell_type": "markdown",
      "id": "0b9c8b9a-0ea6-4e24-b89a-a37f07ea7b88",
      "metadata": {
        "id": "0b9c8b9a-0ea6-4e24-b89a-a37f07ea7b88"
      },
      "source": [
        ">"
      ]
    }
  ],
  "metadata": {
    "kernelspec": {
      "display_name": "Python 3 (ipykernel)",
      "language": "python",
      "name": "python3"
    },
    "language_info": {
      "codemirror_mode": {
        "name": "ipython",
        "version": 3
      },
      "file_extension": ".py",
      "mimetype": "text/x-python",
      "name": "python",
      "nbconvert_exporter": "python",
      "pygments_lexer": "ipython3",
      "version": "3.9.13"
    },
    "colab": {
      "provenance": []
    }
  },
  "nbformat": 4,
  "nbformat_minor": 5
}